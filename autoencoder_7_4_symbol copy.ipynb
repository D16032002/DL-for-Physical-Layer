{
 "cells": [
  {
   "cell_type": "code",
   "execution_count": 2,
   "metadata": {},
   "outputs": [],
   "source": [
    "# importing libs\n",
    "import numpy as np\n",
    "import tensorflow as tf\n",
    "from keras.layers import Input, Dense, GaussianNoise\n",
    "from keras.models import Model\n",
    "from keras import regularizers\n",
    "# from keras.layers.normalization import BatchNormalization\n",
    "from tensorflow.keras.layers import BatchNormalization\n",
    "from keras.optimizers import SGD\n",
    "import random as rn"
   ]
  },
  {
   "cell_type": "code",
   "execution_count": 3,
   "metadata": {},
   "outputs": [
    {
     "name": "stdout",
     "output_type": "stream",
     "text": [
      "M: 16 k: 4\n"
     ]
    }
   ],
   "source": [
    "# defining parameters\n",
    "M = 16 \n",
    "k = np.log2(M)\n",
    "k = int(k)\n",
    "print ('M:',M,'k:',k)"
   ]
  },
  {
   "cell_type": "code",
   "execution_count": 4,
   "metadata": {
    "collapsed": true
   },
   "outputs": [],
   "source": [
    "#generating data of size N\n",
    "N = 10000\n",
    "label = np.random.randint(M,size=N)"
   ]
  },
  {
   "cell_type": "code",
   "execution_count": 5,
   "metadata": {
    "collapsed": true
   },
   "outputs": [],
   "source": [
    "# creating one hot encoded vectors\n",
    "data = []\n",
    "for i in label:\n",
    "    temp = np.zeros(M)\n",
    "    temp[i] = 1\n",
    "    data.append(temp)"
   ]
  },
  {
   "cell_type": "code",
   "execution_count": 6,
   "metadata": {},
   "outputs": [
    {
     "name": "stdout",
     "output_type": "stream",
     "text": [
      "(10000, 16)\n"
     ]
    }
   ],
   "source": [
    "data = np.array(data)\n",
    "print (data.shape)"
   ]
  },
  {
   "cell_type": "code",
   "execution_count": 7,
   "metadata": {},
   "outputs": [
    {
     "name": "stdout",
     "output_type": "stream",
     "text": [
      "14 [0. 0. 0. 0. 0. 0. 0. 0. 0. 0. 0. 0. 0. 0. 1. 0.]\n",
      "8 [0. 0. 0. 0. 0. 0. 0. 0. 1. 0. 0. 0. 0. 0. 0. 0.]\n",
      "8 [0. 0. 0. 0. 0. 0. 0. 0. 1. 0. 0. 0. 0. 0. 0. 0.]\n",
      "12 [0. 0. 0. 0. 0. 0. 0. 0. 0. 0. 0. 0. 1. 0. 0. 0.]\n",
      "6 [0. 0. 0. 0. 0. 0. 1. 0. 0. 0. 0. 0. 0. 0. 0. 0.]\n",
      "5 [0. 0. 0. 0. 0. 1. 0. 0. 0. 0. 0. 0. 0. 0. 0. 0.]\n",
      "7 [0. 0. 0. 0. 0. 0. 0. 1. 0. 0. 0. 0. 0. 0. 0. 0.]\n",
      "4 [0. 0. 0. 0. 1. 0. 0. 0. 0. 0. 0. 0. 0. 0. 0. 0.]\n",
      "12 [0. 0. 0. 0. 0. 0. 0. 0. 0. 0. 0. 0. 1. 0. 0. 0.]\n"
     ]
    }
   ],
   "source": [
    "temp_check = [17,23,45,67,89,96,72,250,350]\n",
    "for i in temp_check:\n",
    "    print(label[i],data[i])"
   ]
  },
  {
   "cell_type": "code",
   "execution_count": 8,
   "metadata": {},
   "outputs": [
    {
     "name": "stdout",
     "output_type": "stream",
     "text": [
      "7\n"
     ]
    }
   ],
   "source": [
    "R = 4/7\n",
    "n_channel = 7\n",
    "print (int(k/R))\n",
    "input_signal = Input(shape=(M,))\n",
    "encoded = Dense(M, activation='relu')(input_signal)\n",
    "encoded1 = Dense(n_channel, activation='linear')(encoded)\n",
    "encoded2 = BatchNormalization()(encoded1)\n",
    "\n",
    "EbNo_train = 5.01187 #  coverted 7 db of EbNo\n",
    "encoded3 = GaussianNoise(np.sqrt(1/(2*R*EbNo_train)))(encoded2)\n",
    "\n",
    "decoded = Dense(M, activation='relu')(encoded3)\n",
    "decoded1 = Dense(M, activation='softmax')(decoded)\n",
    "\n",
    "autoencoder = Model(input_signal, decoded1)\n",
    "#sgd = SGD(lr=0.001)\n",
    "autoencoder.compile(optimizer='adam', loss='categorical_crossentropy')"
   ]
  },
  {
   "cell_type": "code",
   "execution_count": 9,
   "metadata": {},
   "outputs": [
    {
     "name": "stdout",
     "output_type": "stream",
     "text": [
      "Model: \"model\"\n",
      "_________________________________________________________________\n",
      " Layer (type)                Output Shape              Param #   \n",
      "=================================================================\n",
      " input_1 (InputLayer)        [(None, 16)]              0         \n",
      "                                                                 \n",
      " dense (Dense)               (None, 16)                272       \n",
      "                                                                 \n",
      " dense_1 (Dense)             (None, 7)                 119       \n",
      "                                                                 \n",
      " batch_normalization (BatchN  (None, 7)                28        \n",
      " ormalization)                                                   \n",
      "                                                                 \n",
      " gaussian_noise (GaussianNoi  (None, 7)                0         \n",
      " se)                                                             \n",
      "                                                                 \n",
      " dense_2 (Dense)             (None, 16)                128       \n",
      "                                                                 \n",
      " dense_3 (Dense)             (None, 16)                272       \n",
      "                                                                 \n",
      "=================================================================\n",
      "Total params: 819\n",
      "Trainable params: 805\n",
      "Non-trainable params: 14\n",
      "_________________________________________________________________\n",
      "None\n"
     ]
    }
   ],
   "source": [
    "print (autoencoder.summary())"
   ]
  },
  {
   "cell_type": "code",
   "execution_count": 10,
   "metadata": {
    "collapsed": true
   },
   "outputs": [],
   "source": [
    "N_val = 1500\n",
    "val_label = np.random.randint(M,size=N_val)\n",
    "val_data = []\n",
    "for i in val_label:\n",
    "    temp = np.zeros(M)\n",
    "    temp[i] = 1\n",
    "    val_data.append(temp)\n",
    "val_data = np.array(val_data)"
   ]
  },
  {
   "cell_type": "code",
   "execution_count": 11,
   "metadata": {
    "scrolled": true
   },
   "outputs": [
    {
     "name": "stdout",
     "output_type": "stream",
     "text": [
      "Epoch 1/100\n",
      "34/34 [==============================] - 3s 26ms/step - loss: 2.6820 - val_loss: 2.6961\n",
      "Epoch 2/100\n",
      "34/34 [==============================] - 0s 8ms/step - loss: 2.1882 - val_loss: 2.5580\n",
      "Epoch 3/100\n",
      "34/34 [==============================] - 0s 7ms/step - loss: 1.7674 - val_loss: 2.3583\n",
      "Epoch 4/100\n",
      "34/34 [==============================] - 0s 11ms/step - loss: 1.3940 - val_loss: 2.0911\n",
      "Epoch 5/100\n",
      "34/34 [==============================] - 0s 9ms/step - loss: 1.0597 - val_loss: 1.7662\n",
      "Epoch 6/100\n",
      "34/34 [==============================] - 0s 6ms/step - loss: 0.7861 - val_loss: 1.4141\n",
      "Epoch 7/100\n",
      "34/34 [==============================] - 0s 6ms/step - loss: 0.5682 - val_loss: 1.0537\n",
      "Epoch 8/100\n",
      "34/34 [==============================] - 0s 7ms/step - loss: 0.3981 - val_loss: 0.7281\n",
      "Epoch 9/100\n",
      "34/34 [==============================] - 0s 9ms/step - loss: 0.2807 - val_loss: 0.4649\n",
      "Epoch 10/100\n",
      "34/34 [==============================] - 0s 8ms/step - loss: 0.2001 - val_loss: 0.2847\n",
      "Epoch 11/100\n",
      "34/34 [==============================] - 0s 8ms/step - loss: 0.1476 - val_loss: 0.1723\n",
      "Epoch 12/100\n",
      "34/34 [==============================] - 0s 9ms/step - loss: 0.1100 - val_loss: 0.1071\n",
      "Epoch 13/100\n",
      "34/34 [==============================] - 0s 9ms/step - loss: 0.0869 - val_loss: 0.0697\n",
      "Epoch 14/100\n",
      "34/34 [==============================] - 0s 11ms/step - loss: 0.0702 - val_loss: 0.0477\n",
      "Epoch 15/100\n",
      "34/34 [==============================] - 0s 11ms/step - loss: 0.0574 - val_loss: 0.0342\n",
      "Epoch 16/100\n",
      "34/34 [==============================] - 0s 9ms/step - loss: 0.0469 - val_loss: 0.0258\n",
      "Epoch 17/100\n",
      "34/34 [==============================] - 0s 7ms/step - loss: 0.0415 - val_loss: 0.0203\n",
      "Epoch 18/100\n",
      "34/34 [==============================] - 0s 7ms/step - loss: 0.0349 - val_loss: 0.0163\n",
      "Epoch 19/100\n",
      "34/34 [==============================] - 0s 5ms/step - loss: 0.0300 - val_loss: 0.0134\n",
      "Epoch 20/100\n",
      "34/34 [==============================] - 0s 6ms/step - loss: 0.0267 - val_loss: 0.0114\n",
      "Epoch 21/100\n",
      "34/34 [==============================] - 0s 6ms/step - loss: 0.0237 - val_loss: 0.0098\n",
      "Epoch 22/100\n",
      "34/34 [==============================] - 0s 8ms/step - loss: 0.0207 - val_loss: 0.0085\n",
      "Epoch 23/100\n",
      "34/34 [==============================] - 0s 8ms/step - loss: 0.0190 - val_loss: 0.0075\n",
      "Epoch 24/100\n",
      "34/34 [==============================] - 0s 6ms/step - loss: 0.0171 - val_loss: 0.0066\n",
      "Epoch 25/100\n",
      "34/34 [==============================] - 0s 6ms/step - loss: 0.0154 - val_loss: 0.0059\n",
      "Epoch 26/100\n",
      "34/34 [==============================] - 0s 6ms/step - loss: 0.0141 - val_loss: 0.0053\n",
      "Epoch 27/100\n",
      "34/34 [==============================] - 0s 6ms/step - loss: 0.0128 - val_loss: 0.0047\n",
      "Epoch 28/100\n",
      "34/34 [==============================] - 0s 7ms/step - loss: 0.0116 - val_loss: 0.0043\n",
      "Epoch 29/100\n",
      "34/34 [==============================] - 0s 8ms/step - loss: 0.0110 - val_loss: 0.0039\n",
      "Epoch 30/100\n",
      "34/34 [==============================] - 0s 11ms/step - loss: 0.0095 - val_loss: 0.0036\n",
      "Epoch 31/100\n",
      "34/34 [==============================] - 0s 9ms/step - loss: 0.0093 - val_loss: 0.0033\n",
      "Epoch 32/100\n",
      "34/34 [==============================] - 0s 9ms/step - loss: 0.0085 - val_loss: 0.0030\n",
      "Epoch 33/100\n",
      "34/34 [==============================] - 0s 14ms/step - loss: 0.0079 - val_loss: 0.0028\n",
      "Epoch 34/100\n",
      "34/34 [==============================] - 0s 10ms/step - loss: 0.0074 - val_loss: 0.0026\n",
      "Epoch 35/100\n",
      "34/34 [==============================] - 0s 9ms/step - loss: 0.0069 - val_loss: 0.0024\n",
      "Epoch 36/100\n",
      "34/34 [==============================] - 0s 6ms/step - loss: 0.0065 - val_loss: 0.0022\n",
      "Epoch 37/100\n",
      "34/34 [==============================] - 0s 6ms/step - loss: 0.0062 - val_loss: 0.0020\n",
      "Epoch 38/100\n",
      "34/34 [==============================] - 0s 7ms/step - loss: 0.0056 - val_loss: 0.0019\n",
      "Epoch 39/100\n",
      "34/34 [==============================] - 0s 8ms/step - loss: 0.0056 - val_loss: 0.0018\n",
      "Epoch 40/100\n",
      "34/34 [==============================] - 0s 9ms/step - loss: 0.0049 - val_loss: 0.0017\n",
      "Epoch 41/100\n",
      "34/34 [==============================] - 0s 9ms/step - loss: 0.0048 - val_loss: 0.0015\n",
      "Epoch 42/100\n",
      "34/34 [==============================] - 0s 9ms/step - loss: 0.0045 - val_loss: 0.0015\n",
      "Epoch 43/100\n",
      "34/34 [==============================] - 0s 11ms/step - loss: 0.0043 - val_loss: 0.0014\n",
      "Epoch 44/100\n",
      "34/34 [==============================] - 0s 9ms/step - loss: 0.0041 - val_loss: 0.0013\n",
      "Epoch 45/100\n",
      "34/34 [==============================] - 0s 6ms/step - loss: 0.0038 - val_loss: 0.0012\n",
      "Epoch 46/100\n",
      "34/34 [==============================] - 0s 6ms/step - loss: 0.0037 - val_loss: 0.0011\n",
      "Epoch 47/100\n",
      "34/34 [==============================] - 0s 7ms/step - loss: 0.0035 - val_loss: 0.0011\n",
      "Epoch 48/100\n",
      "34/34 [==============================] - 0s 8ms/step - loss: 0.0033 - val_loss: 0.0010\n",
      "Epoch 49/100\n",
      "34/34 [==============================] - 0s 8ms/step - loss: 0.0031 - val_loss: 9.5672e-04\n",
      "Epoch 50/100\n",
      "34/34 [==============================] - 0s 11ms/step - loss: 0.0031 - val_loss: 8.9776e-04\n",
      "Epoch 51/100\n",
      "34/34 [==============================] - 0s 10ms/step - loss: 0.0028 - val_loss: 8.6004e-04\n",
      "Epoch 52/100\n",
      "34/34 [==============================] - 0s 9ms/step - loss: 0.0028 - val_loss: 8.1469e-04\n",
      "Epoch 53/100\n",
      "34/34 [==============================] - 0s 7ms/step - loss: 0.0027 - val_loss: 7.7274e-04\n",
      "Epoch 54/100\n",
      "34/34 [==============================] - 0s 7ms/step - loss: 0.0025 - val_loss: 7.3576e-04\n",
      "Epoch 55/100\n",
      "34/34 [==============================] - 0s 8ms/step - loss: 0.0024 - val_loss: 6.9951e-04\n",
      "Epoch 56/100\n",
      "34/34 [==============================] - 0s 7ms/step - loss: 0.0023 - val_loss: 6.5819e-04\n",
      "Epoch 57/100\n",
      "34/34 [==============================] - 0s 6ms/step - loss: 0.0022 - val_loss: 6.2418e-04\n",
      "Epoch 58/100\n",
      "34/34 [==============================] - 0s 8ms/step - loss: 0.0022 - val_loss: 5.9806e-04\n",
      "Epoch 59/100\n",
      "34/34 [==============================] - 0s 7ms/step - loss: 0.0020 - val_loss: 5.7033e-04\n",
      "Epoch 60/100\n",
      "34/34 [==============================] - 0s 7ms/step - loss: 0.0021 - val_loss: 5.4086e-04\n",
      "Epoch 61/100\n",
      "34/34 [==============================] - 0s 5ms/step - loss: 0.0019 - val_loss: 5.1581e-04\n",
      "Epoch 62/100\n",
      "34/34 [==============================] - 0s 6ms/step - loss: 0.0018 - val_loss: 4.9652e-04\n",
      "Epoch 63/100\n",
      "34/34 [==============================] - 0s 9ms/step - loss: 0.0017 - val_loss: 4.8307e-04\n",
      "Epoch 64/100\n",
      "34/34 [==============================] - 0s 6ms/step - loss: 0.0017 - val_loss: 4.6105e-04\n",
      "Epoch 65/100\n",
      "34/34 [==============================] - 0s 7ms/step - loss: 0.0016 - val_loss: 4.3947e-04\n",
      "Epoch 66/100\n",
      "34/34 [==============================] - 0s 7ms/step - loss: 0.0015 - val_loss: 4.1999e-04\n",
      "Epoch 67/100\n",
      "34/34 [==============================] - 0s 7ms/step - loss: 0.0015 - val_loss: 4.0330e-04\n",
      "Epoch 68/100\n",
      "34/34 [==============================] - 0s 6ms/step - loss: 0.0015 - val_loss: 3.8369e-04\n",
      "Epoch 69/100\n",
      "34/34 [==============================] - 0s 6ms/step - loss: 0.0014 - val_loss: 3.6728e-04\n",
      "Epoch 70/100\n",
      "34/34 [==============================] - 0s 8ms/step - loss: 0.0014 - val_loss: 3.5208e-04\n",
      "Epoch 71/100\n",
      "34/34 [==============================] - 0s 6ms/step - loss: 0.0013 - val_loss: 3.3806e-04\n",
      "Epoch 72/100\n",
      "34/34 [==============================] - 0s 7ms/step - loss: 0.0013 - val_loss: 3.2523e-04\n",
      "Epoch 73/100\n",
      "34/34 [==============================] - 0s 6ms/step - loss: 0.0013 - val_loss: 3.1215e-04\n",
      "Epoch 74/100\n",
      "34/34 [==============================] - 0s 7ms/step - loss: 0.0012 - val_loss: 2.9809e-04\n",
      "Epoch 75/100\n",
      "34/34 [==============================] - 0s 10ms/step - loss: 0.0011 - val_loss: 2.8762e-04\n",
      "Epoch 76/100\n",
      "34/34 [==============================] - 0s 8ms/step - loss: 0.0011 - val_loss: 2.7668e-04\n",
      "Epoch 77/100\n",
      "34/34 [==============================] - 0s 7ms/step - loss: 0.0011 - val_loss: 2.6567e-04\n",
      "Epoch 78/100\n",
      "34/34 [==============================] - 0s 9ms/step - loss: 0.0010 - val_loss: 2.5717e-04\n",
      "Epoch 79/100\n",
      "34/34 [==============================] - 0s 8ms/step - loss: 9.8297e-04 - val_loss: 2.4555e-04\n",
      "Epoch 80/100\n",
      "34/34 [==============================] - 0s 8ms/step - loss: 9.5064e-04 - val_loss: 2.3795e-04\n",
      "Epoch 81/100\n",
      "34/34 [==============================] - 0s 6ms/step - loss: 9.6513e-04 - val_loss: 2.2933e-04\n",
      "Epoch 82/100\n",
      "34/34 [==============================] - 0s 6ms/step - loss: 9.1463e-04 - val_loss: 2.1858e-04\n",
      "Epoch 83/100\n",
      "34/34 [==============================] - 0s 6ms/step - loss: 8.8804e-04 - val_loss: 2.1174e-04\n",
      "Epoch 84/100\n",
      "34/34 [==============================] - 0s 6ms/step - loss: 9.0058e-04 - val_loss: 2.0461e-04\n",
      "Epoch 85/100\n",
      "34/34 [==============================] - 0s 8ms/step - loss: 8.1697e-04 - val_loss: 1.9672e-04\n",
      "Epoch 86/100\n",
      "34/34 [==============================] - 0s 6ms/step - loss: 7.5258e-04 - val_loss: 1.9012e-04\n",
      "Epoch 87/100\n",
      "34/34 [==============================] - 0s 10ms/step - loss: 8.1619e-04 - val_loss: 1.8409e-04\n",
      "Epoch 88/100\n",
      "34/34 [==============================] - 0s 6ms/step - loss: 7.6484e-04 - val_loss: 1.7896e-04\n",
      "Epoch 89/100\n",
      "34/34 [==============================] - 0s 6ms/step - loss: 7.5149e-04 - val_loss: 1.7154e-04\n",
      "Epoch 90/100\n",
      "34/34 [==============================] - 0s 7ms/step - loss: 6.9840e-04 - val_loss: 1.6438e-04\n",
      "Epoch 91/100\n",
      "34/34 [==============================] - 0s 7ms/step - loss: 7.0654e-04 - val_loss: 1.5845e-04\n",
      "Epoch 92/100\n",
      "34/34 [==============================] - 0s 6ms/step - loss: 7.1726e-04 - val_loss: 1.5354e-04\n",
      "Epoch 93/100\n",
      "34/34 [==============================] - 0s 6ms/step - loss: 6.5349e-04 - val_loss: 1.4860e-04\n",
      "Epoch 94/100\n",
      "34/34 [==============================] - 0s 10ms/step - loss: 6.3981e-04 - val_loss: 1.4335e-04\n",
      "Epoch 95/100\n",
      "34/34 [==============================] - 0s 7ms/step - loss: 5.9603e-04 - val_loss: 1.3952e-04\n",
      "Epoch 96/100\n",
      "34/34 [==============================] - 0s 7ms/step - loss: 5.9954e-04 - val_loss: 1.3425e-04\n",
      "Epoch 97/100\n",
      "34/34 [==============================] - 0s 7ms/step - loss: 5.7732e-04 - val_loss: 1.3046e-04\n",
      "Epoch 98/100\n",
      "34/34 [==============================] - 0s 10ms/step - loss: 5.6835e-04 - val_loss: 1.2617e-04\n",
      "Epoch 99/100\n",
      "34/34 [==============================] - 0s 6ms/step - loss: 5.9070e-04 - val_loss: 1.2078e-04\n",
      "Epoch 100/100\n",
      "34/34 [==============================] - 0s 6ms/step - loss: 5.6502e-04 - val_loss: 1.1655e-04\n"
     ]
    },
    {
     "data": {
      "text/plain": [
       "<keras.callbacks.History at 0x1a6e009bc70>"
      ]
     },
     "execution_count": 11,
     "metadata": {},
     "output_type": "execute_result"
    }
   ],
   "source": [
    "autoencoder.fit(data, data,\n",
    "                epochs=100,\n",
    "                batch_size=300,\n",
    "                validation_data=(val_data, val_data))"
   ]
  },
  {
   "cell_type": "code",
   "execution_count": 12,
   "metadata": {
    "collapsed": true
   },
   "outputs": [],
   "source": [
    "from keras.models import load_model\n",
    "#autoencoder.save('4_7_symbol_autoencoder_v_best.model')"
   ]
  },
  {
   "cell_type": "code",
   "execution_count": 13,
   "metadata": {
    "collapsed": true
   },
   "outputs": [],
   "source": [
    "#autoencoder_loaded = load_model('4_7_symbol_autoencoder_v_best.model')"
   ]
  },
  {
   "cell_type": "code",
   "execution_count": 14,
   "metadata": {
    "collapsed": true
   },
   "outputs": [],
   "source": [
    "encoder = Model(input_signal, encoded2)"
   ]
  },
  {
   "cell_type": "code",
   "execution_count": 15,
   "metadata": {
    "collapsed": true
   },
   "outputs": [],
   "source": [
    "encoded_input = Input(shape=(n_channel,))\n",
    "\n",
    "deco = autoencoder.layers[-2](encoded_input)\n",
    "deco = autoencoder.layers[-1](deco)\n",
    "# create the decoder model\n",
    "decoder = Model(encoded_input, deco)"
   ]
  },
  {
   "cell_type": "code",
   "execution_count": 16,
   "metadata": {
    "collapsed": true
   },
   "outputs": [],
   "source": [
    "N = 45000\n",
    "test_label = np.random.randint(M,size=N)\n",
    "test_data = []\n",
    "\n",
    "for i in test_label:\n",
    "    temp = np.zeros(M)\n",
    "    temp[i] = 1\n",
    "    test_data.append(temp)\n",
    "    \n",
    "test_data = np.array(test_data)"
   ]
  },
  {
   "cell_type": "code",
   "execution_count": 17,
   "metadata": {},
   "outputs": [
    {
     "name": "stdout",
     "output_type": "stream",
     "text": [
      "1.0 11\n"
     ]
    }
   ],
   "source": [
    "temp_test = 6\n",
    "print (test_data[temp_test][test_label[temp_test]],test_label[temp_test])"
   ]
  },
  {
   "cell_type": "code",
   "execution_count": 18,
   "metadata": {},
   "outputs": [
    {
     "data": {
      "text/plain": [
       "<keras.engine.functional.Functional at 0x1a6e009a020>"
      ]
     },
     "execution_count": 18,
     "metadata": {},
     "output_type": "execute_result"
    }
   ],
   "source": [
    "autoencoder"
   ]
  },
  {
   "cell_type": "code",
   "execution_count": 19,
   "metadata": {
    "collapsed": true
   },
   "outputs": [],
   "source": [
    "def frange(x, y, jump):\n",
    "  while x < y:\n",
    "    yield x\n",
    "    x += jump"
   ]
  },
  {
   "cell_type": "code",
   "execution_count": 20,
   "metadata": {},
   "outputs": [
    {
     "name": "stdout",
     "output_type": "stream",
     "text": [
      "1407/1407 [==============================] - 6s 4ms/step\n",
      "1407/1407 [==============================] - 5s 4ms/step\n",
      "SNR: -4 BER: 0.21624444444444443\n",
      "1407/1407 [==============================] - 5s 4ms/step\n",
      "1407/1407 [==============================] - 5s 3ms/step\n",
      "SNR: -3.5 BER: 0.1761111111111111\n",
      "1407/1407 [==============================] - 5s 3ms/step\n",
      "1407/1407 [==============================] - 5s 4ms/step\n",
      "SNR: -3.0 BER: 0.14893333333333333\n",
      "1407/1407 [==============================] - 4s 3ms/step\n",
      "1407/1407 [==============================] - 5s 3ms/step\n",
      "SNR: -2.5 BER: 0.11597777777777778\n",
      "1407/1407 [==============================] - 4s 3ms/step\n",
      "1407/1407 [==============================] - 5s 3ms/step\n",
      "SNR: -2.0 BER: 0.09071111111111112\n",
      "1407/1407 [==============================] - 5s 3ms/step\n",
      "1407/1407 [==============================] - 5s 3ms/step\n",
      "SNR: -1.5 BER: 0.06655555555555556\n",
      "1407/1407 [==============================] - 9s 6ms/step\n",
      "1407/1407 [==============================] - 6s 4ms/step\n",
      "SNR: -1.0 BER: 0.04953333333333333\n",
      "1407/1407 [==============================] - 6s 4ms/step\n",
      "1407/1407 [==============================] - 6s 4ms/step\n",
      "SNR: -0.5 BER: 0.0344\n",
      "1407/1407 [==============================] - 7s 5ms/step\n",
      "1407/1407 [==============================] - 6s 4ms/step\n",
      "SNR: 0.0 BER: 0.0226\n",
      "1407/1407 [==============================] - 5s 3ms/step\n",
      "1407/1407 [==============================] - 5s 3ms/step\n",
      "SNR: 0.5 BER: 0.014777777777777779\n",
      "1407/1407 [==============================] - 5s 3ms/step\n",
      "1407/1407 [==============================] - 4s 3ms/step\n",
      "SNR: 1.0 BER: 0.009822222222222222\n",
      "1407/1407 [==============================] - 5s 3ms/step\n",
      "1407/1407 [==============================] - 5s 3ms/step\n",
      "SNR: 1.5 BER: 0.005533333333333334\n",
      "1407/1407 [==============================] - 5s 3ms/step\n",
      "1407/1407 [==============================] - 6s 4ms/step\n",
      "SNR: 2.0 BER: 0.0026222222222222224\n",
      "1407/1407 [==============================] - 5s 4ms/step\n",
      "1407/1407 [==============================] - 5s 3ms/step\n",
      "SNR: 2.5 BER: 0.0011111111111111111\n",
      "1407/1407 [==============================] - 5s 4ms/step\n",
      "1407/1407 [==============================] - 5s 3ms/step\n",
      "SNR: 3.0 BER: 0.0006222222222222223\n",
      "1407/1407 [==============================] - 5s 3ms/step\n",
      "1407/1407 [==============================] - 5s 4ms/step\n",
      "SNR: 3.5 BER: 0.0002666666666666667\n",
      "1407/1407 [==============================] - 5s 3ms/step\n",
      "1407/1407 [==============================] - 5s 3ms/step\n",
      "SNR: 4.0 BER: 0.00013333333333333334\n",
      "1407/1407 [==============================] - 5s 3ms/step\n",
      "1407/1407 [==============================] - 5s 3ms/step\n",
      "SNR: 4.5 BER: 2.2222222222222223e-05\n",
      "1407/1407 [==============================] - 5s 4ms/step\n",
      "1407/1407 [==============================] - 5s 4ms/step\n",
      "SNR: 5.0 BER: 0.0\n",
      "1407/1407 [==============================] - 5s 3ms/step\n",
      "1407/1407 [==============================] - 6s 4ms/step\n",
      "SNR: 5.5 BER: 0.0\n",
      "1407/1407 [==============================] - 7s 5ms/step\n",
      "1407/1407 [==============================] - 5s 4ms/step\n",
      "SNR: 6.0 BER: 0.0\n",
      "1407/1407 [==============================] - 5s 4ms/step\n",
      "1407/1407 [==============================] - 7s 5ms/step\n",
      "SNR: 6.5 BER: 0.0\n",
      "1407/1407 [==============================] - 6s 4ms/step\n",
      "1407/1407 [==============================] - 6s 4ms/step\n",
      "SNR: 7.0 BER: 0.0\n",
      "1407/1407 [==============================] - 5s 4ms/step\n",
      "1407/1407 [==============================] - 6s 4ms/step\n",
      "SNR: 7.5 BER: 0.0\n",
      "1407/1407 [==============================] - 5s 4ms/step\n",
      "1407/1407 [==============================] - 6s 4ms/step\n",
      "SNR: 8.0 BER: 0.0\n"
     ]
    }
   ],
   "source": [
    "EbNodB_range = list(frange(-4,8.5,0.5))\n",
    "ber = [None]*len(EbNodB_range)\n",
    "for n in range(0,len(EbNodB_range)):\n",
    "    EbNo=10.0**(EbNodB_range[n]/10.0)\n",
    "    noise_std = np.sqrt(1/(2*R*EbNo))\n",
    "    noise_mean = 0\n",
    "    no_errors = 0\n",
    "    nn = N\n",
    "    noise = noise_std * np.random.randn(nn,n_channel)\n",
    "    encoded_signal = encoder.predict(test_data) \n",
    "    final_signal = encoded_signal + noise\n",
    "    pred_final_signal =  decoder.predict(final_signal)\n",
    "    pred_output = np.argmax(pred_final_signal,axis=1)\n",
    "    no_errors = (pred_output != test_label)\n",
    "    no_errors =  no_errors.astype(int).sum()\n",
    "    ber[n] = no_errors / nn \n",
    "    print ('SNR:',EbNodB_range[n],'BER:',ber[n])"
   ]
  },
  {
   "cell_type": "code",
   "execution_count": 21,
   "metadata": {},
   "outputs": [
    {
     "data": {
      "text/plain": [
       "<matplotlib.legend.Legend at 0x1a6e157e3e0>"
      ]
     },
     "execution_count": 21,
     "metadata": {},
     "output_type": "execute_result"
    },
    {
     "data": {
      "image/png": "[encoded data removed]",
      "text/plain": [
       "<Figure size 432x288 with 1 Axes>"
      ]
     },
     "metadata": {
      "needs_background": "light"
     },
     "output_type": "display_data"
    }
   ],
   "source": [
    "import matplotlib.pyplot as plt\n",
    "plt.plot(EbNodB_range, ber, 'bo',label='Autoencoder(7,4)')\n",
    "#plt.plot(list(EbNodB_range), ber_theory, 'ro-',label='BPSK BER')\n",
    "plt.yscale('log')\n",
    "plt.xlabel('SNR Range')\n",
    "plt.ylabel('Block Error Rate')\n",
    "plt.grid()\n",
    "plt.legend(loc='upper right',ncol = 1)"
   ]
  },
  {
   "cell_type": "code",
   "execution_count": 22,
   "metadata": {},
   "outputs": [
    {
     "data": {
      "text/plain": [
       "<Figure size 432x288 with 0 Axes>"
      ]
     },
     "metadata": {},
     "output_type": "display_data"
    }
   ],
   "source": [
    "plt.savefig('AutoEncoder_7_4_BER_matplotlib')\n",
    "plt.show()"
   ]
  },
  {
   "cell_type": "code",
   "execution_count": null,
   "metadata": {
    "collapsed": true
   },
   "outputs": [],
   "source": []
  }
 ],
 "metadata": {
  "anaconda-cloud": {},
  "kernelspec": {
   "display_name": "Python 3",
   "language": "python",
   "name": "python3"
  },
  "language_info": {
   "codemirror_mode": {
    "name": "ipython",
    "version": 3
   },
   "file_extension": ".py",
   "mimetype": "text/x-python",
   "name": "python",
   "nbconvert_exporter": "python",
   "pygments_lexer": "ipython3",
   "version": "3.10.0"
  }
 },
 "nbformat": 4,
 "nbformat_minor": 2
}
