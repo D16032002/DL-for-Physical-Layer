{
 "cells": [
  {
   "cell_type": "code",
   "execution_count": 5,
   "id": "788f4853",
   "metadata": {},
   "outputs": [
    {
     "name": "stdout",
     "output_type": "stream",
     "text": [
      "Collecting theano\n",
      "  Downloading Theano-1.0.5.tar.gz (2.8 MB)\n",
      "     ---------------------------------------- 0.0/2.8 MB ? eta -:--:--\n",
      "     ---------------------------------------- 0.0/2.8 MB ? eta -:--:--\n",
      "     ---------------------------------------- 0.0/2.8 MB ? eta -:--:--\n",
      "     ---------------------------------------- 0.0/2.8 MB 186.2 kB/s eta 0:00:16\n",
      "     ---------------------------------------- 0.0/2.8 MB 186.2 kB/s eta 0:00:16\n",
      "      --------------------------------------- 0.0/2.8 MB 195.7 kB/s eta 0:00:15\n",
      "     - -------------------------------------- 0.1/2.8 MB 327.3 kB/s eta 0:00:09\n",
      "     - -------------------------------------- 0.1/2.8 MB 385.0 kB/s eta 0:00:08\n",
      "     - -------------------------------------- 0.1/2.8 MB 359.9 kB/s eta 0:00:08\n",
      "     -- ------------------------------------- 0.2/2.8 MB 426.7 kB/s eta 0:00:07\n",
      "     -- ------------------------------------- 0.2/2.8 MB 452.9 kB/s eta 0:00:06\n",
      "     --- ------------------------------------ 0.2/2.8 MB 537.7 kB/s eta 0:00:05\n",
      "     ---- ----------------------------------- 0.3/2.8 MB 553.0 kB/s eta 0:00:05\n",
      "     ----- ---------------------------------- 0.4/2.8 MB 618.4 kB/s eta 0:00:05\n",
      "     ------ --------------------------------- 0.5/2.8 MB 755.4 kB/s eta 0:00:04\n",
      "     ------- -------------------------------- 0.6/2.8 MB 868.4 kB/s eta 0:00:03\n",
      "     -------- ------------------------------- 0.6/2.8 MB 854.5 kB/s eta 0:00:03\n",
      "     ---------- ----------------------------- 0.7/2.8 MB 955.7 kB/s eta 0:00:03\n",
      "     ----------- ---------------------------- 0.8/2.8 MB 1.0 MB/s eta 0:00:02\n",
      "     ------------ --------------------------- 0.9/2.8 MB 1.1 MB/s eta 0:00:02\n",
      "     ------------ --------------------------- 0.9/2.8 MB 1.1 MB/s eta 0:00:02\n",
      "     -------------- ------------------------- 1.0/2.8 MB 1.1 MB/s eta 0:00:02\n",
      "     --------------- ------------------------ 1.1/2.8 MB 1.2 MB/s eta 0:00:02\n",
      "     ----------------- ---------------------- 1.3/2.8 MB 1.2 MB/s eta 0:00:02\n",
      "     -------------------- ------------------- 1.4/2.8 MB 1.3 MB/s eta 0:00:02\n",
      "     ---------------------- ----------------- 1.6/2.8 MB 1.5 MB/s eta 0:00:01\n",
      "     ------------------------- -------------- 1.8/2.8 MB 1.6 MB/s eta 0:00:01\n",
      "     ------------------------- -------------- 1.8/2.8 MB 1.6 MB/s eta 0:00:01\n",
      "     ---------------------------- ----------- 2.0/2.8 MB 1.6 MB/s eta 0:00:01\n",
      "     ------------------------------- -------- 2.2/2.8 MB 1.7 MB/s eta 0:00:01\n",
      "     -------------------------------- ------- 2.3/2.8 MB 1.7 MB/s eta 0:00:01\n",
      "     ---------------------------------- ----- 2.4/2.8 MB 1.8 MB/s eta 0:00:01\n",
      "     ------------------------------------ --- 2.6/2.8 MB 1.8 MB/s eta 0:00:01\n",
      "     ------------------------------------- -- 2.7/2.8 MB 1.8 MB/s eta 0:00:01\n",
      "     ---------------------------------------- 2.8/2.8 MB 1.9 MB/s eta 0:00:00\n",
      "  Preparing metadata (setup.py): started\n",
      "  Preparing metadata (setup.py): finished with status 'done'\n",
      "Requirement already satisfied: numpy>=1.9.1 in c:\\new_folder\\envs\\new_env\\lib\\site-packages (from theano) (1.24.3)\n",
      "Requirement already satisfied: scipy>=0.14 in c:\\new_folder\\envs\\new_env\\lib\\site-packages (from theano) (1.11.2)\n",
      "Requirement already satisfied: six>=1.9.0 in c:\\users\\deepshikha sharma\\appdata\\roaming\\python\\python311\\site-packages (from theano) (1.16.0)\n",
      "Building wheels for collected packages: theano\n",
      "  Building wheel for theano (setup.py): started\n",
      "  Building wheel for theano (setup.py): finished with status 'done'\n",
      "  Created wheel for theano: filename=Theano-1.0.5-py3-none-any.whl size=2668148 sha256=6dd80e6711055ba71e1fda01e5fe4fe15c3951add4e566fd19e111ca49647d02\n",
      "  Stored in directory: c:\\users\\deepshikha sharma\\appdata\\local\\pip\\cache\\wheels\\26\\1f\\2f\\02d738022626461828148150c0354e712c4ad74f1a60f10933\n",
      "Successfully built theano\n",
      "Installing collected packages: theano\n",
      "Successfully installed theano-1.0.5\n",
      "Note: you may need to restart the kernel to use updated packages.\n"
     ]
    }
   ],
   "source": [
    "pip install theano"
   ]
  },
  {
   "cell_type": "code",
   "execution_count": 9,
   "id": "6d579374",
   "metadata": {},
   "outputs": [
    {
     "name": "stdout",
     "output_type": "stream",
     "text": [
      "Collecting seaborn\n",
      "  Obtaining dependency information for seaborn from https://files.pythonhosted.org/packages/7b/e5/83fcd7e9db036c179e0352bfcd20f81d728197a16f883e7b90307a88e65e/seaborn-0.13.0-py3-none-any.whl.metadata\n",
      "  Using cached seaborn-0.13.0-py3-none-any.whl.metadata (5.3 kB)\n",
      "Requirement already satisfied: numpy!=1.24.0,>=1.20 in c:\\new_folder\\envs\\new_env\\lib\\site-packages (from seaborn) (1.24.3)\n",
      "Requirement already satisfied: pandas>=1.2 in c:\\new_folder\\envs\\new_env\\lib\\site-packages (from seaborn) (2.1.1)\n",
      "Requirement already satisfied: matplotlib!=3.6.1,>=3.3 in c:\\new_folder\\envs\\new_env\\lib\\site-packages (from seaborn) (3.8.0)\n",
      "Requirement already satisfied: contourpy>=1.0.1 in c:\\new_folder\\envs\\new_env\\lib\\site-packages (from matplotlib!=3.6.1,>=3.3->seaborn) (1.1.1)\n",
      "Requirement already satisfied: cycler>=0.10 in c:\\new_folder\\envs\\new_env\\lib\\site-packages (from matplotlib!=3.6.1,>=3.3->seaborn) (0.11.0)\n",
      "Requirement already satisfied: fonttools>=4.22.0 in c:\\new_folder\\envs\\new_env\\lib\\site-packages (from matplotlib!=3.6.1,>=3.3->seaborn) (4.42.1)\n",
      "Requirement already satisfied: kiwisolver>=1.0.1 in c:\\new_folder\\envs\\new_env\\lib\\site-packages (from matplotlib!=3.6.1,>=3.3->seaborn) (1.4.5)\n",
      "Requirement already satisfied: packaging>=20.0 in c:\\users\\deepshikha sharma\\appdata\\roaming\\python\\python311\\site-packages (from matplotlib!=3.6.1,>=3.3->seaborn) (23.1)\n",
      "Requirement already satisfied: pillow>=6.2.0 in c:\\new_folder\\envs\\new_env\\lib\\site-packages (from matplotlib!=3.6.1,>=3.3->seaborn) (10.0.1)\n",
      "Requirement already satisfied: pyparsing>=2.3.1 in c:\\new_folder\\envs\\new_env\\lib\\site-packages (from matplotlib!=3.6.1,>=3.3->seaborn) (3.1.1)\n",
      "Requirement already satisfied: python-dateutil>=2.7 in c:\\users\\deepshikha sharma\\appdata\\roaming\\python\\python311\\site-packages (from matplotlib!=3.6.1,>=3.3->seaborn) (2.8.2)\n",
      "Requirement already satisfied: pytz>=2020.1 in c:\\new_folder\\envs\\new_env\\lib\\site-packages (from pandas>=1.2->seaborn) (2023.3.post1)\n",
      "Requirement already satisfied: tzdata>=2022.1 in c:\\new_folder\\envs\\new_env\\lib\\site-packages (from pandas>=1.2->seaborn) (2023.3)\n",
      "Requirement already satisfied: six>=1.5 in c:\\users\\deepshikha sharma\\appdata\\roaming\\python\\python311\\site-packages (from python-dateutil>=2.7->matplotlib!=3.6.1,>=3.3->seaborn) (1.16.0)\n",
      "Downloading seaborn-0.13.0-py3-none-any.whl (294 kB)\n",
      "   ---------------------------------------- 0.0/294.6 kB ? eta -:--:--\n",
      "   ---------------------------------------- 0.0/294.6 kB ? eta -:--:--\n",
      "   ---------------------------------------- 0.0/294.6 kB ? eta -:--:--\n",
      "   ---------------------------------------- 0.0/294.6 kB ? eta -:--:--\n",
      "   ---------------------------------------- 0.0/294.6 kB ? eta -:--:--\n",
      "   - -------------------------------------- 10.2/294.6 kB ? eta -:--:--\n",
      "   - -------------------------------------- 10.2/294.6 kB ? eta -:--:--\n",
      "   ---- ---------------------------------- 30.7/294.6 kB 163.8 kB/s eta 0:00:02\n",
      "   ---- ---------------------------------- 30.7/294.6 kB 163.8 kB/s eta 0:00:02\n",
      "   ----- --------------------------------- 41.0/294.6 kB 151.3 kB/s eta 0:00:02\n",
      "   ----- --------------------------------- 41.0/294.6 kB 151.3 kB/s eta 0:00:02\n",
      "   -------- ------------------------------ 61.4/294.6 kB 172.4 kB/s eta 0:00:02\n",
      "   ---------- ---------------------------- 81.9/294.6 kB 218.5 kB/s eta 0:00:01\n",
      "   ------------ -------------------------- 92.2/294.6 kB 201.8 kB/s eta 0:00:02\n",
      "   ------------ -------------------------- 92.2/294.6 kB 201.8 kB/s eta 0:00:02\n",
      "   ------------ -------------------------- 92.2/294.6 kB 201.8 kB/s eta 0:00:02\n",
      "   ------------ -------------------------- 92.2/294.6 kB 201.8 kB/s eta 0:00:02\n",
      "   -------------- ----------------------- 112.6/294.6 kB 172.4 kB/s eta 0:00:02\n",
      "   -------------- ----------------------- 112.6/294.6 kB 172.4 kB/s eta 0:00:02\n",
      "   -------------- ----------------------- 112.6/294.6 kB 172.4 kB/s eta 0:00:02\n",
      "   -------------- ----------------------- 112.6/294.6 kB 172.4 kB/s eta 0:00:02\n",
      "   -------------- ----------------------- 112.6/294.6 kB 172.4 kB/s eta 0:00:02\n",
      "   --------------- ---------------------- 122.9/294.6 kB 141.3 kB/s eta 0:00:02\n",
      "   ------------------ ------------------- 143.4/294.6 kB 149.4 kB/s eta 0:00:02\n",
      "   ------------------ ------------------- 143.4/294.6 kB 149.4 kB/s eta 0:00:02\n",
      "   --------------------- ---------------- 163.8/294.6 kB 155.9 kB/s eta 0:00:01\n",
      "   --------------------- ---------------- 163.8/294.6 kB 155.9 kB/s eta 0:00:01\n",
      "   ---------------------- --------------- 174.1/294.6 kB 149.8 kB/s eta 0:00:01\n",
      "   ---------------------- --------------- 174.1/294.6 kB 149.8 kB/s eta 0:00:01\n",
      "   ---------------------- --------------- 174.1/294.6 kB 149.8 kB/s eta 0:00:01\n",
      "   ---------------------- --------------- 174.1/294.6 kB 149.8 kB/s eta 0:00:01\n",
      "   ---------------------- --------------- 174.1/294.6 kB 149.8 kB/s eta 0:00:01\n",
      "   ---------------------- --------------- 174.1/294.6 kB 149.8 kB/s eta 0:00:01\n",
      "   ---------------------- --------------- 174.1/294.6 kB 149.8 kB/s eta 0:00:01\n",
      "   ------------------------- ------------ 194.6/294.6 kB 132.5 kB/s eta 0:00:01\n",
      "   ------------------------- ------------ 194.6/294.6 kB 132.5 kB/s eta 0:00:01\n",
      "   ------------------------- ------------ 194.6/294.6 kB 132.5 kB/s eta 0:00:01\n",
      "   ------------------------- ------------ 194.6/294.6 kB 132.5 kB/s eta 0:00:01\n",
      "   ------------------------- ------------ 194.6/294.6 kB 132.5 kB/s eta 0:00:01\n",
      "   ------------------------- ------------ 194.6/294.6 kB 132.5 kB/s eta 0:00:01\n",
      "   ------------------------- ------------ 194.6/294.6 kB 132.5 kB/s eta 0:00:01\n",
      "   ------------------------- ------------ 194.6/294.6 kB 132.5 kB/s eta 0:00:01\n",
      "   ------------------------- ------------ 194.6/294.6 kB 132.5 kB/s eta 0:00:01\n",
      "   ------------------------- ------------ 194.6/294.6 kB 132.5 kB/s eta 0:00:01\n",
      "   -------------------------- ----------- 204.8/294.6 kB 104.6 kB/s eta 0:00:01\n",
      "   -------------------------- ----------- 204.8/294.6 kB 104.6 kB/s eta 0:00:01\n",
      "   -------------------------- ----------- 204.8/294.6 kB 104.6 kB/s eta 0:00:01\n",
      "   -------------------------- ----------- 204.8/294.6 kB 104.6 kB/s eta 0:00:01\n",
      "   -------------------------- ----------- 204.8/294.6 kB 104.6 kB/s eta 0:00:01\n",
      "   -------------------------- ----------- 204.8/294.6 kB 104.6 kB/s eta 0:00:01\n",
      "   -------------------------- ----------- 204.8/294.6 kB 104.6 kB/s eta 0:00:01\n",
      "   -------------------------- ----------- 204.8/294.6 kB 104.6 kB/s eta 0:00:01\n",
      "   -------------------------- ----------- 204.8/294.6 kB 104.6 kB/s eta 0:00:01\n",
      "   ----------------------------- --------- 225.3/294.6 kB 93.6 kB/s eta 0:00:01\n",
      "   ----------------------------- --------- 225.3/294.6 kB 93.6 kB/s eta 0:00:01\n",
      "   ----------------------------- --------- 225.3/294.6 kB 93.6 kB/s eta 0:00:01\n",
      "   ----------------------------- --------- 225.3/294.6 kB 93.6 kB/s eta 0:00:01\n",
      "   ----------------------------- --------- 225.3/294.6 kB 93.6 kB/s eta 0:00:01\n",
      "   ----------------------------- --------- 225.3/294.6 kB 93.6 kB/s eta 0:00:01\n",
      "   ----------------------------- --------- 225.3/294.6 kB 93.6 kB/s eta 0:00:01\n",
      "   ----------------------------- --------- 225.3/294.6 kB 93.6 kB/s eta 0:00:01\n",
      "   ----------------------------- --------- 225.3/294.6 kB 93.6 kB/s eta 0:00:01\n",
      "   ----------------------------- --------- 225.3/294.6 kB 93.6 kB/s eta 0:00:01\n",
      "   ----------------------------- --------- 225.3/294.6 kB 93.6 kB/s eta 0:00:01\n",
      "   ----------------------------- --------- 225.3/294.6 kB 93.6 kB/s eta 0:00:01\n",
      "   ----------------------------- --------- 225.3/294.6 kB 93.6 kB/s eta 0:00:01\n",
      "   ----------------------------- --------- 225.3/294.6 kB 93.6 kB/s eta 0:00:01\n",
      "   ----------------------------- --------- 225.3/294.6 kB 93.6 kB/s eta 0:00:01\n",
      "   ----------------------------- --------- 225.3/294.6 kB 93.6 kB/s eta 0:00:01\n",
      "   ----------------------------- --------- 225.3/294.6 kB 93.6 kB/s eta 0:00:01\n",
      "   ----------------------------- --------- 225.3/294.6 kB 93.6 kB/s eta 0:00:01\n",
      "   ----------------------------- --------- 225.3/294.6 kB 93.6 kB/s eta 0:00:01\n",
      "   ----------------------------- --------- 225.3/294.6 kB 93.6 kB/s eta 0:00:01\n",
      "   ----------------------------- --------- 225.3/294.6 kB 93.6 kB/s eta 0:00:01\n",
      "   ----------------------------- --------- 225.3/294.6 kB 93.6 kB/s eta 0:00:01\n",
      "   ----------------------------- --------- 225.3/294.6 kB 93.6 kB/s eta 0:00:01\n",
      "   ----------------------------- --------- 225.3/294.6 kB 93.6 kB/s eta 0:00:01\n",
      "   ----------------------------- --------- 225.3/294.6 kB 93.6 kB/s eta 0:00:01\n",
      "   ----------------------------- --------- 225.3/294.6 kB 93.6 kB/s eta 0:00:01\n",
      "   ----------------------------- --------- 225.3/294.6 kB 93.6 kB/s eta 0:00:01\n",
      "   ----------------------------- --------- 225.3/294.6 kB 93.6 kB/s eta 0:00:01\n",
      "   ----------------------------- --------- 225.3/294.6 kB 93.6 kB/s eta 0:00:01\n",
      "   ----------------------------- --------- 225.3/294.6 kB 93.6 kB/s eta 0:00:01\n",
      "   ----------------------------- --------- 225.3/294.6 kB 93.6 kB/s eta 0:00:01\n",
      "   ----------------------------- --------- 225.3/294.6 kB 93.6 kB/s eta 0:00:01\n",
      "   ----------------------------- --------- 225.3/294.6 kB 93.6 kB/s eta 0:00:01\n",
      "   ----------------------------- --------- 225.3/294.6 kB 93.6 kB/s eta 0:00:01\n",
      "   ----------------------------- --------- 225.3/294.6 kB 93.6 kB/s eta 0:00:01\n",
      "   ----------------------------- --------- 225.3/294.6 kB 93.6 kB/s eta 0:00:01\n",
      "   ----------------------------- --------- 225.3/294.6 kB 93.6 kB/s eta 0:00:01\n",
      "   ----------------------------- --------- 225.3/294.6 kB 93.6 kB/s eta 0:00:01\n",
      "   ----------------------------- --------- 225.3/294.6 kB 93.6 kB/s eta 0:00:01\n",
      "   ----------------------------- --------- 225.3/294.6 kB 93.6 kB/s eta 0:00:01\n",
      "   ----------------------------- --------- 225.3/294.6 kB 93.6 kB/s eta 0:00:01\n",
      "   ----------------------------- --------- 225.3/294.6 kB 93.6 kB/s eta 0:00:01\n",
      "   ----------------------------- --------- 225.3/294.6 kB 93.6 kB/s eta 0:00:01\n",
      "   ----------------------------- --------- 225.3/294.6 kB 93.6 kB/s eta 0:00:01\n",
      "   ----------------------------- --------- 225.3/294.6 kB 93.6 kB/s eta 0:00:01\n",
      "   ----------------------------- --------- 225.3/294.6 kB 93.6 kB/s eta 0:00:01\n",
      "   ----------------------------- --------- 225.3/294.6 kB 93.6 kB/s eta 0:00:01\n",
      "   ----------------------------- --------- 225.3/294.6 kB 93.6 kB/s eta 0:00:01\n",
      "   ----------------------------- --------- 225.3/294.6 kB 93.6 kB/s eta 0:00:01\n",
      "   ----------------------------- --------- 225.3/294.6 kB 93.6 kB/s eta 0:00:01\n",
      "   ----------------------------- --------- 225.3/294.6 kB 93.6 kB/s eta 0:00:01\n",
      "   ----------------------------- --------- 225.3/294.6 kB 93.6 kB/s eta 0:00:01\n",
      "   ----------------------------- --------- 225.3/294.6 kB 93.6 kB/s eta 0:00:01\n",
      "   ----------------------------- --------- 225.3/294.6 kB 93.6 kB/s eta 0:00:01\n",
      "   ----------------------------- --------- 225.3/294.6 kB 93.6 kB/s eta 0:00:01\n",
      "   ----------------------------- --------- 225.3/294.6 kB 93.6 kB/s eta 0:00:01\n",
      "   ----------------------------- --------- 225.3/294.6 kB 93.6 kB/s eta 0:00:01\n",
      "   ----------------------------- --------- 225.3/294.6 kB 93.6 kB/s eta 0:00:01\n",
      "   --------------------------------------- 294.6/294.6 kB 56.5 kB/s eta 0:00:00\n",
      "Installing collected packages: seaborn\n",
      "Successfully installed seaborn-0.13.0\n",
      "Note: you may need to restart the kernel to use updated packages.\n"
     ]
    }
   ],
   "source": [
    "pip install numpy matplotlib seaborn tensorflow-gpu\n"
   ]
  },
  {
   "cell_type": "code",
   "execution_count": 2,
   "id": "fe3fa55a",
   "metadata": {},
   "outputs": [],
   "source": [
    "# Import all the things we need\n",
    "%matplotlib inline\n",
    "import os\n",
    "os.environ[\"KERAS_BACKEND\"] = \"tensorflow\"  # Use TensorFlow as the backend\n",
    "os.environ[\"CUDA_VISIBLE_DEVICES\"] = \"1\"  # Specify which GPU to use\n",
    "import numpy as np\n",
    "import tensorflow as tf\n",
    "from tensorflow import keras\n",
    "from tensorflow.keras.layers import *\n",
    "from tensorflow.keras.models import Model, Sequential\n",
    "from tensorflow.keras.optimizers import Adam\n",
    "import matplotlib.pyplot as plt\n",
    "import seaborn as sns\n",
    "import pickle\n",
    "import random\n",
    "\n",
    "# Now you can continue with the rest of your code using the corrected imports and configurations.\n"
   ]
  },
  {
   "cell_type": "code",
   "execution_count": 3,
   "id": "235bda58",
   "metadata": {},
   "outputs": [
    {
     "name": "stdout",
     "output_type": "stream",
     "text": [
      "Dataset imported\n"
     ]
    }
   ],
   "source": [
    "# Load the dataset\n",
    "#  from a certain local path\n",
    "# Xd = pickle.load(open(\"C:/Users/Deepshikha Sharma/Downloads/RML2016.10a_dict.dat\",'rb'))\n",
    "import pickle\n",
    "\n",
    "with open(\"/Users/Deepshikha Sharma/Desktop/VII Semester Minor Project/RML2016.10a_dict.dat\", 'rb') as file:\n",
    "    Xd = pickle.load(file, encoding='latin1')\n",
    "\n",
    "print(\"Dataset imported\")\n",
    "snrs,mods = map(lambda j: sorted(list(set(map(lambda x: x[j], Xd.keys())))), [1,0])\n",
    "X = []  \n",
    "lbl = []\n",
    "for mod in mods:\n",
    "    for snr in snrs:\n",
    "        X.append(Xd[(mod,snr)])\n",
    "        for i in range(Xd[(mod,snr)].shape[0]):\n",
    "            lbl.append((mod,snr))\n",
    "\n",
    "X = np.vstack(X)\n"
   ]
  },
  {
   "cell_type": "code",
   "execution_count": 4,
   "id": "60fe2196",
   "metadata": {},
   "outputs": [
    {
     "name": "stdout",
     "output_type": "stream",
     "text": [
      "Dataset formatted into shape:  (220000, 2, 128)\n",
      "Dataset with SNRs:  [-20, -18, -16, -14, -12, -10, -8, -6, -4, -2, 0, 2, 4, 6, 8, 10, 12, 14, 16, 18]\n",
      "Dataset with Modulations:  ['8PSK', 'AM-DSB', 'AM-SSB', 'BPSK', 'CPFSK', 'GFSK', 'PAM4', 'QAM16', 'QAM64', 'QPSK', 'WBFM']\n",
      "Data prepared\n"
     ]
    }
   ],
   "source": [
    "# For dataset RML2016.10a_dict, we should have data size 220000*2*128\n",
    "print(\"Dataset formatted into shape: \",X.shape)\n",
    "# print out the snrs and mods\n",
    "print(\"Dataset with SNRs: \",snrs)\n",
    "print(\"Dataset with Modulations: \",mods)\n",
    "print(\"Data prepared\")"
   ]
  },
  {
   "cell_type": "code",
   "execution_count": 5,
   "id": "a076b827",
   "metadata": {},
   "outputs": [
    {
     "name": "stdout",
     "output_type": "stream",
     "text": [
      "(110000, 2, 128) [2, 128]\n"
     ]
    }
   ],
   "source": [
    "# Partition the data into training and test sets of the form we can train/test on while keeping SNR and Mod labels handy for each\n",
    "np.random.seed(2017)\n",
    "n_examples = X.shape[0]\n",
    "n_train = int(n_examples * 0.5)\n",
    "train_idx = np.random.choice(range(0,n_examples), size=n_train, replace=False)\n",
    "test_idx = list(set(range(0,n_examples))-set(train_idx))\n",
    "X_train = X[train_idx]\n",
    "X_test =  X[test_idx]\n",
    "def to_onehot(yy):\n",
    "    yy1 = np.zeros([len(yy), max(yy)+1])\n",
    "    yy1[np.arange(len(yy)),yy] = 1\n",
    "    return yy1\n",
    "\n",
    "Y_train = to_onehot(list(map(lambda x: mods.index(lbl[x][0]), train_idx)))\n",
    "Y_test = to_onehot(list(map(lambda x: mods.index(lbl[x][0]), test_idx)))\n",
    "\n",
    "\n",
    "in_shp = list(X_train.shape[1:])\n",
    "print (X_train.shape, in_shp)\n",
    "classes = mods"
   ]
  },
  {
   "cell_type": "code",
   "execution_count": 6,
   "id": "2462a420",
   "metadata": {},
   "outputs": [
    {
     "name": "stdout",
     "output_type": "stream",
     "text": [
      "Model: \"sequential\"\n",
      "_________________________________________________________________\n",
      " Layer (type)                Output Shape              Param #   \n",
      "=================================================================\n",
      " reshape (Reshape)           (None, 1, 2, 128)         0         \n",
      "                                                                 \n",
      " zero_padding2d (ZeroPaddin  (None, 1, 6, 128)         0         \n",
      " g2D)                                                            \n",
      "                                                                 \n",
      " conv1 (Conv2D)              (None, 1, 4, 256)         98560     \n",
      "                                                                 \n",
      " dropout (Dropout)           (None, 1, 4, 256)         0         \n",
      "                                                                 \n",
      " zero_padding2d_1 (ZeroPadd  (None, 1, 6, 256)         0         \n",
      " ing2D)                                                          \n",
      "                                                                 \n",
      " conv2 (Conv2D)              (None, 1, 4, 80)          61520     \n",
      "                                                                 \n",
      " dropout_1 (Dropout)         (None, 1, 4, 80)          0         \n",
      "                                                                 \n",
      " flatten (Flatten)           (None, 320)               0         \n",
      "                                                                 \n",
      " dense1 (Dense)              (None, 256)               82176     \n",
      "                                                                 \n",
      " dropout_2 (Dropout)         (None, 256)               0         \n",
      "                                                                 \n",
      " dense2 (Dense)              (None, 11)                2827      \n",
      "                                                                 \n",
      " activation (Activation)     (None, 11)                0         \n",
      "                                                                 \n",
      " reshape_1 (Reshape)         (None, 11)                0         \n",
      "                                                                 \n",
      "=================================================================\n",
      "Total params: 245083 (957.36 KB)\n",
      "Trainable params: 245083 (957.36 KB)\n",
      "Non-trainable params: 0 (0.00 Byte)\n",
      "_________________________________________________________________\n"
     ]
    }
   ],
   "source": [
    "# Build VT-CNN2 Neural Net model using Keras primitives -- \n",
    "#  - Reshape [N,2,128] to [N,1,2,128] on input\n",
    "#  - Pass through 2 2DConv/ReLu layers\n",
    "#  - Pass through 2 Dense layers (ReLu and Softmax)\n",
    "#  - Perform categorical cross entropy optimization\n",
    "\n",
    "from keras.models import Sequential\n",
    "from keras.layers import Reshape, ZeroPadding2D, Convolution2D, Dropout, Flatten, Dense, Activation\n",
    "\n",
    "dr = 0.5  # dropout rate (%)\n",
    "model = Sequential()\n",
    "model.add(Reshape([1]+in_shp, input_shape=in_shp))\n",
    "model.add(ZeroPadding2D(padding=((0, 0), (2, 2))))\n",
    "model.add(Convolution2D(256, (1, 3), padding='valid', activation=\"relu\", name=\"conv1\", kernel_initializer='glorot_uniform'))\n",
    "model.add(Dropout(dr))\n",
    "model.add(ZeroPadding2D(padding=((0, 0), (1, 1))))  # Adjust padding here\n",
    "model.add(Convolution2D(80, (1, 3), padding=\"valid\", activation=\"relu\", name=\"conv2\", kernel_initializer='glorot_uniform'))  # Adjust kernel size here\n",
    "model.add(Dropout(dr))\n",
    "model.add(Flatten())\n",
    "model.add(Dense(256, activation='relu', kernel_initializer='he_normal', name=\"dense1\"))\n",
    "model.add(Dropout(dr))\n",
    "model.add(Dense(len(classes), kernel_initializer='he_normal', name=\"dense2\"))\n",
    "model.add(Activation('softmax'))\n",
    "model.add(Reshape([len(classes)]))\n",
    "model.compile(loss='categorical_crossentropy', optimizer='adam')\n",
    "model.summary()\n",
    "\n"
   ]
  },
  {
   "cell_type": "code",
   "execution_count": 7,
   "id": "841188f1",
   "metadata": {},
   "outputs": [],
   "source": [
    "# Set up some params \n",
    "nb_epoch = 100     # number of epochs to train on\n",
    "batch_size = 1024  # training batch size"
   ]
  },
  {
   "cell_type": "code",
   "execution_count": null,
   "id": "b670ae49",
   "metadata": {
    "scrolled": true
   },
   "outputs": [
    {
     "name": "stderr",
     "output_type": "stream",
     "text": [
      "C:\\new_folder\\envs\\new_env\\Lib\\site-packages\\tensorflow\\python\\data\\ops\\structured_function.py:265: UserWarning: Even though the `tf.config.experimental_run_functions_eagerly` option is set, this option does not apply to tf.data functions. To force eager execution of tf.data functions, please use `tf.data.experimental.enable_debug_mode()`.\n",
      "  warnings.warn(\n"
     ]
    },
    {
     "name": "stdout",
     "output_type": "stream",
     "text": [
      "Epoch 1/100\n",
      "108/108 - 52s - loss: 2.2488 - val_loss: 2.1301 - 52s/epoch - 479ms/step\n",
      "Epoch 2/100\n"
     ]
    },
    {
     "name": "stderr",
     "output_type": "stream",
     "text": [
      "C:\\new_folder\\envs\\new_env\\Lib\\site-packages\\keras\\src\\engine\\training.py:3000: UserWarning: You are saving your model as an HDF5 file via `model.save()`. This file format is considered legacy. We recommend using instead the native Keras format, e.g. `model.save('my_model.keras')`.\n",
      "  saving_api.save_model(\n"
     ]
    },
    {
     "name": "stdout",
     "output_type": "stream",
     "text": [
      "108/108 - 48s - loss: 2.0556 - val_loss: 1.8853 - 48s/epoch - 448ms/step\n",
      "Epoch 3/100\n",
      "108/108 - 49s - loss: 1.8829 - val_loss: 1.8087 - 49s/epoch - 452ms/step\n",
      "Epoch 4/100\n",
      "108/108 - 52s - loss: 1.8280 - val_loss: 1.7634 - 52s/epoch - 481ms/step\n",
      "Epoch 5/100\n",
      "108/108 - 48s - loss: 1.7803 - val_loss: 1.7086 - 48s/epoch - 448ms/step\n",
      "Epoch 6/100\n"
     ]
    }
   ],
   "source": [
    "# perform training ...\n",
    "#   - call the main training loop in keras for our network+dataset\n",
    "from keras.callbacks import ModelCheckpoint, EarlyStopping\n",
    "\n",
    "filepath = 'CNN2_0.5.wts.h5'\n",
    "history = model.fit(X_train,\n",
    "                    Y_train,\n",
    "                    batch_size=batch_size,\n",
    "                    epochs=nb_epoch,\n",
    "                    verbose=2,\n",
    "                    validation_data=(X_test, Y_test),\n",
    "                    callbacks=[\n",
    "                        ModelCheckpoint(filepath, monitor='val_loss', verbose=0, save_best_only=True, mode='auto'),\n",
    "                        EarlyStopping(monitor='val_loss', patience=5, verbose=0, mode='auto')\n",
    "                    ])\n",
    "\n",
    "# Re-load the best weights once training is finished\n",
    "model.load_weights(filepath)"
   ]
  },
  {
   "cell_type": "code",
   "execution_count": null,
   "id": "1316805e",
   "metadata": {},
   "outputs": [],
   "source": [
    "# Show simple version of performance\n",
    "score = model.evaluate(X_test, Y_test, verbose=0, batch_size=batch_size)\n",
    "print(f'Test loss: {score[0]}')\n",
    "print(f'Test accuracy: {score[1]}')\n"
   ]
  },
  {
   "cell_type": "code",
   "execution_count": null,
   "id": "16bad3e0",
   "metadata": {},
   "outputs": [],
   "source": [
    "model.compile(loss='categorical_crossentropy', optimizer='adam', metrics=['accuracy'])\n"
   ]
  },
  {
   "cell_type": "code",
   "execution_count": null,
   "id": "fcbea9b0",
   "metadata": {},
   "outputs": [],
   "source": [
    "score = model.evaluate(X_test, Y_test, verbose=0, batch_size=batch_size)\n",
    "print(f'Test loss: {score[0]}')\n",
    "print(f'Test accuracy: {score[1]}')\n"
   ]
  },
  {
   "cell_type": "code",
   "execution_count": null,
   "id": "9018fbcc",
   "metadata": {},
   "outputs": [],
   "source": [
    "# Show loss curves \n",
    "plt.figure()\n",
    "plt.title('Training performance')\n",
    "plt.plot(history.epoch, history.history['loss'], label='train loss+error')\n",
    "plt.plot(history.epoch, history.history['val_loss'], label='val_error')\n",
    "plt.legend()"
   ]
  },
  {
   "cell_type": "code",
   "execution_count": null,
   "id": "47b53621",
   "metadata": {},
   "outputs": [],
   "source": [
    "def plot_confusion_matrix(cm, title='Confusion matrix', cmap=plt.cm.Blues, labels=[]):\n",
    "    plt.imshow(cm, interpolation='nearest', cmap=cmap)\n",
    "    plt.title(title)\n",
    "    plt.colorbar()\n",
    "    tick_marks = np.arange(len(labels))\n",
    "    plt.xticks(tick_marks, labels, rotation=45)\n",
    "    plt.yticks(tick_marks, labels)\n",
    "    plt.tight_layout()\n",
    "    plt.ylabel('True label')\n",
    "    plt.xlabel('Predicted label')"
   ]
  },
  {
   "cell_type": "code",
   "execution_count": null,
   "id": "1c6fa77a",
   "metadata": {
    "scrolled": true
   },
   "outputs": [],
   "source": [
    "# Plot confusion matrix\n",
    "test_Y_hat = model.predict(X_test, batch_size=batch_size)\n",
    "conf = np.zeros([len(classes),len(classes)])\n",
    "confnorm = np.zeros([len(classes),len(classes)])\n",
    "for i in range(0,X_test.shape[0]):\n",
    "    j = list(Y_test[i,:]).index(1)\n",
    "    k = int(np.argmax(test_Y_hat[i,:]))\n",
    "    conf[j,k] = conf[j,k] + 1\n",
    "for i in range(0,len(classes)):\n",
    "    confnorm[i,:] = conf[i,:] / np.sum(conf[i,:])\n",
    "plot_confusion_matrix(confnorm, labels=classes)"
   ]
  },
  {
   "cell_type": "code",
   "execution_count": null,
   "id": "85a11962",
   "metadata": {},
   "outputs": [],
   "source": [
    "import tensorflow as tf\n",
    "import numpy as np\n",
    "import matplotlib.pyplot as plt\n",
    "\n",
    "# Setting run_eagerly to True before building the model\n",
    "tf.config.run_functions_eagerly(True)\n",
    "\n",
    "\n",
    "# Plot confusion matrix\n",
    "acc = {}\n",
    "for snr in snrs:\n",
    "    test_SNRs = map(lambda x: lbl[x][1], test_idx)\n",
    "    test_X_i = X_test[np.where(np.array(test_SNRs) == snr)]\n",
    "    test_Y_i = Y_test[np.where(np.array(test_SNRs) == snr)]\n",
    "\n",
    "    # Set the run_eagerly parameter to True in the compile method\n",
    "    model.compile(loss='categorical_crossentropy', optimizer='adam', metrics=['accuracy'], run_eagerly=True)\n",
    "\n",
    "    # Estimate classes\n",
    "    test_Y_i_hat = model.predict(test_X_i)\n",
    "    conf = np.zeros([len(classes), len(classes)])\n",
    "    confnorm = np.zeros([len(classes), len(classes)])\n",
    "\n",
    "    for i in range(0, test_X_i.shape[0]):\n",
    "        j = list(test_Y_i[i, :]).index(1)\n",
    "        k = int(np.argmax(test_Y_i_hat[i, :]))\n",
    "        conf[j, k] = conf[j, k] + 1\n",
    "    for i in range(0, len(classes)):\n",
    "        confnorm[i, :] = conf[i, :] / np.sum(conf[i, :])\n",
    "    plt.figure()\n",
    "    plot_confusion_matrix(confnorm, labels=classes, title=\"ConvNet Confusion Matrix (SNR=%d)\" % (snr))\n",
    "\n",
    "    cor = np.sum(np.diag(conf))\n",
    "    ncor = np.sum(conf) - cor\n",
    "    print(\"Overall Accuracy: \", cor / (cor + ncor))\n",
    "    acc[snr] = 1.0 * cor / (cor + ncor)"
   ]
  }
 ],
 "metadata": {
  "kernelspec": {
   "display_name": "Python 3 (ipykernel)",
   "language": "python",
   "name": "python3"
  },
  "language_info": {
   "codemirror_mode": {
    "name": "ipython",
    "version": 3
   },
   "file_extension": ".py",
   "mimetype": "text/x-python",
   "name": "python",
   "nbconvert_exporter": "python",
   "pygments_lexer": "ipython3",
   "version": "3.11.5"
  }
 },
 "nbformat": 4,
 "nbformat_minor": 5
}
