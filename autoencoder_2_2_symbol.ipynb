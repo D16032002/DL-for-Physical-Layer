{
 "cells": [
  {
   "cell_type": "code",
   "execution_count": 1,
   "metadata": {},
   "outputs": [],
   "source": [
    "# importing libs\n",
    "import numpy as np\n",
    "import tensorflow as tf\n",
    "from keras.layers import Input, Dense, GaussianNoise\n",
    "from keras.models import Model\n",
    "from keras import regularizers\n",
    "# from keras.layers.normalization import BatchNormalization\n",
    "from tensorflow.keras.layers import BatchNormalization\n",
    "from keras.optimizers import SGD\n",
    "import random as rn"
   ]
  },
  {
   "cell_type": "code",
   "execution_count": 2,
   "metadata": {},
   "outputs": [
    {
     "name": "stdout",
     "output_type": "stream",
     "text": [
      "M: 4 k: 2\n"
     ]
    }
   ],
   "source": [
    "# defining parameters\n",
    "M = 4\n",
    "k = np.log2(M)\n",
    "k = int(k)\n",
    "print ('M:',M,'k:',k)"
   ]
  },
  {
   "cell_type": "code",
   "execution_count": 3,
   "metadata": {
    "collapsed": true
   },
   "outputs": [],
   "source": [
    "#generating data of size N\n",
    "N = 10000\n",
    "label = np.random.randint(M,size=N)"
   ]
  },
  {
   "cell_type": "code",
   "execution_count": 4,
   "metadata": {
    "collapsed": true
   },
   "outputs": [],
   "source": [
    "# creating one hot encoded vectors\n",
    "data = []\n",
    "for i in label:\n",
    "    temp = np.zeros(M)\n",
    "    temp[i] = 1\n",
    "    data.append(temp)"
   ]
  },
  {
   "cell_type": "code",
   "execution_count": 5,
   "metadata": {},
   "outputs": [
    {
     "name": "stdout",
     "output_type": "stream",
     "text": [
      "(10000, 4)\n"
     ]
    }
   ],
   "source": [
    "data = np.array(data)\n",
    "print (data.shape)"
   ]
  },
  {
   "cell_type": "code",
   "execution_count": 6,
   "metadata": {},
   "outputs": [
    {
     "name": "stdout",
     "output_type": "stream",
     "text": [
      "3 [0. 0. 0. 1.]\n",
      "2 [0. 0. 1. 0.]\n",
      "2 [0. 0. 1. 0.]\n",
      "2 [0. 0. 1. 0.]\n",
      "0 [1. 0. 0. 0.]\n",
      "0 [1. 0. 0. 0.]\n",
      "1 [0. 1. 0. 0.]\n",
      "3 [0. 0. 0. 1.]\n",
      "3 [0. 0. 0. 1.]\n"
     ]
    }
   ],
   "source": [
    "temp_check = [17,23,45,67,89,96,72,250,350]\n",
    "for i in temp_check:\n",
    "    print(label[i],data[i])"
   ]
  },
  {
   "cell_type": "code",
   "execution_count": 7,
   "metadata": {},
   "outputs": [
    {
     "name": "stdout",
     "output_type": "stream",
     "text": [
      "2\n"
     ]
    }
   ],
   "source": [
    "R = 1\n",
    "n_channel = 2\n",
    "print (int(k/R))\n",
    "input_signal = Input(shape=(M,))\n",
    "encoded = Dense(M, activation='relu')(input_signal)\n",
    "encoded1 = Dense(n_channel, activation='linear')(encoded)\n",
    "encoded2 = BatchNormalization()(encoded1)\n",
    "\n",
    "EbNo_train = 5.01187 #  coverted 7 db of EbNo\n",
    "encoded3 = GaussianNoise(np.sqrt(1/(2*R*EbNo_train)))(encoded2)\n",
    "\n",
    "decoded = Dense(M, activation='relu')(encoded3)\n",
    "decoded1 = Dense(M, activation='softmax')(decoded)\n",
    "\n",
    "autoencoder = Model(input_signal, decoded1)\n",
    "#sgd = SGD(lr=0.001)\n",
    "autoencoder.compile(optimizer='adam', loss='categorical_crossentropy')"
   ]
  },
  {
   "cell_type": "code",
   "execution_count": 8,
   "metadata": {},
   "outputs": [
    {
     "name": "stdout",
     "output_type": "stream",
     "text": [
      "Model: \"model\"\n",
      "_________________________________________________________________\n",
      " Layer (type)                Output Shape              Param #   \n",
      "=================================================================\n",
      " input_1 (InputLayer)        [(None, 4)]               0         \n",
      "                                                                 \n",
      " dense (Dense)               (None, 4)                 20        \n",
      "                                                                 \n",
      " dense_1 (Dense)             (None, 2)                 10        \n",
      "                                                                 \n",
      " batch_normalization (BatchN  (None, 2)                8         \n",
      " ormalization)                                                   \n",
      "                                                                 \n",
      " gaussian_noise (GaussianNoi  (None, 2)                0         \n",
      " se)                                                             \n",
      "                                                                 \n",
      " dense_2 (Dense)             (None, 4)                 12        \n",
      "                                                                 \n",
      " dense_3 (Dense)             (None, 4)                 20        \n",
      "                                                                 \n",
      "=================================================================\n",
      "Total params: 70\n",
      "Trainable params: 66\n",
      "Non-trainable params: 4\n",
      "_________________________________________________________________\n",
      "None\n"
     ]
    }
   ],
   "source": [
    "print (autoencoder.summary())"
   ]
  },
  {
   "cell_type": "code",
   "execution_count": 9,
   "metadata": {
    "collapsed": true
   },
   "outputs": [],
   "source": [
    "N_val = 1500\n",
    "val_label = np.random.randint(M,size=N_val)\n",
    "val_data = []\n",
    "for i in val_label:\n",
    "    temp = np.zeros(M)\n",
    "    temp[i] = 1\n",
    "    val_data.append(temp)\n",
    "val_data = np.array(val_data)"
   ]
  },
  {
   "cell_type": "code",
   "execution_count": 10,
   "metadata": {
    "scrolled": true
   },
   "outputs": [
    {
     "name": "stdout",
     "output_type": "stream",
     "text": [
      "Epoch 1/100\n",
      "34/34 [==============================] - 3s 20ms/step - loss: 1.5632 - val_loss: 1.4031\n",
      "Epoch 2/100\n",
      "34/34 [==============================] - 0s 9ms/step - loss: 1.4040 - val_loss: 1.3443\n",
      "Epoch 3/100\n",
      "34/34 [==============================] - 0s 8ms/step - loss: 1.2569 - val_loss: 1.2500\n",
      "Epoch 4/100\n",
      "34/34 [==============================] - 0s 7ms/step - loss: 1.1276 - val_loss: 1.1455\n",
      "Epoch 5/100\n",
      "34/34 [==============================] - 0s 7ms/step - loss: 1.0152 - val_loss: 1.0352\n",
      "Epoch 6/100\n",
      "34/34 [==============================] - 0s 8ms/step - loss: 0.9140 - val_loss: 0.9337\n",
      "Epoch 7/100\n",
      "34/34 [==============================] - 0s 7ms/step - loss: 0.8160 - val_loss: 0.8311\n",
      "Epoch 8/100\n",
      "34/34 [==============================] - 0s 7ms/step - loss: 0.7181 - val_loss: 0.7278\n",
      "Epoch 9/100\n",
      "34/34 [==============================] - 0s 7ms/step - loss: 0.6240 - val_loss: 0.6264\n",
      "Epoch 10/100\n",
      "34/34 [==============================] - 0s 7ms/step - loss: 0.5385 - val_loss: 0.5233\n",
      "Epoch 11/100\n",
      "34/34 [==============================] - 0s 7ms/step - loss: 0.4648 - val_loss: 0.4329\n",
      "Epoch 12/100\n",
      "34/34 [==============================] - 0s 7ms/step - loss: 0.3978 - val_loss: 0.3595\n",
      "Epoch 13/100\n",
      "34/34 [==============================] - 0s 12ms/step - loss: 0.3405 - val_loss: 0.2987\n",
      "Epoch 14/100\n",
      "34/34 [==============================] - 0s 7ms/step - loss: 0.2882 - val_loss: 0.2475\n",
      "Epoch 15/100\n",
      "34/34 [==============================] - 0s 7ms/step - loss: 0.2433 - val_loss: 0.2053\n",
      "Epoch 16/100\n",
      "34/34 [==============================] - 0s 7ms/step - loss: 0.2053 - val_loss: 0.1691\n",
      "Epoch 17/100\n",
      "34/34 [==============================] - 0s 7ms/step - loss: 0.1706 - val_loss: 0.1397\n",
      "Epoch 18/100\n",
      "34/34 [==============================] - 0s 7ms/step - loss: 0.1446 - val_loss: 0.1153\n",
      "Epoch 19/100\n",
      "34/34 [==============================] - 0s 7ms/step - loss: 0.1215 - val_loss: 0.0957\n",
      "Epoch 20/100\n",
      "34/34 [==============================] - 0s 8ms/step - loss: 0.1033 - val_loss: 0.0800\n",
      "Epoch 21/100\n",
      "34/34 [==============================] - 0s 8ms/step - loss: 0.0878 - val_loss: 0.0679\n",
      "Epoch 22/100\n",
      "34/34 [==============================] - 0s 7ms/step - loss: 0.0766 - val_loss: 0.0580\n",
      "Epoch 23/100\n",
      "34/34 [==============================] - 0s 8ms/step - loss: 0.0662 - val_loss: 0.0499\n",
      "Epoch 24/100\n",
      "34/34 [==============================] - 0s 8ms/step - loss: 0.0584 - val_loss: 0.0431\n",
      "Epoch 25/100\n",
      "34/34 [==============================] - 0s 7ms/step - loss: 0.0514 - val_loss: 0.0377\n",
      "Epoch 26/100\n",
      "34/34 [==============================] - 0s 5ms/step - loss: 0.0454 - val_loss: 0.0332\n",
      "Epoch 27/100\n",
      "34/34 [==============================] - 0s 5ms/step - loss: 0.0403 - val_loss: 0.0294\n",
      "Epoch 28/100\n",
      "34/34 [==============================] - 0s 4ms/step - loss: 0.0361 - val_loss: 0.0262\n",
      "Epoch 29/100\n",
      "34/34 [==============================] - 0s 6ms/step - loss: 0.0324 - val_loss: 0.0234\n",
      "Epoch 30/100\n",
      "34/34 [==============================] - 0s 7ms/step - loss: 0.0295 - val_loss: 0.0211\n",
      "Epoch 31/100\n",
      "34/34 [==============================] - 0s 8ms/step - loss: 0.0269 - val_loss: 0.0191\n",
      "Epoch 32/100\n",
      "34/34 [==============================] - 0s 8ms/step - loss: 0.0249 - val_loss: 0.0173\n",
      "Epoch 33/100\n",
      "34/34 [==============================] - 0s 8ms/step - loss: 0.0223 - val_loss: 0.0158\n",
      "Epoch 34/100\n",
      "34/34 [==============================] - 0s 8ms/step - loss: 0.0208 - val_loss: 0.0144\n",
      "Epoch 35/100\n",
      "34/34 [==============================] - 0s 13ms/step - loss: 0.0190 - val_loss: 0.0132\n",
      "Epoch 36/100\n",
      "34/34 [==============================] - 0s 6ms/step - loss: 0.0177 - val_loss: 0.0122\n",
      "Epoch 37/100\n",
      "34/34 [==============================] - 0s 6ms/step - loss: 0.0164 - val_loss: 0.0112\n",
      "Epoch 38/100\n",
      "34/34 [==============================] - 0s 5ms/step - loss: 0.0152 - val_loss: 0.0104\n",
      "Epoch 39/100\n",
      "34/34 [==============================] - 0s 5ms/step - loss: 0.0140 - val_loss: 0.0096\n",
      "Epoch 40/100\n",
      "34/34 [==============================] - 0s 6ms/step - loss: 0.0133 - val_loss: 0.0089\n",
      "Epoch 41/100\n",
      "34/34 [==============================] - 0s 8ms/step - loss: 0.0126 - val_loss: 0.0082\n",
      "Epoch 42/100\n",
      "34/34 [==============================] - 0s 8ms/step - loss: 0.0115 - val_loss: 0.0077\n",
      "Epoch 43/100\n",
      "34/34 [==============================] - 0s 10ms/step - loss: 0.0110 - val_loss: 0.0072\n",
      "Epoch 44/100\n",
      "34/34 [==============================] - 0s 7ms/step - loss: 0.0099 - val_loss: 0.0067\n",
      "Epoch 45/100\n",
      "34/34 [==============================] - 0s 5ms/step - loss: 0.0095 - val_loss: 0.0063\n",
      "Epoch 46/100\n",
      "34/34 [==============================] - 0s 5ms/step - loss: 0.0091 - val_loss: 0.0059\n",
      "Epoch 47/100\n",
      "34/34 [==============================] - 0s 8ms/step - loss: 0.0085 - val_loss: 0.0056\n",
      "Epoch 48/100\n",
      "34/34 [==============================] - 0s 8ms/step - loss: 0.0080 - val_loss: 0.0052\n",
      "Epoch 49/100\n",
      "34/34 [==============================] - 0s 7ms/step - loss: 0.0077 - val_loss: 0.0049\n",
      "Epoch 50/100\n",
      "34/34 [==============================] - 0s 8ms/step - loss: 0.0074 - val_loss: 0.0047\n",
      "Epoch 51/100\n",
      "34/34 [==============================] - 0s 8ms/step - loss: 0.0069 - val_loss: 0.0044\n",
      "Epoch 52/100\n",
      "34/34 [==============================] - 0s 8ms/step - loss: 0.0067 - val_loss: 0.0041\n",
      "Epoch 53/100\n",
      "34/34 [==============================] - 0s 13ms/step - loss: 0.0062 - val_loss: 0.0039\n",
      "Epoch 54/100\n",
      "34/34 [==============================] - 0s 7ms/step - loss: 0.0058 - val_loss: 0.0037\n",
      "Epoch 55/100\n",
      "34/34 [==============================] - 0s 8ms/step - loss: 0.0056 - val_loss: 0.0035\n",
      "Epoch 56/100\n",
      "34/34 [==============================] - 0s 10ms/step - loss: 0.0054 - val_loss: 0.0033\n",
      "Epoch 57/100\n",
      "34/34 [==============================] - 0s 9ms/step - loss: 0.0052 - val_loss: 0.0032\n",
      "Epoch 58/100\n",
      "34/34 [==============================] - 0s 8ms/step - loss: 0.0049 - val_loss: 0.0030\n",
      "Epoch 59/100\n",
      "34/34 [==============================] - 0s 8ms/step - loss: 0.0046 - val_loss: 0.0029\n",
      "Epoch 60/100\n",
      "34/34 [==============================] - 0s 8ms/step - loss: 0.0045 - val_loss: 0.0027\n",
      "Epoch 61/100\n",
      "34/34 [==============================] - 0s 10ms/step - loss: 0.0042 - val_loss: 0.0026\n",
      "Epoch 62/100\n",
      "34/34 [==============================] - 0s 7ms/step - loss: 0.0040 - val_loss: 0.0025\n",
      "Epoch 63/100\n",
      "34/34 [==============================] - 0s 7ms/step - loss: 0.0039 - val_loss: 0.0024\n",
      "Epoch 64/100\n",
      "34/34 [==============================] - 0s 6ms/step - loss: 0.0039 - val_loss: 0.0023\n",
      "Epoch 65/100\n",
      "34/34 [==============================] - 0s 5ms/step - loss: 0.0035 - val_loss: 0.0022\n",
      "Epoch 66/100\n",
      "34/34 [==============================] - 0s 6ms/step - loss: 0.0034 - val_loss: 0.0021\n",
      "Epoch 67/100\n",
      "34/34 [==============================] - 0s 6ms/step - loss: 0.0033 - val_loss: 0.0020\n",
      "Epoch 68/100\n",
      "34/34 [==============================] - 0s 6ms/step - loss: 0.0033 - val_loss: 0.0019\n",
      "Epoch 69/100\n",
      "34/34 [==============================] - 0s 6ms/step - loss: 0.0031 - val_loss: 0.0018\n",
      "Epoch 70/100\n",
      "34/34 [==============================] - 0s 6ms/step - loss: 0.0029 - val_loss: 0.0017\n",
      "Epoch 71/100\n",
      "34/34 [==============================] - 0s 6ms/step - loss: 0.0029 - val_loss: 0.0017\n",
      "Epoch 72/100\n",
      "34/34 [==============================] - 0s 5ms/step - loss: 0.0027 - val_loss: 0.0016\n",
      "Epoch 73/100\n",
      "34/34 [==============================] - 0s 5ms/step - loss: 0.0026 - val_loss: 0.0015\n",
      "Epoch 74/100\n",
      "34/34 [==============================] - 0s 6ms/step - loss: 0.0026 - val_loss: 0.0015\n",
      "Epoch 75/100\n",
      "34/34 [==============================] - 0s 11ms/step - loss: 0.0025 - val_loss: 0.0014\n",
      "Epoch 76/100\n",
      "34/34 [==============================] - 0s 8ms/step - loss: 0.0023 - val_loss: 0.0014\n",
      "Epoch 77/100\n",
      "34/34 [==============================] - 0s 8ms/step - loss: 0.0023 - val_loss: 0.0013\n",
      "Epoch 78/100\n",
      "34/34 [==============================] - 0s 8ms/step - loss: 0.0022 - val_loss: 0.0013\n",
      "Epoch 79/100\n",
      "34/34 [==============================] - 0s 7ms/step - loss: 0.0021 - val_loss: 0.0012\n",
      "Epoch 80/100\n",
      "34/34 [==============================] - 0s 6ms/step - loss: 0.0021 - val_loss: 0.0012\n",
      "Epoch 81/100\n",
      "34/34 [==============================] - 0s 5ms/step - loss: 0.0020 - val_loss: 0.0011\n",
      "Epoch 82/100\n",
      "34/34 [==============================] - 0s 6ms/step - loss: 0.0019 - val_loss: 0.0011\n",
      "Epoch 83/100\n",
      "34/34 [==============================] - 0s 6ms/step - loss: 0.0019 - val_loss: 0.0010\n",
      "Epoch 84/100\n",
      "34/34 [==============================] - 0s 5ms/step - loss: 0.0018 - val_loss: 9.9855e-04\n",
      "Epoch 85/100\n",
      "34/34 [==============================] - 0s 6ms/step - loss: 0.0018 - val_loss: 9.6626e-04\n",
      "Epoch 86/100\n",
      "34/34 [==============================] - 0s 6ms/step - loss: 0.0017 - val_loss: 9.2874e-04\n",
      "Epoch 87/100\n",
      "34/34 [==============================] - 0s 6ms/step - loss: 0.0017 - val_loss: 8.9884e-04\n",
      "Epoch 88/100\n",
      "34/34 [==============================] - 0s 5ms/step - loss: 0.0016 - val_loss: 8.5982e-04\n",
      "Epoch 89/100\n",
      "34/34 [==============================] - 0s 6ms/step - loss: 0.0015 - val_loss: 8.3292e-04\n",
      "Epoch 90/100\n",
      "34/34 [==============================] - 0s 6ms/step - loss: 0.0015 - val_loss: 8.1161e-04\n",
      "Epoch 91/100\n",
      "34/34 [==============================] - 0s 6ms/step - loss: 0.0014 - val_loss: 7.8530e-04\n",
      "Epoch 92/100\n",
      "34/34 [==============================] - 0s 6ms/step - loss: 0.0014 - val_loss: 7.5944e-04\n",
      "Epoch 93/100\n",
      "34/34 [==============================] - 0s 10ms/step - loss: 0.0014 - val_loss: 7.3059e-04\n",
      "Epoch 94/100\n",
      "34/34 [==============================] - 0s 6ms/step - loss: 0.0013 - val_loss: 7.0511e-04\n",
      "Epoch 95/100\n",
      "34/34 [==============================] - 0s 6ms/step - loss: 0.0012 - val_loss: 6.8391e-04\n",
      "Epoch 96/100\n",
      "34/34 [==============================] - 0s 6ms/step - loss: 0.0012 - val_loss: 6.5977e-04\n",
      "Epoch 97/100\n",
      "34/34 [==============================] - 0s 6ms/step - loss: 0.0012 - val_loss: 6.4091e-04\n",
      "Epoch 98/100\n",
      "34/34 [==============================] - 0s 6ms/step - loss: 0.0012 - val_loss: 6.1927e-04\n",
      "Epoch 99/100\n",
      "34/34 [==============================] - 0s 6ms/step - loss: 0.0011 - val_loss: 5.9786e-04\n",
      "Epoch 100/100\n",
      "34/34 [==============================] - 0s 6ms/step - loss: 0.0011 - val_loss: 5.7803e-04\n"
     ]
    },
    {
     "data": {
      "text/plain": [
       "<keras.callbacks.History at 0x2b620fcb2e0>"
      ]
     },
     "execution_count": 10,
     "metadata": {},
     "output_type": "execute_result"
    }
   ],
   "source": [
    "autoencoder.fit(data, data,\n",
    "                epochs=100,\n",
    "                batch_size=300,\n",
    "                validation_data=(val_data, val_data))"
   ]
  },
  {
   "cell_type": "code",
   "execution_count": 11,
   "metadata": {
    "collapsed": true
   },
   "outputs": [],
   "source": [
    "from keras.models import load_model\n",
    "#autoencoder.save('4_7_symbol_autoencoder_v_best.model')"
   ]
  },
  {
   "cell_type": "code",
   "execution_count": 12,
   "metadata": {
    "collapsed": true
   },
   "outputs": [],
   "source": [
    "#autoencoder_loaded = load_model('4_7_symbol_autoencoder_v_best.model')"
   ]
  },
  {
   "cell_type": "code",
   "execution_count": 13,
   "metadata": {
    "collapsed": true
   },
   "outputs": [],
   "source": [
    "encoder = Model(input_signal, encoded2)"
   ]
  },
  {
   "cell_type": "code",
   "execution_count": 14,
   "metadata": {
    "collapsed": true
   },
   "outputs": [],
   "source": [
    "encoded_input = Input(shape=(n_channel,))\n",
    "\n",
    "deco = autoencoder.layers[-2](encoded_input)\n",
    "deco = autoencoder.layers[-1](deco)\n",
    "# create the decoder model\n",
    "decoder = Model(encoded_input, deco)"
   ]
  },
  {
   "cell_type": "code",
   "execution_count": 15,
   "metadata": {
    "collapsed": true
   },
   "outputs": [],
   "source": [
    "N = 45000\n",
    "test_label = np.random.randint(M,size=N)\n",
    "test_data = []\n",
    "\n",
    "for i in test_label:\n",
    "    temp = np.zeros(M)\n",
    "    temp[i] = 1\n",
    "    test_data.append(temp)\n",
    "    \n",
    "test_data = np.array(test_data)"
   ]
  },
  {
   "cell_type": "code",
   "execution_count": 16,
   "metadata": {},
   "outputs": [
    {
     "name": "stdout",
     "output_type": "stream",
     "text": [
      "1.0 2\n"
     ]
    }
   ],
   "source": [
    "temp_test = 6\n",
    "print (test_data[temp_test][test_label[temp_test]],test_label[temp_test])"
   ]
  },
  {
   "cell_type": "code",
   "execution_count": 17,
   "metadata": {},
   "outputs": [
    {
     "data": {
      "text/plain": [
       "<keras.engine.functional.Functional at 0x2b620fc9960>"
      ]
     },
     "execution_count": 17,
     "metadata": {},
     "output_type": "execute_result"
    }
   ],
   "source": [
    "autoencoder"
   ]
  },
  {
   "cell_type": "code",
   "execution_count": 18,
   "metadata": {
    "collapsed": true
   },
   "outputs": [],
   "source": [
    "def frange(x, y, jump):\n",
    "  while x < y:\n",
    "    yield x\n",
    "    x += jump"
   ]
  },
  {
   "cell_type": "code",
   "execution_count": 19,
   "metadata": {},
   "outputs": [
    {
     "name": "stdout",
     "output_type": "stream",
     "text": [
      "1407/1407 [==============================] - 5s 3ms/step\n",
      "1407/1407 [==============================] - 4s 3ms/step\n",
      "SNR: -4 BER: 0.09013333333333333\n",
      "1407/1407 [==============================] - 5s 4ms/step\n",
      "1407/1407 [==============================] - 5s 3ms/step\n",
      "SNR: -3.5 BER: 0.07497777777777778\n",
      "1407/1407 [==============================] - 4s 3ms/step\n",
      "1407/1407 [==============================] - 5s 4ms/step\n",
      "SNR: -3.0 BER: 0.05837777777777778\n",
      "1407/1407 [==============================] - 5s 3ms/step\n",
      "1407/1407 [==============================] - 6s 4ms/step\n",
      "SNR: -2.5 BER: 0.04817777777777778\n",
      "1407/1407 [==============================] - 5s 3ms/step\n",
      "1407/1407 [==============================] - 5s 3ms/step\n",
      "SNR: -2.0 BER: 0.034022222222222225\n",
      "1407/1407 [==============================] - 4s 3ms/step\n",
      "1407/1407 [==============================] - 4s 3ms/step\n",
      "SNR: -1.5 BER: 0.024266666666666666\n",
      "1407/1407 [==============================] - 5s 3ms/step\n",
      "1407/1407 [==============================] - 4s 3ms/step\n",
      "SNR: -1.0 BER: 0.018333333333333333\n",
      "1407/1407 [==============================] - 5s 3ms/step\n",
      "1407/1407 [==============================] - 5s 3ms/step\n",
      "SNR: -0.5 BER: 0.01331111111111111\n",
      "1407/1407 [==============================] - 5s 3ms/step\n",
      "1407/1407 [==============================] - 4s 3ms/step\n",
      "SNR: 0.0 BER: 0.008311111111111111\n",
      "1407/1407 [==============================] - 5s 4ms/step\n",
      "1407/1407 [==============================] - 5s 3ms/step\n",
      "SNR: 0.5 BER: 0.006022222222222222\n",
      "1407/1407 [==============================] - 5s 3ms/step\n",
      "1407/1407 [==============================] - 4s 3ms/step\n",
      "SNR: 1.0 BER: 0.003022222222222222\n",
      "1407/1407 [==============================] - 5s 4ms/step\n",
      "1407/1407 [==============================] - 5s 4ms/step\n",
      "SNR: 1.5 BER: 0.0016444444444444445\n",
      "1407/1407 [==============================] - 6s 4ms/step\n",
      "1407/1407 [==============================] - 5s 3ms/step\n",
      "SNR: 2.0 BER: 0.0011333333333333334\n",
      "1407/1407 [==============================] - 4s 3ms/step\n",
      "1407/1407 [==============================] - 4s 3ms/step\n",
      "SNR: 2.5 BER: 0.0004888888888888889\n",
      "1407/1407 [==============================] - 4s 3ms/step\n",
      "1407/1407 [==============================] - 4s 3ms/step\n",
      "SNR: 3.0 BER: 0.00017777777777777779\n",
      "1407/1407 [==============================] - 5s 3ms/step\n",
      "1407/1407 [==============================] - 5s 3ms/step\n",
      "SNR: 3.5 BER: 4.4444444444444447e-05\n",
      "1407/1407 [==============================] - 5s 3ms/step\n",
      "1407/1407 [==============================] - 5s 3ms/step\n",
      "SNR: 4.0 BER: 2.2222222222222223e-05\n",
      "1407/1407 [==============================] - 5s 4ms/step\n",
      "1407/1407 [==============================] - 5s 3ms/step\n",
      "SNR: 4.5 BER: 4.4444444444444447e-05\n",
      "1407/1407 [==============================] - 5s 4ms/step\n",
      "1407/1407 [==============================] - 5s 3ms/step\n",
      "SNR: 5.0 BER: 2.2222222222222223e-05\n",
      "1407/1407 [==============================] - 5s 3ms/step\n",
      "1407/1407 [==============================] - 5s 3ms/step\n",
      "SNR: 5.5 BER: 0.0\n",
      "1407/1407 [==============================] - 5s 4ms/step\n",
      "1407/1407 [==============================] - 5s 3ms/step\n",
      "SNR: 6.0 BER: 0.0\n",
      "1407/1407 [==============================] - 5s 3ms/step\n",
      "1407/1407 [==============================] - 5s 4ms/step\n",
      "SNR: 6.5 BER: 0.0\n",
      "1407/1407 [==============================] - 5s 3ms/step\n",
      "1407/1407 [==============================] - 5s 3ms/step\n",
      "SNR: 7.0 BER: 0.0\n",
      "1407/1407 [==============================] - 5s 3ms/step\n",
      "1407/1407 [==============================] - 5s 3ms/step\n",
      "SNR: 7.5 BER: 0.0\n",
      "1407/1407 [==============================] - 6s 4ms/step\n",
      "1407/1407 [==============================] - 6s 4ms/step\n",
      "SNR: 8.0 BER: 0.0\n"
     ]
    }
   ],
   "source": [
    "EbNodB_range = list(frange(-4,8.5,0.5))\n",
    "ber = [None]*len(EbNodB_range)\n",
    "for n in range(0,len(EbNodB_range)):\n",
    "    EbNo=10.0**(EbNodB_range[n]/10.0)\n",
    "    noise_std = np.sqrt(1/(2*R*EbNo))\n",
    "    noise_mean = 0\n",
    "    no_errors = 0\n",
    "    nn = N\n",
    "    noise = noise_std * np.random.randn(nn,n_channel)\n",
    "    encoded_signal = encoder.predict(test_data) \n",
    "    final_signal = encoded_signal + noise\n",
    "    pred_final_signal =  decoder.predict(final_signal)\n",
    "    pred_output = np.argmax(pred_final_signal,axis=1)\n",
    "    no_errors = (pred_output != test_label)\n",
    "    no_errors =  no_errors.astype(int).sum()\n",
    "    ber[n] = no_errors / nn \n",
    "    print ('SNR:',EbNodB_range[n],'BER:',ber[n])"
   ]
  },
  {
   "cell_type": "code",
   "execution_count": 20,
   "metadata": {},
   "outputs": [
    {
     "data": {
      "text/plain": [
       "<matplotlib.legend.Legend at 0x2b62334abf0>"
      ]
     },
     "execution_count": 20,
     "metadata": {},
     "output_type": "execute_result"
    },
    {
     "data": {
      "image/png": "[encoded data removed]",
      "text/plain": [
       "<Figure size 432x288 with 1 Axes>"
      ]
     },
     "metadata": {
      "needs_background": "light"
     },
     "output_type": "display_data"
    }
   ],
   "source": [
    "import matplotlib.pyplot as plt\n",
    "plt.plot(EbNodB_range, ber, 'bo',label='Autoencoder(2,2)')\n",
    "#plt.plot(list(EbNodB_range), ber_theory, 'ro-',label='BPSK BER')\n",
    "plt.yscale('log')\n",
    "plt.xlabel('SNR Range')\n",
    "plt.ylabel('Block Error Rate')\n",
    "plt.grid()\n",
    "plt.legend(loc='upper right',ncol = 1)"
   ]
  },
  {
   "cell_type": "code",
   "execution_count": 22,
   "metadata": {},
   "outputs": [
    {
     "data": {
      "text/plain": [
       "<Figure size 432x288 with 0 Axes>"
      ]
     },
     "metadata": {},
     "output_type": "display_data"
    }
   ],
   "source": [
    "plt.savefig('AutoEncoder_2_2_BER_matplotlib')\n",
    "plt.show()"
   ]
  },
  {
   "cell_type": "code",
   "execution_count": null,
   "metadata": {
    "collapsed": true
   },
   "outputs": [],
   "source": []
  }
 ],
 "metadata": {
  "anaconda-cloud": {},
  "kernelspec": {
   "display_name": "Python 3",
   "language": "python",
   "name": "python3"
  },
  "language_info": {
   "codemirror_mode": {
    "name": "ipython",
    "version": 3
   },
   "file_extension": ".py",
   "mimetype": "text/x-python",
   "name": "python",
   "nbconvert_exporter": "python",
   "pygments_lexer": "ipython3",
   "version": "3.10.0"
  }
 },
 "nbformat": 4,
 "nbformat_minor": 2
}
