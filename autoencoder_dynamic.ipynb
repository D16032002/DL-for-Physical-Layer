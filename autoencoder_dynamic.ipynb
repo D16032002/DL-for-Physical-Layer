{
 "cells": [
  {
   "cell_type": "code",
   "execution_count": 28,
   "id": "87f37be5",
   "metadata": {},
   "outputs": [
    {
     "name": "stdout",
     "output_type": "stream",
     "text": [
      "Collecting scikit-learnNote: you may need to restart the kernel to use updated packages.\n",
      "\n",
      "  Obtaining dependency information for scikit-learn from https://files.pythonhosted.org/packages/f1/7d/2e562207176a5dcdad513085670674bb11ffaf37e1393eacb6d7fb502481/scikit_learn-1.3.1-cp311-cp311-win_amd64.whl.metadata\n",
      "  Downloading scikit_learn-1.3.1-cp311-cp311-win_amd64.whl.metadata (11 kB)\n",
      "Requirement already satisfied: numpy<2.0,>=1.17.3 in c:\\new_folder\\envs\\new_env\\lib\\site-packages (from scikit-learn) (1.24.3)\n",
      "Collecting scipy>=1.5.0 (from scikit-learn)\n",
      "  Obtaining dependency information for scipy>=1.5.0 from https://files.pythonhosted.org/packages/06/15/e73734f9170b66c6a84a0bd7e03586e87e77404e2eb8e34749fc49fa43f7/scipy-1.11.2-cp311-cp311-win_amd64.whl.metadata\n",
      "  Downloading scipy-1.11.2-cp311-cp311-win_amd64.whl.metadata (59 kB)\n",
      "     ---------------------------------------- 0.0/59.1 kB ? eta -:--:--\n",
      "     ------ --------------------------------- 10.2/59.1 kB ? eta -:--:--\n",
      "     ------ --------------------------------- 10.2/59.1 kB ? eta -:--:--\n",
      "     -------------------------- ----------- 41.0/59.1 kB 388.9 kB/s eta 0:00:01\n",
      "     -------------------------------------- 59.1/59.1 kB 444.2 kB/s eta 0:00:00\n",
      "Collecting joblib>=1.1.1 (from scikit-learn)\n",
      "  Obtaining dependency information for joblib>=1.1.1 from https://files.pythonhosted.org/packages/10/40/d551139c85db202f1f384ba8bcf96aca2f329440a844f924c8a0040b6d02/joblib-1.3.2-py3-none-any.whl.metadata\n",
      "  Downloading joblib-1.3.2-py3-none-any.whl.metadata (5.4 kB)\n",
      "Collecting threadpoolctl>=2.0.0 (from scikit-learn)\n",
      "  Obtaining dependency information for threadpoolctl>=2.0.0 from https://files.pythonhosted.org/packages/81/12/fd4dea011af9d69e1cad05c75f3f7202cdcbeac9b712eea58ca779a72865/threadpoolctl-3.2.0-py3-none-any.whl.metadata\n",
      "  Downloading threadpoolctl-3.2.0-py3-none-any.whl.metadata (10.0 kB)\n",
      "Downloading scikit_learn-1.3.1-cp311-cp311-win_amd64.whl (9.2 MB)\n",
      "   ---------------------------------------- 0.0/9.2 MB ? eta -:--:--\n",
      "   ---------------------------------------- 0.1/9.2 MB 3.2 MB/s eta 0:00:03\n",
      "    --------------------------------------- 0.1/9.2 MB 1.6 MB/s eta 0:00:06\n",
      "    --------------------------------------- 0.2/9.2 MB 2.0 MB/s eta 0:00:05\n",
      "   - -------------------------------------- 0.5/9.2 MB 2.8 MB/s eta 0:00:04\n",
      "   -- ------------------------------------- 0.5/9.2 MB 2.4 MB/s eta 0:00:04\n",
      "   --- ------------------------------------ 0.7/9.2 MB 2.9 MB/s eta 0:00:03\n",
      "   --- ------------------------------------ 0.8/9.2 MB 2.6 MB/s eta 0:00:04\n",
      "   ---- ----------------------------------- 1.1/9.2 MB 3.1 MB/s eta 0:00:03\n",
      "   ----- ---------------------------------- 1.2/9.2 MB 3.0 MB/s eta 0:00:03\n",
      "   ------ --------------------------------- 1.5/9.2 MB 3.3 MB/s eta 0:00:03\n",
      "   ------- -------------------------------- 1.7/9.2 MB 3.4 MB/s eta 0:00:03\n",
      "   -------- ------------------------------- 1.9/9.2 MB 3.5 MB/s eta 0:00:03\n",
      "   --------- ------------------------------ 2.1/9.2 MB 3.6 MB/s eta 0:00:02\n",
      "   ---------- ----------------------------- 2.4/9.2 MB 3.7 MB/s eta 0:00:02\n",
      "   ----------- ---------------------------- 2.7/9.2 MB 3.9 MB/s eta 0:00:02\n",
      "   ------------ --------------------------- 2.9/9.2 MB 4.0 MB/s eta 0:00:02\n",
      "   ------------ --------------------------- 3.0/9.2 MB 3.9 MB/s eta 0:00:02\n",
      "   -------------- ------------------------- 3.4/9.2 MB 4.1 MB/s eta 0:00:02\n",
      "   --------------- ------------------------ 3.6/9.2 MB 4.1 MB/s eta 0:00:02\n",
      "   ---------------- ----------------------- 3.8/9.2 MB 4.2 MB/s eta 0:00:02\n",
      "   ----------------- ---------------------- 4.0/9.2 MB 4.1 MB/s eta 0:00:02\n",
      "   ------------------- -------------------- 4.4/9.2 MB 4.3 MB/s eta 0:00:02\n",
      "   -------------------- ------------------- 4.7/9.2 MB 4.4 MB/s eta 0:00:02\n",
      "   --------------------- ------------------ 4.9/9.2 MB 4.4 MB/s eta 0:00:01\n",
      "   ---------------------- ----------------- 5.1/9.2 MB 4.4 MB/s eta 0:00:01\n",
      "   ------------------------ --------------- 5.6/9.2 MB 4.6 MB/s eta 0:00:01\n",
      "   ------------------------ --------------- 5.7/9.2 MB 4.6 MB/s eta 0:00:01\n",
      "   ------------------------- -------------- 6.0/9.2 MB 4.6 MB/s eta 0:00:01\n",
      "   --------------------------- ------------ 6.2/9.2 MB 4.6 MB/s eta 0:00:01\n",
      "   ---------------------------- ----------- 6.6/9.2 MB 4.8 MB/s eta 0:00:01\n",
      "   ----------------------------- ---------- 6.9/9.2 MB 4.7 MB/s eta 0:00:01\n",
      "   ------------------------------- -------- 7.2/9.2 MB 4.8 MB/s eta 0:00:01\n",
      "   --------------------------------- ------ 7.7/9.2 MB 5.0 MB/s eta 0:00:01\n",
      "   ---------------------------------- ----- 8.0/9.2 MB 5.1 MB/s eta 0:00:01\n",
      "   ------------------------------------- -- 8.5/9.2 MB 5.2 MB/s eta 0:00:01\n",
      "   ---------------------------------------  9.0/9.2 MB 5.3 MB/s eta 0:00:01\n",
      "   ---------------------------------------  9.2/9.2 MB 5.3 MB/s eta 0:00:01\n",
      "   ---------------------------------------  9.2/9.2 MB 5.3 MB/s eta 0:00:01\n",
      "   ---------------------------------------- 9.2/9.2 MB 5.1 MB/s eta 0:00:00\n",
      "Downloading joblib-1.3.2-py3-none-any.whl (302 kB)\n",
      "   ---------------------------------------- 0.0/302.2 kB ? eta -:--:--\n",
      "   ---------------------------------------- 302.2/302.2 kB 6.2 MB/s eta 0:00:00\n",
      "Downloading scipy-1.11.2-cp311-cp311-win_amd64.whl (44.0 MB)\n",
      "   ---------------------------------------- 0.0/44.0 MB ? eta -:--:--\n",
      "   ---------------------------------------- 0.2/44.0 MB 12.2 MB/s eta 0:00:04\n",
      "    --------------------------------------- 0.9/44.0 MB 11.9 MB/s eta 0:00:04\n",
      "   - -------------------------------------- 1.3/44.0 MB 10.0 MB/s eta 0:00:05\n",
      "   - -------------------------------------- 1.7/44.0 MB 10.0 MB/s eta 0:00:05\n",
      "   -- ------------------------------------- 2.3/44.0 MB 10.3 MB/s eta 0:00:05\n",
      "   -- ------------------------------------- 2.6/44.0 MB 9.8 MB/s eta 0:00:05\n",
      "   -- ------------------------------------- 3.1/44.0 MB 10.0 MB/s eta 0:00:05\n",
      "   --- ------------------------------------ 3.6/44.0 MB 10.1 MB/s eta 0:00:05\n",
      "   --- ------------------------------------ 4.1/44.0 MB 10.0 MB/s eta 0:00:05\n",
      "   ---- ----------------------------------- 4.5/44.0 MB 10.0 MB/s eta 0:00:04\n",
      "   ---- ----------------------------------- 5.1/44.0 MB 9.9 MB/s eta 0:00:04\n",
      "   ----- ---------------------------------- 5.7/44.0 MB 10.0 MB/s eta 0:00:04\n",
      "   ----- ---------------------------------- 6.2/44.0 MB 10.2 MB/s eta 0:00:04\n",
      "   ------ --------------------------------- 6.6/44.0 MB 10.3 MB/s eta 0:00:04\n",
      "   ------ --------------------------------- 7.1/44.0 MB 10.2 MB/s eta 0:00:04\n",
      "   ------- -------------------------------- 7.7/44.0 MB 10.5 MB/s eta 0:00:04\n",
      "   ------- -------------------------------- 8.2/44.0 MB 10.2 MB/s eta 0:00:04\n",
      "   -------- ------------------------------- 9.0/44.0 MB 10.5 MB/s eta 0:00:04\n",
      "   -------- ------------------------------- 9.2/44.0 MB 10.7 MB/s eta 0:00:04\n",
      "   -------- ------------------------------- 9.2/44.0 MB 10.7 MB/s eta 0:00:04\n",
      "   -------- ------------------------------- 9.8/44.0 MB 9.8 MB/s eta 0:00:04\n",
      "   ---------- ----------------------------- 11.1/44.0 MB 10.6 MB/s eta 0:00:04\n",
      "   ---------- ----------------------------- 11.9/44.0 MB 11.1 MB/s eta 0:00:03\n",
      "   ----------- ---------------------------- 12.3/44.0 MB 11.1 MB/s eta 0:00:03\n",
      "   ----------- ---------------------------- 12.5/44.0 MB 10.6 MB/s eta 0:00:03\n",
      "   ------------ --------------------------- 13.3/44.0 MB 11.1 MB/s eta 0:00:03\n",
      "   ------------ --------------------------- 13.4/44.0 MB 11.1 MB/s eta 0:00:03\n",
      "   ------------ --------------------------- 13.9/44.0 MB 10.7 MB/s eta 0:00:03\n",
      "   ------------- -------------------------- 14.4/44.0 MB 11.1 MB/s eta 0:00:03\n",
      "   ------------- -------------------------- 14.9/44.0 MB 10.7 MB/s eta 0:00:03\n",
      "   ------------- -------------------------- 15.3/44.0 MB 10.7 MB/s eta 0:00:03\n",
      "   -------------- ------------------------- 16.0/44.0 MB 10.9 MB/s eta 0:00:03\n",
      "   --------------- ------------------------ 16.5/44.0 MB 10.6 MB/s eta 0:00:03\n",
      "   --------------- ------------------------ 17.0/44.0 MB 10.9 MB/s eta 0:00:03\n",
      "   ---------------- ----------------------- 17.6/44.0 MB 10.9 MB/s eta 0:00:03\n",
      "   ---------------- ----------------------- 18.1/44.0 MB 10.9 MB/s eta 0:00:03\n",
      "   ---------------- ----------------------- 18.4/44.0 MB 10.7 MB/s eta 0:00:03\n",
      "   ----------------- ---------------------- 19.2/44.0 MB 10.7 MB/s eta 0:00:03\n",
      "   ----------------- ---------------------- 19.6/44.0 MB 11.7 MB/s eta 0:00:03\n",
      "   ------------------ --------------------- 20.0/44.0 MB 11.5 MB/s eta 0:00:03\n",
      "   ------------------ --------------------- 20.6/44.0 MB 11.1 MB/s eta 0:00:03\n",
      "   ------------------- -------------------- 20.9/44.0 MB 10.7 MB/s eta 0:00:03\n",
      "   ------------------- -------------------- 21.5/44.0 MB 10.6 MB/s eta 0:00:03\n",
      "   ------------------- -------------------- 21.9/44.0 MB 10.2 MB/s eta 0:00:03\n",
      "   -------------------- ------------------- 22.5/44.0 MB 10.2 MB/s eta 0:00:03\n",
      "   -------------------- ------------------- 23.0/44.0 MB 10.6 MB/s eta 0:00:02\n",
      "   --------------------- ------------------ 23.6/44.0 MB 10.7 MB/s eta 0:00:02\n",
      "   --------------------- ------------------ 24.2/44.0 MB 10.9 MB/s eta 0:00:02\n",
      "   ---------------------- ----------------- 24.7/44.0 MB 10.9 MB/s eta 0:00:02\n",
      "   ---------------------- ----------------- 25.3/44.0 MB 10.9 MB/s eta 0:00:02\n",
      "   ----------------------- ---------------- 25.8/44.0 MB 11.1 MB/s eta 0:00:02\n",
      "   ------------------------ --------------- 26.4/44.0 MB 10.9 MB/s eta 0:00:02\n",
      "   ------------------------ --------------- 27.0/44.0 MB 11.1 MB/s eta 0:00:02\n",
      "   ------------------------ --------------- 27.4/44.0 MB 11.1 MB/s eta 0:00:02\n",
      "   ------------------------- -------------- 28.0/44.0 MB 10.9 MB/s eta 0:00:02\n",
      "   -------------------------- ------------- 28.6/44.0 MB 11.1 MB/s eta 0:00:02\n",
      "   -------------------------- ------------- 29.2/44.0 MB 11.3 MB/s eta 0:00:02\n",
      "   -------------------------- ------------- 29.4/44.0 MB 11.1 MB/s eta 0:00:02\n",
      "   --------------------------- ------------ 30.2/44.0 MB 11.3 MB/s eta 0:00:02\n",
      "   --------------------------- ------------ 30.6/44.0 MB 11.3 MB/s eta 0:00:02\n",
      "   ---------------------------- ----------- 30.9/44.0 MB 10.9 MB/s eta 0:00:02\n",
      "   ---------------------------- ----------- 31.5/44.0 MB 11.5 MB/s eta 0:00:02\n",
      "   ----------------------------- ---------- 32.1/44.0 MB 11.1 MB/s eta 0:00:02\n",
      "   ----------------------------- ---------- 32.4/44.0 MB 11.3 MB/s eta 0:00:02\n",
      "   ------------------------------ --------- 33.0/44.0 MB 11.3 MB/s eta 0:00:01\n",
      "   ------------------------------ --------- 33.5/44.0 MB 11.1 MB/s eta 0:00:01\n",
      "   ------------------------------- -------- 34.1/44.0 MB 11.1 MB/s eta 0:00:01\n",
      "   ------------------------------- -------- 34.7/44.0 MB 11.1 MB/s eta 0:00:01\n",
      "   -------------------------------- ------- 35.3/44.0 MB 11.1 MB/s eta 0:00:01\n",
      "   -------------------------------- ------- 35.7/44.0 MB 11.1 MB/s eta 0:00:01\n",
      "   --------------------------------- ------ 36.3/44.0 MB 11.3 MB/s eta 0:00:01\n",
      "   --------------------------------- ------ 36.7/44.0 MB 10.9 MB/s eta 0:00:01\n",
      "   ---------------------------------- ----- 37.6/44.0 MB 11.3 MB/s eta 0:00:01\n",
      "   ---------------------------------- ----- 37.8/44.0 MB 11.1 MB/s eta 0:00:01\n",
      "   ----------------------------------- ---- 38.6/44.0 MB 11.1 MB/s eta 0:00:01\n",
      "   ----------------------------------- ---- 39.1/44.0 MB 11.1 MB/s eta 0:00:01\n",
      "   ------------------------------------ --- 39.7/44.0 MB 11.5 MB/s eta 0:00:01\n",
      "   ------------------------------------ --- 40.3/44.0 MB 11.1 MB/s eta 0:00:01\n",
      "   ------------------------------------- -- 40.7/44.0 MB 10.9 MB/s eta 0:00:01\n",
      "   ------------------------------------- -- 41.3/44.0 MB 11.5 MB/s eta 0:00:01\n",
      "   ------------------------------------- -- 41.6/44.0 MB 11.3 MB/s eta 0:00:01\n",
      "   -------------------------------------- - 42.4/44.0 MB 11.5 MB/s eta 0:00:01\n",
      "   ---------------------------------------  42.9/44.0 MB 11.7 MB/s eta 0:00:01\n",
      "   ---------------------------------------  43.3/44.0 MB 11.3 MB/s eta 0:00:01\n",
      "   ---------------------------------------  43.6/44.0 MB 10.9 MB/s eta 0:00:01\n",
      "   ---------------------------------------  44.0/44.0 MB 11.1 MB/s eta 0:00:01\n",
      "   ---------------------------------------  44.0/44.0 MB 11.1 MB/s eta 0:00:01\n",
      "   ---------------------------------------  44.0/44.0 MB 11.1 MB/s eta 0:00:01\n",
      "   ---------------------------------------  44.0/44.0 MB 11.1 MB/s eta 0:00:01\n",
      "   ---------------------------------------- 44.0/44.0 MB 7.9 MB/s eta 0:00:00\n",
      "Downloading threadpoolctl-3.2.0-py3-none-any.whl (15 kB)\n",
      "Installing collected packages: threadpoolctl, scipy, joblib, scikit-learn\n",
      "Successfully installed joblib-1.3.2 scikit-learn-1.3.1 scipy-1.11.2 threadpoolctl-3.2.0\n"
     ]
    }
   ],
   "source": [
    "pip install scikit-learn"
   ]
  },
  {
   "cell_type": "code",
   "execution_count": 1,
   "id": "c9dd412e",
   "metadata": {},
   "outputs": [],
   "source": [
    "# importing libs\n",
    "import numpy as np\n",
    "import tensorflow as tf\n",
    "import keras\n",
    "from keras.layers import Input, Dense, GaussianNoise,Lambda,Dropout\n",
    "from keras.models import Model\n",
    "from keras import regularizers\n",
    "from keras.layers import BatchNormalization\n",
    "from keras.optimizers import Adam,SGD\n",
    "from keras import backend as K"
   ]
  },
  {
   "cell_type": "code",
   "execution_count": 4,
   "id": "b76d9dae",
   "metadata": {
    "scrolled": true
   },
   "outputs": [
    {
     "ename": "NameError",
     "evalue": "name 'tf' is not defined",
     "output_type": "error",
     "traceback": [
      "\u001b[1;31m---------------------------------------------------------------------------\u001b[0m",
      "\u001b[1;31mNameError\u001b[0m                                 Traceback (most recent call last)",
      "Cell \u001b[1;32mIn[4], line 5\u001b[0m\n\u001b[0;32m      3\u001b[0m seed(\u001b[38;5;241m1\u001b[39m)\n\u001b[0;32m      4\u001b[0m \u001b[38;5;66;03m# from tensorflow import set_random_seed\u001b[39;00m\n\u001b[1;32m----> 5\u001b[0m \u001b[43mtf\u001b[49m\u001b[38;5;241m.\u001b[39mrandom\u001b[38;5;241m.\u001b[39mset_seed(\u001b[38;5;241m3\u001b[39m)\n",
      "\u001b[1;31mNameError\u001b[0m: name 'tf' is not defined"
     ]
    }
   ],
   "source": [
    "# for reproducing result\n",
    "from numpy.random import seed\n",
    "seed(1)\n",
    "# from tensorflow import set_random_seed\n",
    "tf.random.set_seed(3)"
   ]
  },
  {
   "cell_type": "code",
   "execution_count": 7,
   "id": "888a61af",
   "metadata": {},
   "outputs": [
    {
     "name": "stdout",
     "output_type": "stream",
     "text": [
      "M: 4 k: 2 n: 2\n"
     ]
    }
   ],
   "source": [
    "# defining parameters\n",
    "# define (n,k) here for (n,k) autoencoder\n",
    "# n = n_channel \n",
    "# k = log2(M)  ==> so for (7,4) autoencoder n_channel = 7 and M = 2^4 = 16 \n",
    "M = 4\n",
    "k = np.log2(M)\n",
    "k = int(k)\n",
    "n_channel = 2\n",
    "R = k/n_channel\n",
    "print ('M:',M,'k:',k,'n:',n_channel)"
   ]
  },
  {
   "cell_type": "code",
   "execution_count": 8,
   "id": "a2631b62",
   "metadata": {},
   "outputs": [],
   "source": [
    "#generating data of size N\n",
    "N = 8000\n",
    "label = np.random.randint(M,size=N)"
   ]
  },
  {
   "cell_type": "code",
   "execution_count": 9,
   "id": "2fffad72",
   "metadata": {},
   "outputs": [],
   "source": [
    "# creating one hot encoded vectors\n",
    "data = []\n",
    "for i in label:\n",
    "    temp = np.zeros(M)\n",
    "    temp[i] = 1\n",
    "    data.append(temp)"
   ]
  },
  {
   "cell_type": "code",
   "execution_count": 10,
   "id": "81c34d3a",
   "metadata": {},
   "outputs": [
    {
     "name": "stdout",
     "output_type": "stream",
     "text": [
      "(8000, 4)\n"
     ]
    }
   ],
   "source": [
    "# checking data shape\n",
    "data = np.array(data)\n",
    "print (data.shape)"
   ]
  },
  {
   "cell_type": "code",
   "execution_count": 11,
   "id": "654570ef",
   "metadata": {},
   "outputs": [
    {
     "name": "stdout",
     "output_type": "stream",
     "text": [
      "1 [0. 1. 0. 0.]\n",
      "0 [1. 0. 0. 0.]\n",
      "1 [0. 1. 0. 0.]\n",
      "3 [0. 0. 0. 1.]\n",
      "1 [0. 1. 0. 0.]\n",
      "3 [0. 0. 0. 1.]\n",
      "0 [1. 0. 0. 0.]\n",
      "3 [0. 0. 0. 1.]\n",
      "0 [1. 0. 0. 0.]\n"
     ]
    }
   ],
   "source": [
    "# checking generated data with it's label\n",
    "temp_check = [17,23,45,67,89,96,72,250,350]\n",
    "for i in temp_check:\n",
    "    print(label[i],data[i])"
   ]
  },
  {
   "cell_type": "code",
   "execution_count": 12,
   "id": "0aa953f8",
   "metadata": {},
   "outputs": [
    {
     "name": "stderr",
     "output_type": "stream",
     "text": [
      "WARNING:absl:`lr` is deprecated in Keras optimizer, please use `learning_rate` or use the legacy optimizer, e.g.,tf.keras.optimizers.legacy.Adam.\n"
     ]
    }
   ],
   "source": [
    "# defining autoencoder and it's layer\n",
    "input_signal = Input(shape=(M,))\n",
    "encoded = Dense(M, activation='relu')(input_signal)\n",
    "encoded1 = Dense(n_channel, activation='linear')(encoded)\n",
    "encoded2 = Lambda(lambda x: np.sqrt(n_channel)*K.l2_normalize(x,axis=1))(encoded1)\n",
    "\n",
    "EbNo_train = 5.01187 #  coverted 7 db of EbNo\n",
    "encoded3 = GaussianNoise(np.sqrt(1/(2*R*EbNo_train)))(encoded2)\n",
    "\n",
    "decoded = Dense(M, activation='relu')(encoded3)\n",
    "decoded1 = Dense(M, activation='softmax')(decoded)\n",
    "autoencoder = Model(input_signal, decoded1)\n",
    "adam = Adam(lr=0.01)\n",
    "autoencoder.compile(optimizer=adam, loss='categorical_crossentropy')"
   ]
  },
  {
   "cell_type": "code",
   "execution_count": 13,
   "id": "9844612f",
   "metadata": {},
   "outputs": [
    {
     "name": "stdout",
     "output_type": "stream",
     "text": [
      "Model: \"model\"\n",
      "_________________________________________________________________\n",
      " Layer (type)                Output Shape              Param #   \n",
      "=================================================================\n",
      " input_1 (InputLayer)        [(None, 4)]               0         \n",
      "                                                                 \n",
      " dense (Dense)               (None, 4)                 20        \n",
      "                                                                 \n",
      " dense_1 (Dense)             (None, 2)                 10        \n",
      "                                                                 \n",
      " lambda (Lambda)             (None, 2)                 0         \n",
      "                                                                 \n",
      " gaussian_noise (GaussianNo  (None, 2)                 0         \n",
      " ise)                                                            \n",
      "                                                                 \n",
      " dense_2 (Dense)             (None, 4)                 12        \n",
      "                                                                 \n",
      " dense_3 (Dense)             (None, 4)                 20        \n",
      "                                                                 \n",
      "=================================================================\n",
      "Total params: 62 (248.00 Byte)\n",
      "Trainable params: 62 (248.00 Byte)\n",
      "Non-trainable params: 0 (0.00 Byte)\n",
      "_________________________________________________________________\n",
      "None\n"
     ]
    }
   ],
   "source": [
    "# printing summary of layers and it's trainable parameters \n",
    "print (autoencoder.summary())"
   ]
  },
  {
   "cell_type": "code",
   "execution_count": 17,
   "id": "7354e215",
   "metadata": {},
   "outputs": [],
   "source": [
    "# for tensor board visualization\n",
    "# tbCallBack = keras.callbacks.TensorBoard(log_dir='./logs', histogram_freq=0, write_graph=True, write_images=True)"
   ]
  },
  {
   "cell_type": "code",
   "execution_count": 19,
   "id": "e489e254",
   "metadata": {},
   "outputs": [
    {
     "name": "stdout",
     "output_type": "stream",
     "text": [
      "Epoch 1/45\n",
      "250/250 [==============================] - 3s 4ms/step - loss: 1.2469\n",
      "Epoch 2/45\n",
      "250/250 [==============================] - 1s 4ms/step - loss: 0.8100\n",
      "Epoch 3/45\n",
      "250/250 [==============================] - 1s 5ms/step - loss: 0.4605\n",
      "Epoch 4/45\n",
      "250/250 [==============================] - 1s 5ms/step - loss: 0.2411\n",
      "Epoch 5/45\n",
      "250/250 [==============================] - 1s 5ms/step - loss: 0.1413\n",
      "Epoch 6/45\n",
      "250/250 [==============================] - 1s 5ms/step - loss: 0.0929\n",
      "Epoch 7/45\n",
      "250/250 [==============================] - 1s 5ms/step - loss: 0.0675\n",
      "Epoch 8/45\n",
      "250/250 [==============================] - 1s 6ms/step - loss: 0.0501\n",
      "Epoch 9/45\n",
      "250/250 [==============================] - 2s 6ms/step - loss: 0.0404\n",
      "Epoch 10/45\n",
      "250/250 [==============================] - 1s 4ms/step - loss: 0.0326\n",
      "Epoch 11/45\n",
      "250/250 [==============================] - 1s 5ms/step - loss: 0.0268\n",
      "Epoch 12/45\n",
      "250/250 [==============================] - 1s 5ms/step - loss: 0.0233\n",
      "Epoch 13/45\n",
      "250/250 [==============================] - 1s 5ms/step - loss: 0.0210\n",
      "Epoch 14/45\n",
      "250/250 [==============================] - 1s 5ms/step - loss: 0.0181\n",
      "Epoch 15/45\n",
      "250/250 [==============================] - 1s 4ms/step - loss: 0.0161\n",
      "Epoch 16/45\n",
      "250/250 [==============================] - 1s 4ms/step - loss: 0.0131\n",
      "Epoch 17/45\n",
      "250/250 [==============================] - 1s 5ms/step - loss: 0.0127\n",
      "Epoch 18/45\n",
      "250/250 [==============================] - 1s 6ms/step - loss: 0.0130\n",
      "Epoch 19/45\n",
      "250/250 [==============================] - 1s 5ms/step - loss: 0.0101\n",
      "Epoch 20/45\n",
      "250/250 [==============================] - 1s 5ms/step - loss: 0.0106\n",
      "Epoch 21/45\n",
      "250/250 [==============================] - 1s 5ms/step - loss: 0.0103\n",
      "Epoch 22/45\n",
      "250/250 [==============================] - 1s 5ms/step - loss: 0.0097\n",
      "Epoch 23/45\n",
      "250/250 [==============================] - 1s 5ms/step - loss: 0.0092\n",
      "Epoch 24/45\n",
      "250/250 [==============================] - 1s 5ms/step - loss: 0.0084\n",
      "Epoch 25/45\n",
      "250/250 [==============================] - 1s 5ms/step - loss: 0.0084\n",
      "Epoch 26/45\n",
      "250/250 [==============================] - 1s 5ms/step - loss: 0.0076\n",
      "Epoch 27/45\n",
      "250/250 [==============================] - 1s 5ms/step - loss: 0.0088\n",
      "Epoch 28/45\n",
      "250/250 [==============================] - 1s 4ms/step - loss: 0.0072\n",
      "Epoch 29/45\n",
      "250/250 [==============================] - 1s 4ms/step - loss: 0.0047\n",
      "Epoch 30/45\n",
      "250/250 [==============================] - 1s 4ms/step - loss: 0.0079\n",
      "Epoch 31/45\n",
      "250/250 [==============================] - 1s 5ms/step - loss: 0.0086\n",
      "Epoch 32/45\n",
      "250/250 [==============================] - 1s 5ms/step - loss: 0.0063\n",
      "Epoch 33/45\n",
      "250/250 [==============================] - 1s 4ms/step - loss: 0.0057\n",
      "Epoch 34/45\n",
      "250/250 [==============================] - 1s 5ms/step - loss: 0.0084\n",
      "Epoch 35/45\n",
      "250/250 [==============================] - 1s 5ms/step - loss: 0.0060\n",
      "Epoch 36/45\n",
      "250/250 [==============================] - 1s 5ms/step - loss: 0.0058\n",
      "Epoch 37/45\n",
      "250/250 [==============================] - 1s 5ms/step - loss: 0.0078\n",
      "Epoch 38/45\n",
      "250/250 [==============================] - 1s 5ms/step - loss: 0.0057\n",
      "Epoch 39/45\n",
      "250/250 [==============================] - 2s 7ms/step - loss: 0.0051\n",
      "Epoch 40/45\n",
      "250/250 [==============================] - 1s 4ms/step - loss: 0.0072\n",
      "Epoch 41/45\n",
      "250/250 [==============================] - 1s 4ms/step - loss: 0.0073\n",
      "Epoch 42/45\n",
      "250/250 [==============================] - 1s 4ms/step - loss: 0.0071\n",
      "Epoch 43/45\n",
      "250/250 [==============================] - 1s 4ms/step - loss: 0.0054\n",
      "Epoch 44/45\n",
      "250/250 [==============================] - 1s 5ms/step - loss: 0.0068\n",
      "Epoch 45/45\n",
      "250/250 [==============================] - 1s 5ms/step - loss: 0.0054\n"
     ]
    },
    {
     "data": {
      "text/plain": [
       "<keras.src.callbacks.History at 0x23a5be96b50>"
      ]
     },
     "execution_count": 19,
     "metadata": {},
     "output_type": "execute_result"
    }
   ],
   "source": [
    "# traning auto encoder\n",
    "autoencoder.fit(data, data,\n",
    "                epochs=45,\n",
    "                batch_size=32)"
   ]
  },
  {
   "cell_type": "code",
   "execution_count": 20,
   "id": "5ca02ec6",
   "metadata": {},
   "outputs": [],
   "source": [
    "# saving keras model\n",
    "from keras.models import load_model\n",
    "# if you want to save model then remove below comment\n",
    "# autoencoder.save('autoencoder_v_best.model')"
   ]
  },
  {
   "cell_type": "code",
   "execution_count": 21,
   "id": "a51aa05f",
   "metadata": {},
   "outputs": [],
   "source": [
    "# making encoder from full autoencoder\n",
    "encoder = Model(input_signal, encoded2)"
   ]
  },
  {
   "cell_type": "code",
   "execution_count": 22,
   "id": "85a251ca",
   "metadata": {},
   "outputs": [],
   "source": [
    "# making decoder from full autoencoder\n",
    "encoded_input = Input(shape=(n_channel,))\n",
    "\n",
    "deco = autoencoder.layers[-2](encoded_input)\n",
    "deco = autoencoder.layers[-1](deco)\n",
    "decoder = Model(encoded_input, deco)"
   ]
  },
  {
   "cell_type": "code",
   "execution_count": 23,
   "id": "a77ce0af",
   "metadata": {},
   "outputs": [],
   "source": [
    "# generating data for checking BER\n",
    "# if you're not using t-sne for visulation than set N to 70,000 for better result \n",
    "# for t-sne use less N like N = 1500\n",
    "N = 50000\n",
    "test_label = np.random.randint(M,size=N)\n",
    "test_data = []\n",
    "\n",
    "for i in test_label:\n",
    "    temp = np.zeros(M)\n",
    "    temp[i] = 1\n",
    "    test_data.append(temp)\n",
    "    \n",
    "test_data = np.array(test_data)"
   ]
  },
  {
   "cell_type": "code",
   "execution_count": 24,
   "id": "f5241b88",
   "metadata": {},
   "outputs": [
    {
     "name": "stdout",
     "output_type": "stream",
     "text": [
      "1.0 1\n"
     ]
    }
   ],
   "source": [
    "# checking generated data\n",
    "temp_test = 6\n",
    "print (test_data[temp_test][test_label[temp_test]],test_label[temp_test])"
   ]
  },
  {
   "cell_type": "code",
   "execution_count": 25,
   "id": "761c17c9",
   "metadata": {},
   "outputs": [
    {
     "name": "stdout",
     "output_type": "stream",
     "text": [
      "1/1 [==============================] - 0s 223ms/step\n",
      "1/1 [==============================] - 0s 50ms/step\n",
      "1/1 [==============================] - 0s 45ms/step\n",
      "1/1 [==============================] - 0s 52ms/step\n",
      "(4, 1, 2)\n"
     ]
    }
   ],
   "source": [
    "# for plotting learned consteallation diagram\n",
    "\n",
    "scatter_plot = []\n",
    "for i in range(0,M):\n",
    "    temp = np.zeros(M)\n",
    "    temp[i] = 1\n",
    "    scatter_plot.append(encoder.predict(np.expand_dims(temp,axis=0)))\n",
    "scatter_plot = np.array(scatter_plot)\n",
    "print (scatter_plot.shape)"
   ]
  },
  {
   "cell_type": "code",
   "execution_count": null,
   "id": "b798e2fa",
   "metadata": {},
   "outputs": [
    {
     "name": "stdout",
     "output_type": "stream",
     "text": [
      "1563/1563 [==============================] - 4s 2ms/step\n"
     ]
    }
   ],
   "source": [
    " # use this function for ploting constellation for higher dimenson like 7-D for (7,4) autoencoder \n",
    "\n",
    "x_emb = encoder.predict(test_data)\n",
    "noise_std = np.sqrt(1/(2*R*EbNo_train))\n",
    "noise = noise_std * np.random.randn(N,n_channel)\n",
    "x_emb = x_emb + noise\n",
    "from sklearn.manifold import TSNE\n",
    "X_embedded = TSNE(learning_rate=700, n_components=2,n_iter=35000, random_state=0, perplexity=60).fit_transform(x_emb)\n",
    "print (X_embedded.shape)\n",
    "X_embedded = X_embedded / 7\n",
    "import matplotlib.pyplot as plt\n",
    "plt.scatter(X_embedded[:,0],X_embedded[:,1])\n",
    "#plt.axis((-2.5,2.5,-2.5,2.5)) \n",
    "plt.grid()\n",
    "plt.show()\n"
   ]
  },
  {
   "cell_type": "code",
   "execution_count": 30,
   "id": "bbf75bdd",
   "metadata": {},
   "outputs": [
    {
     "data": {
      "image/png": "[encoded data removed]",
      "text/plain": [
       "<Figure size 640x480 with 1 Axes>"
      ]
     },
     "metadata": {},
     "output_type": "display_data"
    }
   ],
   "source": [
    "# ploting constellation diagram\n",
    "import matplotlib.pyplot as plt\n",
    "scatter_plot = scatter_plot.reshape(M,2,1)\n",
    "plt.scatter(scatter_plot[:,0],scatter_plot[:,1])\n",
    "plt.axis((-2.5,2.5,-2.5,2.5))\n",
    "plt.grid()\n",
    "plt.show()"
   ]
  },
  {
   "cell_type": "code",
   "execution_count": 31,
   "id": "189843fa",
   "metadata": {},
   "outputs": [],
   "source": [
    "def frange(x, y, jump):\n",
    "  while x < y:\n",
    "    yield x\n",
    "    x += jump"
   ]
  },
  {
   "cell_type": "code",
   "execution_count": 32,
   "id": "8587c223",
   "metadata": {},
   "outputs": [
    {
     "name": "stdout",
     "output_type": "stream",
     "text": [
      "1563/1563 [==============================] - 6s 4ms/step\n",
      "1563/1563 [==============================] - 6s 4ms/step\n",
      "SNR: -4 BER: 0.3428\n",
      "1563/1563 [==============================] - 6s 4ms/step\n",
      "1563/1563 [==============================] - 6s 4ms/step\n",
      "SNR: -3.5 BER: 0.31716\n",
      "1563/1563 [==============================] - 4s 2ms/step\n",
      "1563/1563 [==============================] - 3s 2ms/step\n",
      "SNR: -3.0 BER: 0.29538\n",
      "1563/1563 [==============================] - 3s 2ms/step\n",
      "1563/1563 [==============================] - 3s 2ms/step\n",
      "SNR: -2.5 BER: 0.27354\n",
      "1563/1563 [==============================] - 3s 2ms/step\n",
      "1563/1563 [==============================] - 3s 2ms/step\n",
      "SNR: -2.0 BER: 0.24832\n",
      "1563/1563 [==============================] - 3s 2ms/step\n",
      "1563/1563 [==============================] - 3s 2ms/step\n",
      "SNR: -1.5 BER: 0.22522\n",
      "1563/1563 [==============================] - 3s 2ms/step\n",
      "1563/1563 [==============================] - 3s 2ms/step\n",
      "SNR: -1.0 BER: 0.19926\n",
      "1563/1563 [==============================] - 3s 2ms/step\n",
      "1563/1563 [==============================] - 3s 2ms/step\n",
      "SNR: -0.5 BER: 0.1729\n",
      "1563/1563 [==============================] - 3s 2ms/step\n",
      "1563/1563 [==============================] - 3s 2ms/step\n",
      "SNR: 0.0 BER: 0.14984\n",
      "1563/1563 [==============================] - 3s 2ms/step\n",
      "1563/1563 [==============================] - 3s 2ms/step\n",
      "SNR: 0.5 BER: 0.13382\n",
      "1563/1563 [==============================] - 3s 2ms/step\n",
      "1563/1563 [==============================] - 3s 2ms/step\n",
      "SNR: 1.0 BER: 0.11134\n",
      "1563/1563 [==============================] - 3s 2ms/step\n",
      "1563/1563 [==============================] - 3s 2ms/step\n",
      "SNR: 1.5 BER: 0.09238\n",
      "1563/1563 [==============================] - 4s 2ms/step\n",
      "1563/1563 [==============================] - 3s 2ms/step\n",
      "SNR: 2.0 BER: 0.07696\n",
      "1563/1563 [==============================] - 3s 2ms/step\n",
      "1563/1563 [==============================] - 3s 2ms/step\n",
      "SNR: 2.5 BER: 0.05982\n",
      "1563/1563 [==============================] - 4s 2ms/step\n",
      "1563/1563 [==============================] - 3s 2ms/step\n",
      "SNR: 3.0 BER: 0.04656\n",
      "1563/1563 [==============================] - 3s 2ms/step\n",
      "1563/1563 [==============================] - 3s 2ms/step\n",
      "SNR: 3.5 BER: 0.03612\n",
      "1563/1563 [==============================] - 3s 2ms/step\n",
      "1563/1563 [==============================] - 3s 2ms/step\n",
      "SNR: 4.0 BER: 0.02566\n",
      "1563/1563 [==============================] - 3s 2ms/step\n",
      "1563/1563 [==============================] - 3s 2ms/step\n",
      "SNR: 4.5 BER: 0.01886\n",
      "1563/1563 [==============================] - 3s 2ms/step\n",
      "1563/1563 [==============================] - 3s 2ms/step\n",
      "SNR: 5.0 BER: 0.01342\n",
      "1563/1563 [==============================] - 3s 2ms/step\n",
      "1563/1563 [==============================] - 3s 2ms/step\n",
      "SNR: 5.5 BER: 0.0081\n",
      "1563/1563 [==============================] - 4s 2ms/step\n",
      "1563/1563 [==============================] - 3s 2ms/step\n",
      "SNR: 6.0 BER: 0.0052\n",
      "1563/1563 [==============================] - 3s 2ms/step\n",
      "1563/1563 [==============================] - 3s 2ms/step\n",
      "SNR: 6.5 BER: 0.00326\n",
      "1563/1563 [==============================] - 4s 2ms/step\n",
      "1563/1563 [==============================] - 3s 2ms/step\n",
      "SNR: 7.0 BER: 0.00134\n",
      "1563/1563 [==============================] - 3s 2ms/step\n",
      "1563/1563 [==============================] - 3s 2ms/step\n",
      "SNR: 7.5 BER: 0.00062\n",
      "1563/1563 [==============================] - 4s 2ms/step\n",
      "1563/1563 [==============================] - 3s 2ms/step\n",
      "SNR: 8.0 BER: 0.00046\n"
     ]
    }
   ],
   "source": [
    "# calculating BER\n",
    "# this is optimized BER function so it can handle large number of N\n",
    "# previous code has another for loop which was making it slow\n",
    "EbNodB_range = list(frange(-4,8.5,0.5))\n",
    "ber = [None]*len(EbNodB_range)\n",
    "for n in range(0,len(EbNodB_range)):\n",
    "    EbNo=10.0**(EbNodB_range[n]/10.0)\n",
    "    noise_std = np.sqrt(1/(2*R*EbNo))\n",
    "    noise_mean = 0\n",
    "    no_errors = 0\n",
    "    nn = N\n",
    "    noise = noise_std * np.random.randn(nn,n_channel)\n",
    "    encoded_signal = encoder.predict(test_data) \n",
    "    final_signal = encoded_signal + noise\n",
    "    pred_final_signal =  decoder.predict(final_signal)\n",
    "    pred_output = np.argmax(pred_final_signal,axis=1)\n",
    "    no_errors = (pred_output != test_label)\n",
    "    no_errors =  no_errors.astype(int).sum()\n",
    "    ber[n] = no_errors / nn \n",
    "    print ('SNR:',EbNodB_range[n],'BER:',ber[n])\n",
    "    # use below line for generating matlab like matrix which can be copy and paste for plotting ber graph in matlab\n",
    "    #print(ber[n], \" \",end='')"
   ]
  },
  {
   "cell_type": "code",
   "execution_count": 33,
   "id": "4b031958",
   "metadata": {},
   "outputs": [
    {
     "data": {
      "text/plain": [
       "<matplotlib.legend.Legend at 0x23a13609110>"
      ]
     },
     "execution_count": 33,
     "metadata": {},
     "output_type": "execute_result"
    },
    {
     "data": {
      "image/png": "[encoded data removed]",
      "text/plain": [
       "<Figure size 640x480 with 1 Axes>"
      ]
     },
     "metadata": {},
     "output_type": "display_data"
    }
   ],
   "source": [
    "# ploting ber curve\n",
    "import matplotlib.pyplot as plt\n",
    "from scipy import interpolate\n",
    "plt.plot(EbNodB_range, ber, 'bo',label='Autoencoder(2,2)')\n",
    "plt.yscale('log')\n",
    "plt.xlabel('SNR Range')\n",
    "plt.ylabel('Block Error Rate')\n",
    "plt.grid()\n",
    "plt.legend(loc='upper right',ncol = 1)"
   ]
  },
  {
   "cell_type": "code",
   "execution_count": 34,
   "id": "2eb4772c",
   "metadata": {},
   "outputs": [
    {
     "data": {
      "text/plain": [
       "<Figure size 640x480 with 0 Axes>"
      ]
     },
     "metadata": {},
     "output_type": "display_data"
    }
   ],
   "source": [
    "# for saving figure remove below comment\n",
    "plt.savefig('AutoEncoder_2_2_constrained_BER_matplotlib')\n",
    "plt.show()"
   ]
  }
 ],
 "metadata": {
  "kernelspec": {
   "display_name": "Python 3 (ipykernel)",
   "language": "python",
   "name": "python3"
  },
  "language_info": {
   "codemirror_mode": {
    "name": "ipython",
    "version": 3
   },
   "file_extension": ".py",
   "mimetype": "text/x-python",
   "name": "python",
   "nbconvert_exporter": "python",
   "pygments_lexer": "ipython3",
   "version": "3.11.5"
  }
 },
 "nbformat": 4,
 "nbformat_minor": 5
}
