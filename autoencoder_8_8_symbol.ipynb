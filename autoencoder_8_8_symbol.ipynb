{
 "cells": [
  {
   "cell_type": "code",
   "execution_count": 1,
   "metadata": {},
   "outputs": [],
   "source": [
    "# importing libs\n",
    "import numpy as np\n",
    "import tensorflow as tf\n",
    "from keras.layers import Input, Dense, GaussianNoise\n",
    "from keras.models import Model\n",
    "from keras import regularizers\n",
    "# from keras.layers.normalization import BatchNormalization\n",
    "from tensorflow.keras.layers import BatchNormalization\n",
    "from keras.optimizers import SGD\n",
    "import random as rn"
   ]
  },
  {
   "cell_type": "code",
   "execution_count": 2,
   "metadata": {},
   "outputs": [
    {
     "name": "stdout",
     "output_type": "stream",
     "text": [
      "M: 256 k: 8\n"
     ]
    }
   ],
   "source": [
    "# defining parameters\n",
    "M = 256\n",
    "k = np.log2(M)\n",
    "k = int(k)\n",
    "print ('M:',M,'k:',k)"
   ]
  },
  {
   "cell_type": "code",
   "execution_count": 3,
   "metadata": {
    "collapsed": true
   },
   "outputs": [],
   "source": [
    "#generating data of size N\n",
    "N = 10000\n",
    "label = np.random.randint(M,size=N)"
   ]
  },
  {
   "cell_type": "code",
   "execution_count": 4,
   "metadata": {
    "collapsed": true
   },
   "outputs": [],
   "source": [
    "# creating one hot encoded vectors\n",
    "data = []\n",
    "for i in label:\n",
    "    temp = np.zeros(M)\n",
    "    temp[i] = 1\n",
    "    data.append(temp)"
   ]
  },
  {
   "cell_type": "code",
   "execution_count": 5,
   "metadata": {},
   "outputs": [
    {
     "name": "stdout",
     "output_type": "stream",
     "text": [
      "(10000, 256)\n"
     ]
    }
   ],
   "source": [
    "data = np.array(data)\n",
    "print (data.shape)"
   ]
  },
  {
   "cell_type": "code",
   "execution_count": 6,
   "metadata": {},
   "outputs": [
    {
     "name": "stdout",
     "output_type": "stream",
     "text": [
      "87 [0. 0. 0. 0. 0. 0. 0. 0. 0. 0. 0. 0. 0. 0. 0. 0. 0. 0. 0. 0. 0. 0. 0. 0.\n",
      " 0. 0. 0. 0. 0. 0. 0. 0. 0. 0. 0. 0. 0. 0. 0. 0. 0. 0. 0. 0. 0. 0. 0. 0.\n",
      " 0. 0. 0. 0. 0. 0. 0. 0. 0. 0. 0. 0. 0. 0. 0. 0. 0. 0. 0. 0. 0. 0. 0. 0.\n",
      " 0. 0. 0. 0. 0. 0. 0. 0. 0. 0. 0. 0. 0. 0. 0. 1. 0. 0. 0. 0. 0. 0. 0. 0.\n",
      " 0. 0. 0. 0. 0. 0. 0. 0. 0. 0. 0. 0. 0. 0. 0. 0. 0. 0. 0. 0. 0. 0. 0. 0.\n",
      " 0. 0. 0. 0. 0. 0. 0. 0. 0. 0. 0. 0. 0. 0. 0. 0. 0. 0. 0. 0. 0. 0. 0. 0.\n",
      " 0. 0. 0. 0. 0. 0. 0. 0. 0. 0. 0. 0. 0. 0. 0. 0. 0. 0. 0. 0. 0. 0. 0. 0.\n",
      " 0. 0. 0. 0. 0. 0. 0. 0. 0. 0. 0. 0. 0. 0. 0. 0. 0. 0. 0. 0. 0. 0. 0. 0.\n",
      " 0. 0. 0. 0. 0. 0. 0. 0. 0. 0. 0. 0. 0. 0. 0. 0. 0. 0. 0. 0. 0. 0. 0. 0.\n",
      " 0. 0. 0. 0. 0. 0. 0. 0. 0. 0. 0. 0. 0. 0. 0. 0. 0. 0. 0. 0. 0. 0. 0. 0.\n",
      " 0. 0. 0. 0. 0. 0. 0. 0. 0. 0. 0. 0. 0. 0. 0. 0.]\n",
      "13 [0. 0. 0. 0. 0. 0. 0. 0. 0. 0. 0. 0. 0. 1. 0. 0. 0. 0. 0. 0. 0. 0. 0. 0.\n",
      " 0. 0. 0. 0. 0. 0. 0. 0. 0. 0. 0. 0. 0. 0. 0. 0. 0. 0. 0. 0. 0. 0. 0. 0.\n",
      " 0. 0. 0. 0. 0. 0. 0. 0. 0. 0. 0. 0. 0. 0. 0. 0. 0. 0. 0. 0. 0. 0. 0. 0.\n",
      " 0. 0. 0. 0. 0. 0. 0. 0. 0. 0. 0. 0. 0. 0. 0. 0. 0. 0. 0. 0. 0. 0. 0. 0.\n",
      " 0. 0. 0. 0. 0. 0. 0. 0. 0. 0. 0. 0. 0. 0. 0. 0. 0. 0. 0. 0. 0. 0. 0. 0.\n",
      " 0. 0. 0. 0. 0. 0. 0. 0. 0. 0. 0. 0. 0. 0. 0. 0. 0. 0. 0. 0. 0. 0. 0. 0.\n",
      " 0. 0. 0. 0. 0. 0. 0. 0. 0. 0. 0. 0. 0. 0. 0. 0. 0. 0. 0. 0. 0. 0. 0. 0.\n",
      " 0. 0. 0. 0. 0. 0. 0. 0. 0. 0. 0. 0. 0. 0. 0. 0. 0. 0. 0. 0. 0. 0. 0. 0.\n",
      " 0. 0. 0. 0. 0. 0. 0. 0. 0. 0. 0. 0. 0. 0. 0. 0. 0. 0. 0. 0. 0. 0. 0. 0.\n",
      " 0. 0. 0. 0. 0. 0. 0. 0. 0. 0. 0. 0. 0. 0. 0. 0. 0. 0. 0. 0. 0. 0. 0. 0.\n",
      " 0. 0. 0. 0. 0. 0. 0. 0. 0. 0. 0. 0. 0. 0. 0. 0.]\n",
      "67 [0. 0. 0. 0. 0. 0. 0. 0. 0. 0. 0. 0. 0. 0. 0. 0. 0. 0. 0. 0. 0. 0. 0. 0.\n",
      " 0. 0. 0. 0. 0. 0. 0. 0. 0. 0. 0. 0. 0. 0. 0. 0. 0. 0. 0. 0. 0. 0. 0. 0.\n",
      " 0. 0. 0. 0. 0. 0. 0. 0. 0. 0. 0. 0. 0. 0. 0. 0. 0. 0. 0. 1. 0. 0. 0. 0.\n",
      " 0. 0. 0. 0. 0. 0. 0. 0. 0. 0. 0. 0. 0. 0. 0. 0. 0. 0. 0. 0. 0. 0. 0. 0.\n",
      " 0. 0. 0. 0. 0. 0. 0. 0. 0. 0. 0. 0. 0. 0. 0. 0. 0. 0. 0. 0. 0. 0. 0. 0.\n",
      " 0. 0. 0. 0. 0. 0. 0. 0. 0. 0. 0. 0. 0. 0. 0. 0. 0. 0. 0. 0. 0. 0. 0. 0.\n",
      " 0. 0. 0. 0. 0. 0. 0. 0. 0. 0. 0. 0. 0. 0. 0. 0. 0. 0. 0. 0. 0. 0. 0. 0.\n",
      " 0. 0. 0. 0. 0. 0. 0. 0. 0. 0. 0. 0. 0. 0. 0. 0. 0. 0. 0. 0. 0. 0. 0. 0.\n",
      " 0. 0. 0. 0. 0. 0. 0. 0. 0. 0. 0. 0. 0. 0. 0. 0. 0. 0. 0. 0. 0. 0. 0. 0.\n",
      " 0. 0. 0. 0. 0. 0. 0. 0. 0. 0. 0. 0. 0. 0. 0. 0. 0. 0. 0. 0. 0. 0. 0. 0.\n",
      " 0. 0. 0. 0. 0. 0. 0. 0. 0. 0. 0. 0. 0. 0. 0. 0.]\n",
      "163 [0. 0. 0. 0. 0. 0. 0. 0. 0. 0. 0. 0. 0. 0. 0. 0. 0. 0. 0. 0. 0. 0. 0. 0.\n",
      " 0. 0. 0. 0. 0. 0. 0. 0. 0. 0. 0. 0. 0. 0. 0. 0. 0. 0. 0. 0. 0. 0. 0. 0.\n",
      " 0. 0. 0. 0. 0. 0. 0. 0. 0. 0. 0. 0. 0. 0. 0. 0. 0. 0. 0. 0. 0. 0. 0. 0.\n",
      " 0. 0. 0. 0. 0. 0. 0. 0. 0. 0. 0. 0. 0. 0. 0. 0. 0. 0. 0. 0. 0. 0. 0. 0.\n",
      " 0. 0. 0. 0. 0. 0. 0. 0. 0. 0. 0. 0. 0. 0. 0. 0. 0. 0. 0. 0. 0. 0. 0. 0.\n",
      " 0. 0. 0. 0. 0. 0. 0. 0. 0. 0. 0. 0. 0. 0. 0. 0. 0. 0. 0. 0. 0. 0. 0. 0.\n",
      " 0. 0. 0. 0. 0. 0. 0. 0. 0. 0. 0. 0. 0. 0. 0. 0. 0. 0. 0. 1. 0. 0. 0. 0.\n",
      " 0. 0. 0. 0. 0. 0. 0. 0. 0. 0. 0. 0. 0. 0. 0. 0. 0. 0. 0. 0. 0. 0. 0. 0.\n",
      " 0. 0. 0. 0. 0. 0. 0. 0. 0. 0. 0. 0. 0. 0. 0. 0. 0. 0. 0. 0. 0. 0. 0. 0.\n",
      " 0. 0. 0. 0. 0. 0. 0. 0. 0. 0. 0. 0. 0. 0. 0. 0. 0. 0. 0. 0. 0. 0. 0. 0.\n",
      " 0. 0. 0. 0. 0. 0. 0. 0. 0. 0. 0. 0. 0. 0. 0. 0.]\n",
      "79 [0. 0. 0. 0. 0. 0. 0. 0. 0. 0. 0. 0. 0. 0. 0. 0. 0. 0. 0. 0. 0. 0. 0. 0.\n",
      " 0. 0. 0. 0. 0. 0. 0. 0. 0. 0. 0. 0. 0. 0. 0. 0. 0. 0. 0. 0. 0. 0. 0. 0.\n",
      " 0. 0. 0. 0. 0. 0. 0. 0. 0. 0. 0. 0. 0. 0. 0. 0. 0. 0. 0. 0. 0. 0. 0. 0.\n",
      " 0. 0. 0. 0. 0. 0. 0. 1. 0. 0. 0. 0. 0. 0. 0. 0. 0. 0. 0. 0. 0. 0. 0. 0.\n",
      " 0. 0. 0. 0. 0. 0. 0. 0. 0. 0. 0. 0. 0. 0. 0. 0. 0. 0. 0. 0. 0. 0. 0. 0.\n",
      " 0. 0. 0. 0. 0. 0. 0. 0. 0. 0. 0. 0. 0. 0. 0. 0. 0. 0. 0. 0. 0. 0. 0. 0.\n",
      " 0. 0. 0. 0. 0. 0. 0. 0. 0. 0. 0. 0. 0. 0. 0. 0. 0. 0. 0. 0. 0. 0. 0. 0.\n",
      " 0. 0. 0. 0. 0. 0. 0. 0. 0. 0. 0. 0. 0. 0. 0. 0. 0. 0. 0. 0. 0. 0. 0. 0.\n",
      " 0. 0. 0. 0. 0. 0. 0. 0. 0. 0. 0. 0. 0. 0. 0. 0. 0. 0. 0. 0. 0. 0. 0. 0.\n",
      " 0. 0. 0. 0. 0. 0. 0. 0. 0. 0. 0. 0. 0. 0. 0. 0. 0. 0. 0. 0. 0. 0. 0. 0.\n",
      " 0. 0. 0. 0. 0. 0. 0. 0. 0. 0. 0. 0. 0. 0. 0. 0.]\n",
      "139 [0. 0. 0. 0. 0. 0. 0. 0. 0. 0. 0. 0. 0. 0. 0. 0. 0. 0. 0. 0. 0. 0. 0. 0.\n",
      " 0. 0. 0. 0. 0. 0. 0. 0. 0. 0. 0. 0. 0. 0. 0. 0. 0. 0. 0. 0. 0. 0. 0. 0.\n",
      " 0. 0. 0. 0. 0. 0. 0. 0. 0. 0. 0. 0. 0. 0. 0. 0. 0. 0. 0. 0. 0. 0. 0. 0.\n",
      " 0. 0. 0. 0. 0. 0. 0. 0. 0. 0. 0. 0. 0. 0. 0. 0. 0. 0. 0. 0. 0. 0. 0. 0.\n",
      " 0. 0. 0. 0. 0. 0. 0. 0. 0. 0. 0. 0. 0. 0. 0. 0. 0. 0. 0. 0. 0. 0. 0. 0.\n",
      " 0. 0. 0. 0. 0. 0. 0. 0. 0. 0. 0. 0. 0. 0. 0. 0. 0. 0. 0. 1. 0. 0. 0. 0.\n",
      " 0. 0. 0. 0. 0. 0. 0. 0. 0. 0. 0. 0. 0. 0. 0. 0. 0. 0. 0. 0. 0. 0. 0. 0.\n",
      " 0. 0. 0. 0. 0. 0. 0. 0. 0. 0. 0. 0. 0. 0. 0. 0. 0. 0. 0. 0. 0. 0. 0. 0.\n",
      " 0. 0. 0. 0. 0. 0. 0. 0. 0. 0. 0. 0. 0. 0. 0. 0. 0. 0. 0. 0. 0. 0. 0. 0.\n",
      " 0. 0. 0. 0. 0. 0. 0. 0. 0. 0. 0. 0. 0. 0. 0. 0. 0. 0. 0. 0. 0. 0. 0. 0.\n",
      " 0. 0. 0. 0. 0. 0. 0. 0. 0. 0. 0. 0. 0. 0. 0. 0.]\n",
      "244 [0. 0. 0. 0. 0. 0. 0. 0. 0. 0. 0. 0. 0. 0. 0. 0. 0. 0. 0. 0. 0. 0. 0. 0.\n",
      " 0. 0. 0. 0. 0. 0. 0. 0. 0. 0. 0. 0. 0. 0. 0. 0. 0. 0. 0. 0. 0. 0. 0. 0.\n",
      " 0. 0. 0. 0. 0. 0. 0. 0. 0. 0. 0. 0. 0. 0. 0. 0. 0. 0. 0. 0. 0. 0. 0. 0.\n",
      " 0. 0. 0. 0. 0. 0. 0. 0. 0. 0. 0. 0. 0. 0. 0. 0. 0. 0. 0. 0. 0. 0. 0. 0.\n",
      " 0. 0. 0. 0. 0. 0. 0. 0. 0. 0. 0. 0. 0. 0. 0. 0. 0. 0. 0. 0. 0. 0. 0. 0.\n",
      " 0. 0. 0. 0. 0. 0. 0. 0. 0. 0. 0. 0. 0. 0. 0. 0. 0. 0. 0. 0. 0. 0. 0. 0.\n",
      " 0. 0. 0. 0. 0. 0. 0. 0. 0. 0. 0. 0. 0. 0. 0. 0. 0. 0. 0. 0. 0. 0. 0. 0.\n",
      " 0. 0. 0. 0. 0. 0. 0. 0. 0. 0. 0. 0. 0. 0. 0. 0. 0. 0. 0. 0. 0. 0. 0. 0.\n",
      " 0. 0. 0. 0. 0. 0. 0. 0. 0. 0. 0. 0. 0. 0. 0. 0. 0. 0. 0. 0. 0. 0. 0. 0.\n",
      " 0. 0. 0. 0. 0. 0. 0. 0. 0. 0. 0. 0. 0. 0. 0. 0. 0. 0. 0. 0. 0. 0. 0. 0.\n",
      " 0. 0. 0. 0. 1. 0. 0. 0. 0. 0. 0. 0. 0. 0. 0. 0.]\n",
      "129 [0. 0. 0. 0. 0. 0. 0. 0. 0. 0. 0. 0. 0. 0. 0. 0. 0. 0. 0. 0. 0. 0. 0. 0.\n",
      " 0. 0. 0. 0. 0. 0. 0. 0. 0. 0. 0. 0. 0. 0. 0. 0. 0. 0. 0. 0. 0. 0. 0. 0.\n",
      " 0. 0. 0. 0. 0. 0. 0. 0. 0. 0. 0. 0. 0. 0. 0. 0. 0. 0. 0. 0. 0. 0. 0. 0.\n",
      " 0. 0. 0. 0. 0. 0. 0. 0. 0. 0. 0. 0. 0. 0. 0. 0. 0. 0. 0. 0. 0. 0. 0. 0.\n",
      " 0. 0. 0. 0. 0. 0. 0. 0. 0. 0. 0. 0. 0. 0. 0. 0. 0. 0. 0. 0. 0. 0. 0. 0.\n",
      " 0. 0. 0. 0. 0. 0. 0. 0. 0. 1. 0. 0. 0. 0. 0. 0. 0. 0. 0. 0. 0. 0. 0. 0.\n",
      " 0. 0. 0. 0. 0. 0. 0. 0. 0. 0. 0. 0. 0. 0. 0. 0. 0. 0. 0. 0. 0. 0. 0. 0.\n",
      " 0. 0. 0. 0. 0. 0. 0. 0. 0. 0. 0. 0. 0. 0. 0. 0. 0. 0. 0. 0. 0. 0. 0. 0.\n",
      " 0. 0. 0. 0. 0. 0. 0. 0. 0. 0. 0. 0. 0. 0. 0. 0. 0. 0. 0. 0. 0. 0. 0. 0.\n",
      " 0. 0. 0. 0. 0. 0. 0. 0. 0. 0. 0. 0. 0. 0. 0. 0. 0. 0. 0. 0. 0. 0. 0. 0.\n",
      " 0. 0. 0. 0. 0. 0. 0. 0. 0. 0. 0. 0. 0. 0. 0. 0.]\n",
      "173 [0. 0. 0. 0. 0. 0. 0. 0. 0. 0. 0. 0. 0. 0. 0. 0. 0. 0. 0. 0. 0. 0. 0. 0.\n",
      " 0. 0. 0. 0. 0. 0. 0. 0. 0. 0. 0. 0. 0. 0. 0. 0. 0. 0. 0. 0. 0. 0. 0. 0.\n",
      " 0. 0. 0. 0. 0. 0. 0. 0. 0. 0. 0. 0. 0. 0. 0. 0. 0. 0. 0. 0. 0. 0. 0. 0.\n",
      " 0. 0. 0. 0. 0. 0. 0. 0. 0. 0. 0. 0. 0. 0. 0. 0. 0. 0. 0. 0. 0. 0. 0. 0.\n",
      " 0. 0. 0. 0. 0. 0. 0. 0. 0. 0. 0. 0. 0. 0. 0. 0. 0. 0. 0. 0. 0. 0. 0. 0.\n",
      " 0. 0. 0. 0. 0. 0. 0. 0. 0. 0. 0. 0. 0. 0. 0. 0. 0. 0. 0. 0. 0. 0. 0. 0.\n",
      " 0. 0. 0. 0. 0. 0. 0. 0. 0. 0. 0. 0. 0. 0. 0. 0. 0. 0. 0. 0. 0. 0. 0. 0.\n",
      " 0. 0. 0. 0. 0. 1. 0. 0. 0. 0. 0. 0. 0. 0. 0. 0. 0. 0. 0. 0. 0. 0. 0. 0.\n",
      " 0. 0. 0. 0. 0. 0. 0. 0. 0. 0. 0. 0. 0. 0. 0. 0. 0. 0. 0. 0. 0. 0. 0. 0.\n",
      " 0. 0. 0. 0. 0. 0. 0. 0. 0. 0. 0. 0. 0. 0. 0. 0. 0. 0. 0. 0. 0. 0. 0. 0.\n",
      " 0. 0. 0. 0. 0. 0. 0. 0. 0. 0. 0. 0. 0. 0. 0. 0.]\n"
     ]
    }
   ],
   "source": [
    "temp_check = [17,23,45,67,89,96,72,250,350]\n",
    "for i in temp_check:\n",
    "    print(label[i],data[i])"
   ]
  },
  {
   "cell_type": "code",
   "execution_count": 7,
   "metadata": {},
   "outputs": [
    {
     "name": "stdout",
     "output_type": "stream",
     "text": [
      "8\n"
     ]
    }
   ],
   "source": [
    "R = 1\n",
    "n_channel = 8\n",
    "print (int(k/R))\n",
    "input_signal = Input(shape=(M,))\n",
    "encoded = Dense(M, activation='relu')(input_signal)\n",
    "encoded1 = Dense(n_channel, activation='linear')(encoded)\n",
    "encoded2 = BatchNormalization()(encoded1)\n",
    "\n",
    "EbNo_train = 5.01187 #  coverted 7 db of EbNo\n",
    "encoded3 = GaussianNoise(np.sqrt(1/(2*R*EbNo_train)))(encoded2)\n",
    "\n",
    "decoded = Dense(M, activation='relu')(encoded3)\n",
    "decoded1 = Dense(M, activation='softmax')(decoded)\n",
    "\n",
    "autoencoder = Model(input_signal, decoded1)\n",
    "#sgd = SGD(lr=0.001)\n",
    "autoencoder.compile(optimizer='adam', loss='categorical_crossentropy')"
   ]
  },
  {
   "cell_type": "code",
   "execution_count": 8,
   "metadata": {},
   "outputs": [
    {
     "name": "stdout",
     "output_type": "stream",
     "text": [
      "Model: \"model\"\n",
      "_________________________________________________________________\n",
      " Layer (type)                Output Shape              Param #   \n",
      "=================================================================\n",
      " input_1 (InputLayer)        [(None, 256)]             0         \n",
      "                                                                 \n",
      " dense (Dense)               (None, 256)               65792     \n",
      "                                                                 \n",
      " dense_1 (Dense)             (None, 8)                 2056      \n",
      "                                                                 \n",
      " batch_normalization (BatchN  (None, 8)                32        \n",
      " ormalization)                                                   \n",
      "                                                                 \n",
      " gaussian_noise (GaussianNoi  (None, 8)                0         \n",
      " se)                                                             \n",
      "                                                                 \n",
      " dense_2 (Dense)             (None, 256)               2304      \n",
      "                                                                 \n",
      " dense_3 (Dense)             (None, 256)               65792     \n",
      "                                                                 \n",
      "=================================================================\n",
      "Total params: 135,976\n",
      "Trainable params: 135,960\n",
      "Non-trainable params: 16\n",
      "_________________________________________________________________\n",
      "None\n"
     ]
    }
   ],
   "source": [
    "print (autoencoder.summary())"
   ]
  },
  {
   "cell_type": "code",
   "execution_count": 9,
   "metadata": {
    "collapsed": true
   },
   "outputs": [],
   "source": [
    "N_val = 1500\n",
    "val_label = np.random.randint(M,size=N_val)\n",
    "val_data = []\n",
    "for i in val_label:\n",
    "    temp = np.zeros(M)\n",
    "    temp[i] = 1\n",
    "    val_data.append(temp)\n",
    "val_data = np.array(val_data)"
   ]
  },
  {
   "cell_type": "code",
   "execution_count": 10,
   "metadata": {
    "scrolled": true
   },
   "outputs": [
    {
     "name": "stdout",
     "output_type": "stream",
     "text": [
      "Epoch 1/100\n",
      "34/34 [==============================] - 4s 36ms/step - loss: 5.0229 - val_loss: 5.3685\n",
      "Epoch 2/100\n",
      "34/34 [==============================] - 1s 16ms/step - loss: 3.7609 - val_loss: 4.7482\n",
      "Epoch 3/100\n",
      "34/34 [==============================] - 1s 19ms/step - loss: 2.2968 - val_loss: 3.6487\n",
      "Epoch 4/100\n",
      "34/34 [==============================] - 0s 14ms/step - loss: 1.1700 - val_loss: 2.3839\n",
      "Epoch 5/100\n",
      "34/34 [==============================] - 1s 16ms/step - loss: 0.5590 - val_loss: 1.3380\n",
      "Epoch 6/100\n",
      "34/34 [==============================] - 1s 18ms/step - loss: 0.2941 - val_loss: 0.6751\n",
      "Epoch 7/100\n",
      "34/34 [==============================] - 1s 19ms/step - loss: 0.1744 - val_loss: 0.3189\n",
      "Epoch 8/100\n",
      "34/34 [==============================] - 1s 24ms/step - loss: 0.1176 - val_loss: 0.1539\n",
      "Epoch 9/100\n",
      "34/34 [==============================] - 1s 31ms/step - loss: 0.0863 - val_loss: 0.0794\n",
      "Epoch 10/100\n",
      "34/34 [==============================] - 1s 24ms/step - loss: 0.0664 - val_loss: 0.0428\n",
      "Epoch 11/100\n",
      "34/34 [==============================] - 1s 28ms/step - loss: 0.0506 - val_loss: 0.0255\n",
      "Epoch 12/100\n",
      "34/34 [==============================] - 1s 18ms/step - loss: 0.0422 - val_loss: 0.0165\n",
      "Epoch 13/100\n",
      "34/34 [==============================] - 1s 23ms/step - loss: 0.0356 - val_loss: 0.0115\n",
      "Epoch 14/100\n",
      "34/34 [==============================] - 1s 23ms/step - loss: 0.0301 - val_loss: 0.0083\n",
      "Epoch 15/100\n",
      "34/34 [==============================] - 1s 21ms/step - loss: 0.0256 - val_loss: 0.0064\n",
      "Epoch 16/100\n",
      "34/34 [==============================] - 1s 22ms/step - loss: 0.0220 - val_loss: 0.0050\n",
      "Epoch 17/100\n",
      "34/34 [==============================] - 1s 15ms/step - loss: 0.0202 - val_loss: 0.0041\n",
      "Epoch 18/100\n",
      "34/34 [==============================] - 0s 14ms/step - loss: 0.0179 - val_loss: 0.0035\n",
      "Epoch 19/100\n",
      "34/34 [==============================] - 0s 14ms/step - loss: 0.0156 - val_loss: 0.0029\n",
      "Epoch 20/100\n",
      "34/34 [==============================] - 0s 12ms/step - loss: 0.0139 - val_loss: 0.0025\n",
      "Epoch 21/100\n",
      "34/34 [==============================] - 1s 16ms/step - loss: 0.0126 - val_loss: 0.0022\n",
      "Epoch 22/100\n",
      "34/34 [==============================] - 1s 15ms/step - loss: 0.0115 - val_loss: 0.0019\n",
      "Epoch 23/100\n",
      "34/34 [==============================] - 1s 20ms/step - loss: 0.0107 - val_loss: 0.0017\n",
      "Epoch 24/100\n",
      "34/34 [==============================] - 1s 18ms/step - loss: 0.0096 - val_loss: 0.0015\n",
      "Epoch 25/100\n",
      "34/34 [==============================] - 0s 12ms/step - loss: 0.0094 - val_loss: 0.0014\n",
      "Epoch 26/100\n",
      "34/34 [==============================] - 1s 14ms/step - loss: 0.0082 - val_loss: 0.0012\n",
      "Epoch 27/100\n",
      "34/34 [==============================] - 0s 14ms/step - loss: 0.0080 - val_loss: 0.0011\n",
      "Epoch 28/100\n",
      "34/34 [==============================] - 0s 14ms/step - loss: 0.0071 - val_loss: 0.0010\n",
      "Epoch 29/100\n",
      "34/34 [==============================] - 0s 14ms/step - loss: 0.0066 - val_loss: 9.0195e-04\n",
      "Epoch 30/100\n",
      "34/34 [==============================] - 1s 15ms/step - loss: 0.0065 - val_loss: 8.2241e-04\n",
      "Epoch 31/100\n",
      "34/34 [==============================] - 0s 14ms/step - loss: 0.0059 - val_loss: 7.5068e-04\n",
      "Epoch 32/100\n",
      "34/34 [==============================] - 0s 12ms/step - loss: 0.0053 - val_loss: 6.9341e-04\n",
      "Epoch 33/100\n",
      "34/34 [==============================] - 1s 17ms/step - loss: 0.0054 - val_loss: 6.4308e-04\n",
      "Epoch 34/100\n",
      "34/34 [==============================] - 1s 21ms/step - loss: 0.0050 - val_loss: 6.0260e-04\n",
      "Epoch 35/100\n",
      "34/34 [==============================] - 1s 16ms/step - loss: 0.0049 - val_loss: 5.5865e-04\n",
      "Epoch 36/100\n",
      "34/34 [==============================] - 1s 21ms/step - loss: 0.0045 - val_loss: 5.1624e-04\n",
      "Epoch 37/100\n",
      "34/34 [==============================] - 1s 16ms/step - loss: 0.0043 - val_loss: 4.7271e-04\n",
      "Epoch 38/100\n",
      "34/34 [==============================] - 0s 13ms/step - loss: 0.0042 - val_loss: 4.3985e-04\n",
      "Epoch 39/100\n",
      "34/34 [==============================] - 0s 14ms/step - loss: 0.0037 - val_loss: 4.0421e-04\n",
      "Epoch 40/100\n",
      "34/34 [==============================] - 1s 16ms/step - loss: 0.0039 - val_loss: 3.8527e-04\n",
      "Epoch 41/100\n",
      "34/34 [==============================] - 0s 14ms/step - loss: 0.0035 - val_loss: 3.5082e-04\n",
      "Epoch 42/100\n",
      "34/34 [==============================] - 0s 13ms/step - loss: 0.0032 - val_loss: 3.2585e-04\n",
      "Epoch 43/100\n",
      "34/34 [==============================] - 1s 15ms/step - loss: 0.0029 - val_loss: 3.0179e-04\n",
      "Epoch 44/100\n",
      "34/34 [==============================] - 1s 23ms/step - loss: 0.0028 - val_loss: 2.8063e-04\n",
      "Epoch 45/100\n",
      "34/34 [==============================] - 0s 14ms/step - loss: 0.0028 - val_loss: 2.6285e-04\n",
      "Epoch 46/100\n",
      "34/34 [==============================] - 0s 14ms/step - loss: 0.0027 - val_loss: 2.5014e-04\n",
      "Epoch 47/100\n",
      "34/34 [==============================] - 0s 15ms/step - loss: 0.0025 - val_loss: 2.3410e-04\n",
      "Epoch 48/100\n",
      "34/34 [==============================] - 0s 14ms/step - loss: 0.0023 - val_loss: 2.1920e-04\n",
      "Epoch 49/100\n",
      "34/34 [==============================] - 1s 15ms/step - loss: 0.0022 - val_loss: 2.0919e-04\n",
      "Epoch 50/100\n",
      "34/34 [==============================] - 1s 15ms/step - loss: 0.0023 - val_loss: 1.9698e-04\n",
      "Epoch 51/100\n",
      "34/34 [==============================] - 0s 13ms/step - loss: 0.0021 - val_loss: 1.8540e-04\n",
      "Epoch 52/100\n",
      "34/34 [==============================] - 0s 13ms/step - loss: 0.0021 - val_loss: 1.7521e-04\n",
      "Epoch 53/100\n",
      "34/34 [==============================] - 0s 14ms/step - loss: 0.0020 - val_loss: 1.7040e-04\n",
      "Epoch 54/100\n",
      "34/34 [==============================] - 1s 15ms/step - loss: 0.0020 - val_loss: 1.6039e-04\n",
      "Epoch 55/100\n",
      "34/34 [==============================] - 1s 23ms/step - loss: 0.0018 - val_loss: 1.6432e-04\n",
      "Epoch 56/100\n",
      "34/34 [==============================] - 1s 17ms/step - loss: 0.0020 - val_loss: 1.5113e-04\n",
      "Epoch 57/100\n",
      "34/34 [==============================] - 1s 16ms/step - loss: 0.0018 - val_loss: 1.4176e-04\n",
      "Epoch 58/100\n",
      "34/34 [==============================] - 0s 14ms/step - loss: 0.0019 - val_loss: 1.3496e-04\n",
      "Epoch 59/100\n",
      "34/34 [==============================] - 1s 17ms/step - loss: 0.0019 - val_loss: 1.3176e-04\n",
      "Epoch 60/100\n",
      "34/34 [==============================] - 0s 14ms/step - loss: 0.0016 - val_loss: 1.3484e-04\n",
      "Epoch 61/100\n",
      "34/34 [==============================] - 0s 14ms/step - loss: 0.0017 - val_loss: 1.2237e-04\n",
      "Epoch 62/100\n",
      "34/34 [==============================] - 1s 19ms/step - loss: 0.0018 - val_loss: 1.1520e-04\n",
      "Epoch 63/100\n",
      "34/34 [==============================] - 1s 17ms/step - loss: 0.0018 - val_loss: 1.1311e-04\n",
      "Epoch 64/100\n",
      "34/34 [==============================] - 1s 16ms/step - loss: 0.0015 - val_loss: 1.0489e-04\n",
      "Epoch 65/100\n",
      "34/34 [==============================] - 0s 13ms/step - loss: 0.0013 - val_loss: 9.4075e-05\n",
      "Epoch 66/100\n",
      "34/34 [==============================] - 0s 13ms/step - loss: 0.0013 - val_loss: 8.8388e-05\n",
      "Epoch 67/100\n",
      "34/34 [==============================] - 1s 17ms/step - loss: 0.0012 - val_loss: 8.3733e-05\n",
      "Epoch 68/100\n",
      "34/34 [==============================] - 0s 14ms/step - loss: 0.0012 - val_loss: 8.2940e-05\n",
      "Epoch 69/100\n",
      "34/34 [==============================] - 1s 16ms/step - loss: 0.0012 - val_loss: 7.6539e-05\n",
      "Epoch 70/100\n",
      "34/34 [==============================] - 1s 18ms/step - loss: 0.0012 - val_loss: 7.1689e-05\n",
      "Epoch 71/100\n",
      "34/34 [==============================] - 1s 19ms/step - loss: 0.0012 - val_loss: 7.0035e-05\n",
      "Epoch 72/100\n",
      "34/34 [==============================] - 1s 24ms/step - loss: 0.0011 - val_loss: 6.6699e-05\n",
      "Epoch 73/100\n",
      "34/34 [==============================] - 1s 18ms/step - loss: 0.0011 - val_loss: 6.1890e-05\n",
      "Epoch 74/100\n",
      "34/34 [==============================] - 1s 16ms/step - loss: 0.0010 - val_loss: 5.7798e-05\n",
      "Epoch 75/100\n",
      "34/34 [==============================] - 1s 15ms/step - loss: 0.0011 - val_loss: 5.6578e-05\n",
      "Epoch 76/100\n",
      "34/34 [==============================] - 1s 19ms/step - loss: 9.2406e-04 - val_loss: 5.4956e-05\n",
      "Epoch 77/100\n",
      "34/34 [==============================] - 1s 17ms/step - loss: 8.9364e-04 - val_loss: 5.1576e-05\n",
      "Epoch 78/100\n",
      "34/34 [==============================] - 0s 14ms/step - loss: 8.7107e-04 - val_loss: 4.9139e-05\n",
      "Epoch 79/100\n",
      "34/34 [==============================] - 0s 12ms/step - loss: 8.3336e-04 - val_loss: 4.6254e-05\n",
      "Epoch 80/100\n",
      "34/34 [==============================] - 0s 13ms/step - loss: 8.3783e-04 - val_loss: 4.5146e-05\n",
      "Epoch 81/100\n",
      "34/34 [==============================] - 0s 12ms/step - loss: 8.3154e-04 - val_loss: 4.3216e-05\n",
      "Epoch 82/100\n",
      "34/34 [==============================] - 1s 16ms/step - loss: 7.4147e-04 - val_loss: 4.2148e-05\n",
      "Epoch 83/100\n",
      "34/34 [==============================] - 0s 14ms/step - loss: 7.9890e-04 - val_loss: 4.1255e-05\n",
      "Epoch 84/100\n",
      "34/34 [==============================] - 1s 16ms/step - loss: 7.5764e-04 - val_loss: 3.9787e-05\n",
      "Epoch 85/100\n",
      "34/34 [==============================] - 0s 15ms/step - loss: 7.4474e-04 - val_loss: 3.8563e-05\n",
      "Epoch 86/100\n",
      "34/34 [==============================] - 0s 14ms/step - loss: 7.6241e-04 - val_loss: 3.6606e-05\n",
      "Epoch 87/100\n",
      "34/34 [==============================] - 1s 17ms/step - loss: 9.0069e-04 - val_loss: 4.1143e-05\n",
      "Epoch 88/100\n",
      "34/34 [==============================] - 1s 15ms/step - loss: 8.3115e-04 - val_loss: 3.8277e-05\n",
      "Epoch 89/100\n",
      "34/34 [==============================] - 0s 13ms/step - loss: 7.1521e-04 - val_loss: 3.4413e-05\n",
      "Epoch 90/100\n",
      "34/34 [==============================] - 0s 15ms/step - loss: 7.7035e-04 - val_loss: 3.3080e-05\n",
      "Epoch 91/100\n",
      "34/34 [==============================] - 1s 16ms/step - loss: 7.7913e-04 - val_loss: 3.2687e-05\n",
      "Epoch 92/100\n",
      "34/34 [==============================] - 0s 14ms/step - loss: 8.2483e-04 - val_loss: 3.5042e-05\n",
      "Epoch 93/100\n",
      "34/34 [==============================] - 1s 17ms/step - loss: 7.3039e-04 - val_loss: 2.9623e-05\n",
      "Epoch 94/100\n",
      "34/34 [==============================] - 1s 16ms/step - loss: 6.4673e-04 - val_loss: 2.8807e-05\n",
      "Epoch 95/100\n",
      "34/34 [==============================] - 1s 19ms/step - loss: 7.0612e-04 - val_loss: 2.8190e-05\n",
      "Epoch 96/100\n",
      "34/34 [==============================] - 0s 14ms/step - loss: 6.6725e-04 - val_loss: 2.7349e-05\n",
      "Epoch 97/100\n",
      "34/34 [==============================] - 0s 13ms/step - loss: 6.2551e-04 - val_loss: 2.5349e-05\n",
      "Epoch 98/100\n",
      "34/34 [==============================] - 0s 13ms/step - loss: 5.5278e-04 - val_loss: 2.3820e-05\n",
      "Epoch 99/100\n",
      "34/34 [==============================] - 0s 13ms/step - loss: 5.3099e-04 - val_loss: 2.2245e-05\n",
      "Epoch 100/100\n",
      "34/34 [==============================] - 1s 20ms/step - loss: 5.7970e-04 - val_loss: 2.1097e-05\n"
     ]
    },
    {
     "data": {
      "text/plain": [
       "<keras.callbacks.History at 0x251912f7a90>"
      ]
     },
     "execution_count": 10,
     "metadata": {},
     "output_type": "execute_result"
    }
   ],
   "source": [
    "autoencoder.fit(data, data,\n",
    "                epochs=100,\n",
    "                batch_size=300,\n",
    "                validation_data=(val_data, val_data))"
   ]
  },
  {
   "cell_type": "code",
   "execution_count": 11,
   "metadata": {
    "collapsed": true
   },
   "outputs": [],
   "source": [
    "from keras.models import load_model\n",
    "#autoencoder.save('4_7_symbol_autoencoder_v_best.model')"
   ]
  },
  {
   "cell_type": "code",
   "execution_count": 12,
   "metadata": {
    "collapsed": true
   },
   "outputs": [],
   "source": [
    "#autoencoder_loaded = load_model('4_7_symbol_autoencoder_v_best.model')"
   ]
  },
  {
   "cell_type": "code",
   "execution_count": 13,
   "metadata": {
    "collapsed": true
   },
   "outputs": [],
   "source": [
    "encoder = Model(input_signal, encoded2)"
   ]
  },
  {
   "cell_type": "code",
   "execution_count": 14,
   "metadata": {
    "collapsed": true
   },
   "outputs": [],
   "source": [
    "encoded_input = Input(shape=(n_channel,))\n",
    "\n",
    "deco = autoencoder.layers[-2](encoded_input)\n",
    "deco = autoencoder.layers[-1](deco)\n",
    "# create the decoder model\n",
    "decoder = Model(encoded_input, deco)"
   ]
  },
  {
   "cell_type": "code",
   "execution_count": 15,
   "metadata": {
    "collapsed": true
   },
   "outputs": [],
   "source": [
    "N = 45000\n",
    "test_label = np.random.randint(M,size=N)\n",
    "test_data = []\n",
    "\n",
    "for i in test_label:\n",
    "    temp = np.zeros(M)\n",
    "    temp[i] = 1\n",
    "    test_data.append(temp)\n",
    "    \n",
    "test_data = np.array(test_data)"
   ]
  },
  {
   "cell_type": "code",
   "execution_count": 16,
   "metadata": {},
   "outputs": [
    {
     "name": "stdout",
     "output_type": "stream",
     "text": [
      "1.0 162\n"
     ]
    }
   ],
   "source": [
    "temp_test = 6\n",
    "print (test_data[temp_test][test_label[temp_test]],test_label[temp_test])"
   ]
  },
  {
   "cell_type": "code",
   "execution_count": 17,
   "metadata": {},
   "outputs": [
    {
     "data": {
      "text/plain": [
       "<keras.engine.functional.Functional at 0x251902278e0>"
      ]
     },
     "execution_count": 17,
     "metadata": {},
     "output_type": "execute_result"
    }
   ],
   "source": [
    "autoencoder"
   ]
  },
  {
   "cell_type": "code",
   "execution_count": 18,
   "metadata": {
    "collapsed": true
   },
   "outputs": [],
   "source": [
    "def frange(x, y, jump):\n",
    "  while x < y:\n",
    "    yield x\n",
    "    x += jump"
   ]
  },
  {
   "cell_type": "code",
   "execution_count": 19,
   "metadata": {},
   "outputs": [
    {
     "name": "stdout",
     "output_type": "stream",
     "text": [
      "1407/1407 [==============================] - 6s 4ms/step\n",
      "1407/1407 [==============================] - 6s 4ms/step\n",
      "SNR: -4 BER: 0.49606666666666666\n",
      "1407/1407 [==============================] - 6s 4ms/step\n",
      "1407/1407 [==============================] - 5s 3ms/step\n",
      "SNR: -3.5 BER: 0.4393111111111111\n",
      "1407/1407 [==============================] - 6s 4ms/step\n",
      "1407/1407 [==============================] - 5s 4ms/step\n",
      "SNR: -3.0 BER: 0.38324444444444444\n",
      "1407/1407 [==============================] - 5s 4ms/step\n",
      "1407/1407 [==============================] - 6s 4ms/step\n",
      "SNR: -2.5 BER: 0.32206666666666667\n",
      "1407/1407 [==============================] - 6s 4ms/step\n",
      "1407/1407 [==============================] - 6s 4ms/step\n",
      "SNR: -2.0 BER: 0.26586666666666664\n",
      "1407/1407 [==============================] - 5s 4ms/step\n",
      "1407/1407 [==============================] - 6s 5ms/step\n",
      "SNR: -1.5 BER: 0.21586666666666668\n",
      "1407/1407 [==============================] - 7s 5ms/step\n",
      "1407/1407 [==============================] - 6s 4ms/step\n",
      "SNR: -1.0 BER: 0.16613333333333333\n",
      "1407/1407 [==============================] - 8s 6ms/step\n",
      "1407/1407 [==============================] - 6s 4ms/step\n",
      "SNR: -0.5 BER: 0.12186666666666666\n",
      "1407/1407 [==============================] - 6s 4ms/step\n",
      "1407/1407 [==============================] - 6s 4ms/step\n",
      "SNR: 0.0 BER: 0.08864444444444444\n",
      "1407/1407 [==============================] - 6s 4ms/step\n",
      "1407/1407 [==============================] - 6s 4ms/step\n",
      "SNR: 0.5 BER: 0.06133333333333333\n",
      "1407/1407 [==============================] - 6s 4ms/step\n",
      "1407/1407 [==============================] - 6s 4ms/step\n",
      "SNR: 1.0 BER: 0.04142222222222222\n",
      "1407/1407 [==============================] - 6s 4ms/step\n",
      "1407/1407 [==============================] - 6s 4ms/step\n",
      "SNR: 1.5 BER: 0.0244\n",
      "1407/1407 [==============================] - 6s 4ms/step\n",
      "1407/1407 [==============================] - 5s 4ms/step\n",
      "SNR: 2.0 BER: 0.014666666666666666\n",
      "1407/1407 [==============================] - 5s 4ms/step\n",
      "1407/1407 [==============================] - 5s 4ms/step\n",
      "SNR: 2.5 BER: 0.00848888888888889\n",
      "1407/1407 [==============================] - 7s 5ms/step\n",
      "1407/1407 [==============================] - 5s 4ms/step\n",
      "SNR: 3.0 BER: 0.0041333333333333335\n",
      "1407/1407 [==============================] - 6s 4ms/step\n",
      "1407/1407 [==============================] - 6s 4ms/step\n",
      "SNR: 3.5 BER: 0.0020666666666666667\n",
      "1407/1407 [==============================] - 6s 4ms/step\n",
      "1407/1407 [==============================] - 5s 4ms/step\n",
      "SNR: 4.0 BER: 0.0010222222222222223\n",
      "1407/1407 [==============================] - 6s 4ms/step\n",
      "1407/1407 [==============================] - 5s 4ms/step\n",
      "SNR: 4.5 BER: 0.00037777777777777777\n",
      "1407/1407 [==============================] - 5s 4ms/step\n",
      "1407/1407 [==============================] - 6s 4ms/step\n",
      "SNR: 5.0 BER: 8.888888888888889e-05\n",
      "1407/1407 [==============================] - 6s 4ms/step\n",
      "1407/1407 [==============================] - 5s 4ms/step\n",
      "SNR: 5.5 BER: 8.888888888888889e-05\n",
      "1407/1407 [==============================] - 4s 3ms/step\n",
      "1407/1407 [==============================] - 3s 2ms/step\n",
      "SNR: 6.0 BER: 0.0\n",
      "1407/1407 [==============================] - 3s 2ms/step\n",
      "1407/1407 [==============================] - 3s 2ms/step\n",
      "SNR: 6.5 BER: 0.0\n",
      "1407/1407 [==============================] - 3s 2ms/step\n",
      "1407/1407 [==============================] - 3s 2ms/step\n",
      "SNR: 7.0 BER: 0.0\n",
      "1407/1407 [==============================] - 3s 2ms/step\n",
      "1407/1407 [==============================] - 2s 2ms/step\n",
      "SNR: 7.5 BER: 0.0\n",
      "1407/1407 [==============================] - 3s 2ms/step\n",
      "1407/1407 [==============================] - 3s 2ms/step\n",
      "SNR: 8.0 BER: 0.0\n"
     ]
    }
   ],
   "source": [
    "EbNodB_range = list(frange(-4,8.5,0.5))\n",
    "ber = [None]*len(EbNodB_range)\n",
    "for n in range(0,len(EbNodB_range)):\n",
    "    EbNo=10.0**(EbNodB_range[n]/10.0)\n",
    "    noise_std = np.sqrt(1/(2*R*EbNo))\n",
    "    noise_mean = 0\n",
    "    no_errors = 0\n",
    "    nn = N\n",
    "    noise = noise_std * np.random.randn(nn,n_channel)\n",
    "    encoded_signal = encoder.predict(test_data) \n",
    "    final_signal = encoded_signal + noise\n",
    "    pred_final_signal =  decoder.predict(final_signal)\n",
    "    pred_output = np.argmax(pred_final_signal,axis=1)\n",
    "    no_errors = (pred_output != test_label)\n",
    "    no_errors =  no_errors.astype(int).sum()\n",
    "    ber[n] = no_errors / nn \n",
    "    print ('SNR:',EbNodB_range[n],'BER:',ber[n])"
   ]
  },
  {
   "cell_type": "code",
   "execution_count": 20,
   "metadata": {},
   "outputs": [
    {
     "data": {
      "text/plain": [
       "<matplotlib.legend.Legend at 0x251953df010>"
      ]
     },
     "execution_count": 20,
     "metadata": {},
     "output_type": "execute_result"
    },
    {
     "data": {
      "image/png": "[encoded data removed]",
      "text/plain": [
       "<Figure size 432x288 with 1 Axes>"
      ]
     },
     "metadata": {
      "needs_background": "light"
     },
     "output_type": "display_data"
    }
   ],
   "source": [
    "import matplotlib.pyplot as plt\n",
    "plt.plot(EbNodB_range, ber, 'bo',label='Autoencoder(8,8)')\n",
    "#plt.plot(list(EbNodB_range), ber_theory, 'ro-',label='BPSK BER')\n",
    "plt.yscale('log')\n",
    "plt.xlabel('SNR Range')\n",
    "plt.ylabel('Block Error Rate')\n",
    "plt.grid()\n",
    "plt.legend(loc='upper right',ncol = 1)"
   ]
  },
  {
   "cell_type": "code",
   "execution_count": 21,
   "metadata": {},
   "outputs": [
    {
     "data": {
      "text/plain": [
       "<Figure size 432x288 with 0 Axes>"
      ]
     },
     "metadata": {},
     "output_type": "display_data"
    }
   ],
   "source": [
    "plt.savefig('AutoEncoder_8_8_BER_matplotlib')\n",
    "plt.show()"
   ]
  },
  {
   "cell_type": "code",
   "execution_count": null,
   "metadata": {
    "collapsed": true
   },
   "outputs": [],
   "source": []
  }
 ],
 "metadata": {
  "anaconda-cloud": {},
  "kernelspec": {
   "display_name": "Python 3",
   "language": "python",
   "name": "python3"
  },
  "language_info": {
   "codemirror_mode": {
    "name": "ipython",
    "version": 3
   },
   "file_extension": ".py",
   "mimetype": "text/x-python",
   "name": "python",
   "nbconvert_exporter": "python",
   "pygments_lexer": "ipython3",
   "version": "3.10.0"
  }
 },
 "nbformat": 4,
 "nbformat_minor": 2
}
