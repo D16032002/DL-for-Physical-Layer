{
 "cells": [
  {
   "cell_type": "code",
   "execution_count": 1,
   "metadata": {},
   "outputs": [],
   "source": [
    "# importing libs\n",
    "import numpy as np\n",
    "import tensorflow as tf\n",
    "from keras.layers import Input, Dense, GaussianNoise\n",
    "from keras.models import Model\n",
    "from keras import regularizers\n",
    "# from keras.layers.normalization import BatchNormalization\n",
    "from tensorflow.keras.layers import BatchNormalization\n",
    "from keras.optimizers import SGD\n",
    "import random as rn"
   ]
  },
  {
   "cell_type": "code",
   "execution_count": 2,
   "metadata": {},
   "outputs": [
    {
     "name": "stdout",
     "output_type": "stream",
     "text": [
      "M: 16 k: 4\n"
     ]
    }
   ],
   "source": [
    "# defining parameters\n",
    "M = 16\n",
    "k = np.log2(M)\n",
    "k = int(k)\n",
    "print ('M:',M,'k:',k)"
   ]
  },
  {
   "cell_type": "code",
   "execution_count": 3,
   "metadata": {
    "collapsed": true
   },
   "outputs": [],
   "source": [
    "#generating data of size N\n",
    "N = 10000\n",
    "label = np.random.randint(M,size=N)"
   ]
  },
  {
   "cell_type": "code",
   "execution_count": 4,
   "metadata": {
    "collapsed": true
   },
   "outputs": [],
   "source": [
    "# creating one hot encoded vectors\n",
    "data = []\n",
    "for i in label:\n",
    "    temp = np.zeros(M)\n",
    "    temp[i] = 1\n",
    "    data.append(temp)"
   ]
  },
  {
   "cell_type": "code",
   "execution_count": 5,
   "metadata": {},
   "outputs": [
    {
     "name": "stdout",
     "output_type": "stream",
     "text": [
      "(10000, 16)\n"
     ]
    }
   ],
   "source": [
    "data = np.array(data)\n",
    "print (data.shape)"
   ]
  },
  {
   "cell_type": "code",
   "execution_count": 6,
   "metadata": {},
   "outputs": [
    {
     "name": "stdout",
     "output_type": "stream",
     "text": [
      "9 [0. 0. 0. 0. 0. 0. 0. 0. 0. 1. 0. 0. 0. 0. 0. 0.]\n",
      "13 [0. 0. 0. 0. 0. 0. 0. 0. 0. 0. 0. 0. 0. 1. 0. 0.]\n",
      "12 [0. 0. 0. 0. 0. 0. 0. 0. 0. 0. 0. 0. 1. 0. 0. 0.]\n",
      "12 [0. 0. 0. 0. 0. 0. 0. 0. 0. 0. 0. 0. 1. 0. 0. 0.]\n",
      "3 [0. 0. 0. 1. 0. 0. 0. 0. 0. 0. 0. 0. 0. 0. 0. 0.]\n",
      "12 [0. 0. 0. 0. 0. 0. 0. 0. 0. 0. 0. 0. 1. 0. 0. 0.]\n",
      "15 [0. 0. 0. 0. 0. 0. 0. 0. 0. 0. 0. 0. 0. 0. 0. 1.]\n",
      "0 [1. 0. 0. 0. 0. 0. 0. 0. 0. 0. 0. 0. 0. 0. 0. 0.]\n",
      "1 [0. 1. 0. 0. 0. 0. 0. 0. 0. 0. 0. 0. 0. 0. 0. 0.]\n"
     ]
    }
   ],
   "source": [
    "temp_check = [17,23,45,67,89,96,72,250,350]\n",
    "for i in temp_check:\n",
    "    print(label[i],data[i])"
   ]
  },
  {
   "cell_type": "code",
   "execution_count": 7,
   "metadata": {},
   "outputs": [
    {
     "name": "stdout",
     "output_type": "stream",
     "text": [
      "4\n"
     ]
    }
   ],
   "source": [
    "R = 1\n",
    "n_channel = 4\n",
    "print (int(k/R))\n",
    "input_signal = Input(shape=(M,))\n",
    "encoded = Dense(M, activation='relu')(input_signal)\n",
    "encoded1 = Dense(n_channel, activation='linear')(encoded)\n",
    "encoded2 = BatchNormalization()(encoded1)\n",
    "\n",
    "EbNo_train = 5.01187 #  coverted 7 db of EbNo\n",
    "encoded3 = GaussianNoise(np.sqrt(1/(2*R*EbNo_train)))(encoded2)\n",
    "\n",
    "decoded = Dense(M, activation='relu')(encoded3)\n",
    "decoded1 = Dense(M, activation='softmax')(decoded)\n",
    "\n",
    "autoencoder = Model(input_signal, decoded1)\n",
    "#sgd = SGD(lr=0.001)\n",
    "autoencoder.compile(optimizer='adam', loss='categorical_crossentropy')"
   ]
  },
  {
   "cell_type": "code",
   "execution_count": 8,
   "metadata": {},
   "outputs": [
    {
     "name": "stdout",
     "output_type": "stream",
     "text": [
      "Model: \"model\"\n",
      "_________________________________________________________________\n",
      " Layer (type)                Output Shape              Param #   \n",
      "=================================================================\n",
      " input_1 (InputLayer)        [(None, 16)]              0         \n",
      "                                                                 \n",
      " dense (Dense)               (None, 16)                272       \n",
      "                                                                 \n",
      " dense_1 (Dense)             (None, 4)                 68        \n",
      "                                                                 \n",
      " batch_normalization (BatchN  (None, 4)                16        \n",
      " ormalization)                                                   \n",
      "                                                                 \n",
      " gaussian_noise (GaussianNoi  (None, 4)                0         \n",
      " se)                                                             \n",
      "                                                                 \n",
      " dense_2 (Dense)             (None, 16)                80        \n",
      "                                                                 \n",
      " dense_3 (Dense)             (None, 16)                272       \n",
      "                                                                 \n",
      "=================================================================\n",
      "Total params: 708\n",
      "Trainable params: 700\n",
      "Non-trainable params: 8\n",
      "_________________________________________________________________\n",
      "None\n"
     ]
    }
   ],
   "source": [
    "print (autoencoder.summary())"
   ]
  },
  {
   "cell_type": "code",
   "execution_count": 9,
   "metadata": {
    "collapsed": true
   },
   "outputs": [],
   "source": [
    "N_val = 1500\n",
    "val_label = np.random.randint(M,size=N_val)\n",
    "val_data = []\n",
    "for i in val_label:\n",
    "    temp = np.zeros(M)\n",
    "    temp[i] = 1\n",
    "    val_data.append(temp)\n",
    "val_data = np.array(val_data)"
   ]
  },
  {
   "cell_type": "code",
   "execution_count": 10,
   "metadata": {
    "scrolled": true
   },
   "outputs": [
    {
     "name": "stdout",
     "output_type": "stream",
     "text": [
      "Epoch 1/100\n",
      "34/34 [==============================] - 3s 20ms/step - loss: 2.6437 - val_loss: 2.6785\n",
      "Epoch 2/100\n",
      "34/34 [==============================] - 0s 9ms/step - loss: 2.2900 - val_loss: 2.5600\n",
      "Epoch 3/100\n",
      "34/34 [==============================] - 0s 8ms/step - loss: 1.9817 - val_loss: 2.4006\n",
      "Epoch 4/100\n",
      "34/34 [==============================] - 0s 13ms/step - loss: 1.6977 - val_loss: 2.1906\n",
      "Epoch 5/100\n",
      "34/34 [==============================] - 0s 10ms/step - loss: 1.3976 - val_loss: 1.9210\n",
      "Epoch 6/100\n",
      "34/34 [==============================] - 0s 7ms/step - loss: 1.1059 - val_loss: 1.5894\n",
      "Epoch 7/100\n",
      "34/34 [==============================] - 0s 6ms/step - loss: 0.8479 - val_loss: 1.2280\n",
      "Epoch 8/100\n",
      "34/34 [==============================] - 0s 6ms/step - loss: 0.6368 - val_loss: 0.8878\n",
      "Epoch 9/100\n",
      "34/34 [==============================] - 0s 7ms/step - loss: 0.4744 - val_loss: 0.6088\n",
      "Epoch 10/100\n",
      "34/34 [==============================] - 0s 9ms/step - loss: 0.3520 - val_loss: 0.3966\n",
      "Epoch 11/100\n",
      "34/34 [==============================] - 0s 15ms/step - loss: 0.2610 - val_loss: 0.2510\n",
      "Epoch 12/100\n",
      "34/34 [==============================] - 0s 12ms/step - loss: 0.1989 - val_loss: 0.1633\n",
      "Epoch 13/100\n",
      "34/34 [==============================] - 0s 7ms/step - loss: 0.1537 - val_loss: 0.1102\n",
      "Epoch 14/100\n",
      "34/34 [==============================] - 0s 7ms/step - loss: 0.1208 - val_loss: 0.0791\n",
      "Epoch 15/100\n",
      "34/34 [==============================] - 0s 8ms/step - loss: 0.0977 - val_loss: 0.0583\n",
      "Epoch 16/100\n",
      "34/34 [==============================] - 0s 9ms/step - loss: 0.0822 - val_loss: 0.0450\n",
      "Epoch 17/100\n",
      "34/34 [==============================] - 0s 10ms/step - loss: 0.0686 - val_loss: 0.0357\n",
      "Epoch 18/100\n",
      "34/34 [==============================] - 0s 11ms/step - loss: 0.0581 - val_loss: 0.0294\n",
      "Epoch 19/100\n",
      "34/34 [==============================] - 0s 7ms/step - loss: 0.0506 - val_loss: 0.0247\n",
      "Epoch 20/100\n",
      "34/34 [==============================] - 0s 6ms/step - loss: 0.0437 - val_loss: 0.0208\n",
      "Epoch 21/100\n",
      "34/34 [==============================] - 0s 7ms/step - loss: 0.0386 - val_loss: 0.0181\n",
      "Epoch 22/100\n",
      "34/34 [==============================] - 0s 9ms/step - loss: 0.0343 - val_loss: 0.0156\n",
      "Epoch 23/100\n",
      "34/34 [==============================] - 0s 9ms/step - loss: 0.0306 - val_loss: 0.0137\n",
      "Epoch 24/100\n",
      "34/34 [==============================] - 0s 7ms/step - loss: 0.0276 - val_loss: 0.0123\n",
      "Epoch 25/100\n",
      "34/34 [==============================] - 0s 6ms/step - loss: 0.0248 - val_loss: 0.0109\n",
      "Epoch 26/100\n",
      "34/34 [==============================] - 0s 6ms/step - loss: 0.0218 - val_loss: 0.0098\n",
      "Epoch 27/100\n",
      "34/34 [==============================] - 0s 7ms/step - loss: 0.0204 - val_loss: 0.0088\n",
      "Epoch 28/100\n",
      "34/34 [==============================] - 0s 8ms/step - loss: 0.0185 - val_loss: 0.0080\n",
      "Epoch 29/100\n",
      "34/34 [==============================] - 0s 9ms/step - loss: 0.0171 - val_loss: 0.0073\n",
      "Epoch 30/100\n",
      "34/34 [==============================] - 0s 8ms/step - loss: 0.0156 - val_loss: 0.0067\n",
      "Epoch 31/100\n",
      "34/34 [==============================] - 0s 9ms/step - loss: 0.0145 - val_loss: 0.0061\n",
      "Epoch 32/100\n",
      "34/34 [==============================] - 0s 7ms/step - loss: 0.0133 - val_loss: 0.0056\n",
      "Epoch 33/100\n",
      "34/34 [==============================] - 0s 7ms/step - loss: 0.0125 - val_loss: 0.0051\n",
      "Epoch 34/100\n",
      "34/34 [==============================] - 0s 6ms/step - loss: 0.0117 - val_loss: 0.0048\n",
      "Epoch 35/100\n",
      "34/34 [==============================] - 0s 5ms/step - loss: 0.0110 - val_loss: 0.0044\n",
      "Epoch 36/100\n",
      "34/34 [==============================] - 0s 7ms/step - loss: 0.0099 - val_loss: 0.0040\n",
      "Epoch 37/100\n",
      "34/34 [==============================] - 0s 8ms/step - loss: 0.0095 - val_loss: 0.0038\n",
      "Epoch 38/100\n",
      "34/34 [==============================] - 0s 8ms/step - loss: 0.0089 - val_loss: 0.0036\n",
      "Epoch 39/100\n",
      "34/34 [==============================] - 0s 12ms/step - loss: 0.0083 - val_loss: 0.0033\n",
      "Epoch 40/100\n",
      "34/34 [==============================] - 0s 9ms/step - loss: 0.0081 - val_loss: 0.0030\n",
      "Epoch 41/100\n",
      "34/34 [==============================] - 0s 7ms/step - loss: 0.0075 - val_loss: 0.0028\n",
      "Epoch 42/100\n",
      "34/34 [==============================] - 0s 6ms/step - loss: 0.0072 - val_loss: 0.0027\n",
      "Epoch 43/100\n",
      "34/34 [==============================] - 0s 6ms/step - loss: 0.0068 - val_loss: 0.0025\n",
      "Epoch 44/100\n",
      "34/34 [==============================] - 0s 9ms/step - loss: 0.0063 - val_loss: 0.0024\n",
      "Epoch 45/100\n",
      "34/34 [==============================] - 0s 10ms/step - loss: 0.0059 - val_loss: 0.0022\n",
      "Epoch 46/100\n",
      "34/34 [==============================] - 0s 11ms/step - loss: 0.0056 - val_loss: 0.0021\n",
      "Epoch 47/100\n",
      "34/34 [==============================] - 0s 8ms/step - loss: 0.0055 - val_loss: 0.0020\n",
      "Epoch 48/100\n",
      "34/34 [==============================] - 0s 6ms/step - loss: 0.0050 - val_loss: 0.0019\n",
      "Epoch 49/100\n",
      "34/34 [==============================] - 0s 7ms/step - loss: 0.0051 - val_loss: 0.0018\n",
      "Epoch 50/100\n",
      "34/34 [==============================] - 0s 7ms/step - loss: 0.0047 - val_loss: 0.0017\n",
      "Epoch 51/100\n",
      "34/34 [==============================] - 0s 7ms/step - loss: 0.0042 - val_loss: 0.0016\n",
      "Epoch 52/100\n",
      "34/34 [==============================] - 0s 9ms/step - loss: 0.0042 - val_loss: 0.0015\n",
      "Epoch 53/100\n",
      "34/34 [==============================] - 0s 8ms/step - loss: 0.0041 - val_loss: 0.0014\n",
      "Epoch 54/100\n",
      "34/34 [==============================] - 0s 12ms/step - loss: 0.0039 - val_loss: 0.0014\n",
      "Epoch 55/100\n",
      "34/34 [==============================] - 0s 9ms/step - loss: 0.0037 - val_loss: 0.0013\n",
      "Epoch 56/100\n",
      "34/34 [==============================] - 0s 7ms/step - loss: 0.0036 - val_loss: 0.0012\n",
      "Epoch 57/100\n",
      "34/34 [==============================] - 0s 7ms/step - loss: 0.0032 - val_loss: 0.0012\n",
      "Epoch 58/100\n",
      "34/34 [==============================] - 0s 9ms/step - loss: 0.0032 - val_loss: 0.0011\n",
      "Epoch 59/100\n",
      "34/34 [==============================] - 0s 9ms/step - loss: 0.0032 - val_loss: 0.0011\n",
      "Epoch 60/100\n",
      "34/34 [==============================] - 1s 15ms/step - loss: 0.0030 - val_loss: 0.0010\n",
      "Epoch 61/100\n",
      "34/34 [==============================] - 0s 8ms/step - loss: 0.0029 - val_loss: 9.6816e-04\n",
      "Epoch 62/100\n",
      "34/34 [==============================] - 0s 7ms/step - loss: 0.0027 - val_loss: 9.1059e-04\n",
      "Epoch 63/100\n",
      "34/34 [==============================] - 0s 6ms/step - loss: 0.0027 - val_loss: 8.8107e-04\n",
      "Epoch 64/100\n",
      "34/34 [==============================] - 0s 8ms/step - loss: 0.0026 - val_loss: 8.4276e-04\n",
      "Epoch 65/100\n",
      "34/34 [==============================] - 0s 9ms/step - loss: 0.0026 - val_loss: 8.2828e-04\n",
      "Epoch 66/100\n",
      "34/34 [==============================] - 0s 9ms/step - loss: 0.0024 - val_loss: 7.7705e-04\n",
      "Epoch 67/100\n",
      "34/34 [==============================] - 0s 9ms/step - loss: 0.0023 - val_loss: 7.4413e-04\n",
      "Epoch 68/100\n",
      "34/34 [==============================] - 0s 9ms/step - loss: 0.0022 - val_loss: 7.1104e-04\n",
      "Epoch 69/100\n",
      "34/34 [==============================] - 0s 6ms/step - loss: 0.0023 - val_loss: 6.8275e-04\n",
      "Epoch 70/100\n",
      "34/34 [==============================] - 0s 8ms/step - loss: 0.0021 - val_loss: 6.4481e-04\n",
      "Epoch 71/100\n",
      "34/34 [==============================] - 0s 8ms/step - loss: 0.0020 - val_loss: 6.1558e-04\n",
      "Epoch 72/100\n",
      "34/34 [==============================] - 0s 8ms/step - loss: 0.0019 - val_loss: 5.9480e-04\n",
      "Epoch 73/100\n",
      "34/34 [==============================] - 0s 8ms/step - loss: 0.0019 - val_loss: 5.7306e-04\n",
      "Epoch 74/100\n",
      "34/34 [==============================] - 0s 8ms/step - loss: 0.0019 - val_loss: 5.4228e-04\n",
      "Epoch 75/100\n",
      "34/34 [==============================] - 0s 8ms/step - loss: 0.0018 - val_loss: 5.2370e-04\n",
      "Epoch 76/100\n",
      "34/34 [==============================] - 0s 6ms/step - loss: 0.0016 - val_loss: 5.0953e-04\n",
      "Epoch 77/100\n",
      "34/34 [==============================] - 0s 6ms/step - loss: 0.0016 - val_loss: 4.9361e-04\n",
      "Epoch 78/100\n",
      "34/34 [==============================] - 0s 9ms/step - loss: 0.0016 - val_loss: 4.7371e-04\n",
      "Epoch 79/100\n",
      "34/34 [==============================] - 0s 9ms/step - loss: 0.0015 - val_loss: 4.5669e-04\n",
      "Epoch 80/100\n",
      "34/34 [==============================] - 0s 8ms/step - loss: 0.0015 - val_loss: 4.3502e-04\n",
      "Epoch 81/100\n",
      "34/34 [==============================] - 0s 6ms/step - loss: 0.0015 - val_loss: 4.2344e-04\n",
      "Epoch 82/100\n",
      "34/34 [==============================] - 0s 6ms/step - loss: 0.0014 - val_loss: 4.0362e-04\n",
      "Epoch 83/100\n",
      "34/34 [==============================] - 0s 8ms/step - loss: 0.0013 - val_loss: 3.9037e-04\n",
      "Epoch 84/100\n",
      "34/34 [==============================] - 0s 10ms/step - loss: 0.0013 - val_loss: 3.7670e-04\n",
      "Epoch 85/100\n",
      "34/34 [==============================] - 0s 8ms/step - loss: 0.0012 - val_loss: 3.6493e-04\n",
      "Epoch 86/100\n",
      "34/34 [==============================] - 0s 7ms/step - loss: 0.0012 - val_loss: 3.4961e-04\n",
      "Epoch 87/100\n",
      "34/34 [==============================] - 0s 7ms/step - loss: 0.0012 - val_loss: 3.4413e-04\n",
      "Epoch 88/100\n",
      "34/34 [==============================] - 0s 12ms/step - loss: 0.0012 - val_loss: 3.2618e-04\n",
      "Epoch 89/100\n",
      "34/34 [==============================] - 0s 7ms/step - loss: 0.0011 - val_loss: 3.1333e-04\n",
      "Epoch 90/100\n",
      "34/34 [==============================] - 0s 6ms/step - loss: 0.0011 - val_loss: 3.0228e-04\n",
      "Epoch 91/100\n",
      "34/34 [==============================] - 0s 6ms/step - loss: 0.0010 - val_loss: 2.9025e-04\n",
      "Epoch 92/100\n",
      "34/34 [==============================] - 0s 8ms/step - loss: 0.0011 - val_loss: 2.8228e-04\n",
      "Epoch 93/100\n",
      "34/34 [==============================] - 0s 8ms/step - loss: 0.0010 - val_loss: 2.7128e-04\n",
      "Epoch 94/100\n",
      "34/34 [==============================] - 0s 8ms/step - loss: 0.0010 - val_loss: 2.6476e-04\n",
      "Epoch 95/100\n",
      "34/34 [==============================] - 0s 5ms/step - loss: 9.5948e-04 - val_loss: 2.5684e-04\n",
      "Epoch 96/100\n",
      "34/34 [==============================] - 0s 10ms/step - loss: 9.5662e-04 - val_loss: 2.5427e-04\n",
      "Epoch 97/100\n",
      "34/34 [==============================] - 0s 8ms/step - loss: 8.9017e-04 - val_loss: 2.4115e-04\n",
      "Epoch 98/100\n",
      "34/34 [==============================] - 0s 6ms/step - loss: 8.8765e-04 - val_loss: 2.3090e-04\n",
      "Epoch 99/100\n",
      "34/34 [==============================] - 0s 7ms/step - loss: 8.4031e-04 - val_loss: 2.2458e-04\n",
      "Epoch 100/100\n",
      "34/34 [==============================] - 0s 10ms/step - loss: 8.6593e-04 - val_loss: 2.1913e-04\n"
     ]
    },
    {
     "data": {
      "text/plain": [
       "<keras.callbacks.History at 0x2384df53430>"
      ]
     },
     "execution_count": 10,
     "metadata": {},
     "output_type": "execute_result"
    }
   ],
   "source": [
    "autoencoder.fit(data, data,\n",
    "                epochs=100,\n",
    "                batch_size=300,\n",
    "                validation_data=(val_data, val_data))"
   ]
  },
  {
   "cell_type": "code",
   "execution_count": 11,
   "metadata": {
    "collapsed": true
   },
   "outputs": [],
   "source": [
    "from keras.models import load_model\n",
    "#autoencoder.save('4_7_symbol_autoencoder_v_best.model')"
   ]
  },
  {
   "cell_type": "code",
   "execution_count": 12,
   "metadata": {
    "collapsed": true
   },
   "outputs": [],
   "source": [
    "#autoencoder_loaded = load_model('4_7_symbol_autoencoder_v_best.model')"
   ]
  },
  {
   "cell_type": "code",
   "execution_count": 13,
   "metadata": {
    "collapsed": true
   },
   "outputs": [],
   "source": [
    "encoder = Model(input_signal, encoded2)"
   ]
  },
  {
   "cell_type": "code",
   "execution_count": 14,
   "metadata": {
    "collapsed": true
   },
   "outputs": [],
   "source": [
    "encoded_input = Input(shape=(n_channel,))\n",
    "\n",
    "deco = autoencoder.layers[-2](encoded_input)\n",
    "deco = autoencoder.layers[-1](deco)\n",
    "# create the decoder model\n",
    "decoder = Model(encoded_input, deco)"
   ]
  },
  {
   "cell_type": "code",
   "execution_count": 15,
   "metadata": {
    "collapsed": true
   },
   "outputs": [],
   "source": [
    "N = 45000\n",
    "test_label = np.random.randint(M,size=N)\n",
    "test_data = []\n",
    "\n",
    "for i in test_label:\n",
    "    temp = np.zeros(M)\n",
    "    temp[i] = 1\n",
    "    test_data.append(temp)\n",
    "    \n",
    "test_data = np.array(test_data)"
   ]
  },
  {
   "cell_type": "code",
   "execution_count": 16,
   "metadata": {},
   "outputs": [
    {
     "name": "stdout",
     "output_type": "stream",
     "text": [
      "1.0 1\n"
     ]
    }
   ],
   "source": [
    "temp_test = 6\n",
    "print (test_data[temp_test][test_label[temp_test]],test_label[temp_test])"
   ]
  },
  {
   "cell_type": "code",
   "execution_count": 17,
   "metadata": {},
   "outputs": [
    {
     "data": {
      "text/plain": [
       "<keras.engine.functional.Functional at 0x2384df52290>"
      ]
     },
     "execution_count": 17,
     "metadata": {},
     "output_type": "execute_result"
    }
   ],
   "source": [
    "autoencoder"
   ]
  },
  {
   "cell_type": "code",
   "execution_count": 18,
   "metadata": {
    "collapsed": true
   },
   "outputs": [],
   "source": [
    "def frange(x, y, jump):\n",
    "  while x < y:\n",
    "    yield x\n",
    "    x += jump"
   ]
  },
  {
   "cell_type": "code",
   "execution_count": 19,
   "metadata": {},
   "outputs": [
    {
     "name": "stdout",
     "output_type": "stream",
     "text": [
      "1407/1407 [==============================] - 5s 4ms/step\n",
      "1407/1407 [==============================] - 5s 3ms/step\n",
      "SNR: -4 BER: 0.19411111111111112\n",
      "1407/1407 [==============================] - 5s 4ms/step\n",
      "1407/1407 [==============================] - 5s 4ms/step\n",
      "SNR: -3.5 BER: 0.15953333333333333\n",
      "1407/1407 [==============================] - 5s 4ms/step\n",
      "1407/1407 [==============================] - 5s 4ms/step\n",
      "SNR: -3.0 BER: 0.12944444444444445\n",
      "1407/1407 [==============================] - 5s 4ms/step\n",
      "1407/1407 [==============================] - 5s 3ms/step\n",
      "SNR: -2.5 BER: 0.10266666666666667\n",
      "1407/1407 [==============================] - 5s 4ms/step\n",
      "1407/1407 [==============================] - 4s 3ms/step\n",
      "SNR: -2.0 BER: 0.07677777777777778\n",
      "1407/1407 [==============================] - 5s 4ms/step\n",
      "1407/1407 [==============================] - 6s 4ms/step\n",
      "SNR: -1.5 BER: 0.0598\n",
      "1407/1407 [==============================] - 6s 4ms/step\n",
      "1407/1407 [==============================] - 5s 3ms/step\n",
      "SNR: -1.0 BER: 0.043\n",
      "1407/1407 [==============================] - 6s 4ms/step\n",
      "1407/1407 [==============================] - 5s 4ms/step\n",
      "SNR: -0.5 BER: 0.0306\n",
      "1407/1407 [==============================] - 5s 3ms/step\n",
      "1407/1407 [==============================] - 5s 3ms/step\n",
      "SNR: 0.0 BER: 0.020288888888888888\n",
      "1407/1407 [==============================] - 4s 3ms/step\n",
      "1407/1407 [==============================] - 5s 4ms/step\n",
      "SNR: 0.5 BER: 0.012911111111111111\n",
      "1407/1407 [==============================] - 4s 3ms/step\n",
      "1407/1407 [==============================] - 4s 3ms/step\n",
      "SNR: 1.0 BER: 0.007911111111111112\n",
      "1407/1407 [==============================] - 5s 3ms/step\n",
      "1407/1407 [==============================] - 4s 3ms/step\n",
      "SNR: 1.5 BER: 0.004288888888888889\n",
      "1407/1407 [==============================] - 4s 3ms/step\n",
      "1407/1407 [==============================] - 5s 3ms/step\n",
      "SNR: 2.0 BER: 0.0022444444444444443\n",
      "1407/1407 [==============================] - 5s 4ms/step\n",
      "1407/1407 [==============================] - 5s 3ms/step\n",
      "SNR: 2.5 BER: 0.0014222222222222223\n",
      "1407/1407 [==============================] - 5s 4ms/step\n",
      "1407/1407 [==============================] - 4s 3ms/step\n",
      "SNR: 3.0 BER: 0.00046666666666666666\n",
      "1407/1407 [==============================] - 4s 3ms/step\n",
      "1407/1407 [==============================] - 4s 3ms/step\n",
      "SNR: 3.5 BER: 0.0002888888888888889\n",
      "1407/1407 [==============================] - 4s 3ms/step\n",
      "1407/1407 [==============================] - 3s 2ms/step\n",
      "SNR: 4.0 BER: 0.00013333333333333334\n",
      "1407/1407 [==============================] - 4s 3ms/step\n",
      "1407/1407 [==============================] - 4s 3ms/step\n",
      "SNR: 4.5 BER: 2.2222222222222223e-05\n",
      "1407/1407 [==============================] - 5s 3ms/step\n",
      "1407/1407 [==============================] - 5s 4ms/step\n",
      "SNR: 5.0 BER: 2.2222222222222223e-05\n",
      "1407/1407 [==============================] - 5s 3ms/step\n",
      "1407/1407 [==============================] - 5s 3ms/step\n",
      "SNR: 5.5 BER: 0.0\n",
      "1407/1407 [==============================] - 5s 3ms/step\n",
      "1407/1407 [==============================] - 5s 3ms/step\n",
      "SNR: 6.0 BER: 0.0\n",
      "1407/1407 [==============================] - 4s 3ms/step\n",
      "1407/1407 [==============================] - 5s 3ms/step\n",
      "SNR: 6.5 BER: 0.0\n",
      "1407/1407 [==============================] - 5s 3ms/step\n",
      "1407/1407 [==============================] - 5s 3ms/step\n",
      "SNR: 7.0 BER: 0.0\n",
      "1407/1407 [==============================] - 5s 3ms/step\n",
      "1407/1407 [==============================] - 6s 4ms/step\n",
      "SNR: 7.5 BER: 0.0\n",
      "1407/1407 [==============================] - 5s 4ms/step\n",
      "1407/1407 [==============================] - 4s 3ms/step\n",
      "SNR: 8.0 BER: 0.0\n"
     ]
    }
   ],
   "source": [
    "EbNodB_range = list(frange(-4,8.5,0.5))\n",
    "ber = [None]*len(EbNodB_range)\n",
    "for n in range(0,len(EbNodB_range)):\n",
    "    EbNo=10.0**(EbNodB_range[n]/10.0)\n",
    "    noise_std = np.sqrt(1/(2*R*EbNo))\n",
    "    noise_mean = 0\n",
    "    no_errors = 0\n",
    "    nn = N\n",
    "    noise = noise_std * np.random.randn(nn,n_channel)\n",
    "    encoded_signal = encoder.predict(test_data) \n",
    "    final_signal = encoded_signal + noise\n",
    "    pred_final_signal =  decoder.predict(final_signal)\n",
    "    pred_output = np.argmax(pred_final_signal,axis=1)\n",
    "    no_errors = (pred_output != test_label)\n",
    "    no_errors =  no_errors.astype(int).sum()\n",
    "    ber[n] = no_errors / nn \n",
    "    print ('SNR:',EbNodB_range[n],'BER:',ber[n])"
   ]
  },
  {
   "cell_type": "code",
   "execution_count": 21,
   "metadata": {},
   "outputs": [
    {
     "data": {
      "text/plain": [
       "<matplotlib.legend.Legend at 0x23856a17df0>"
      ]
     },
     "execution_count": 21,
     "metadata": {},
     "output_type": "execute_result"
    },
    {
     "data": {
      "image/png": "[encoded data removed]",
      "text/plain": [
       "<Figure size 432x288 with 1 Axes>"
      ]
     },
     "metadata": {
      "needs_background": "light"
     },
     "output_type": "display_data"
    }
   ],
   "source": [
    "import matplotlib.pyplot as plt\n",
    "plt.plot(EbNodB_range, ber, 'bo',label='Autoencoder(4,4)')\n",
    "#plt.plot(list(EbNodB_range), ber_theory, 'ro-',label='BPSK BER')\n",
    "plt.yscale('log')\n",
    "plt.xlabel('SNR Range')\n",
    "plt.ylabel('Block Error Rate')\n",
    "plt.grid()\n",
    "plt.legend(loc='upper right',ncol = 1)"
   ]
  },
  {
   "cell_type": "code",
   "execution_count": 22,
   "metadata": {},
   "outputs": [
    {
     "data": {
      "text/plain": [
       "<Figure size 432x288 with 0 Axes>"
      ]
     },
     "metadata": {},
     "output_type": "display_data"
    }
   ],
   "source": [
    "plt.savefig('AutoEncoder_4_4_BER_matplotlib')\n",
    "plt.show()"
   ]
  },
  {
   "cell_type": "code",
   "execution_count": null,
   "metadata": {
    "collapsed": true
   },
   "outputs": [],
   "source": []
  }
 ],
 "metadata": {
  "anaconda-cloud": {},
  "kernelspec": {
   "display_name": "Python 3",
   "language": "python",
   "name": "python3"
  },
  "language_info": {
   "codemirror_mode": {
    "name": "ipython",
    "version": 3
   },
   "file_extension": ".py",
   "mimetype": "text/x-python",
   "name": "python",
   "nbconvert_exporter": "python",
   "pygments_lexer": "ipython3",
   "version": "3.10.0"
  }
 },
 "nbformat": 4,
 "nbformat_minor": 2
}
